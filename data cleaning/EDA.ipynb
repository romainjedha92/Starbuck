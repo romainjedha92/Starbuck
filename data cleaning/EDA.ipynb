{
 "cells": [
  {
   "cell_type": "code",
   "execution_count": 279,
   "metadata": {},
   "outputs": [
    {
     "data": {
      "text/plain": [
       "'rajouter une colonne qui va contenir la population/nombre de starbucks dans une ville\\n1er graph --> ville avec maximum de starbucks\\n2e graph --> minimum de starbucks par capital'"
      ]
     },
     "execution_count": 279,
     "metadata": {},
     "output_type": "execute_result"
    }
   ],
   "source": [
    "'''rajouter une colonne qui va contenir la population/nombre de starbucks dans une ville\n",
    "1er graph --> ville avec maximum de starbucks\n",
    "2e graph --> minimum de starbucks par capital'''"
   ]
  },
  {
   "cell_type": "code",
   "execution_count": 280,
   "metadata": {},
   "outputs": [],
   "source": [
    "import pandas as pd"
   ]
  },
  {
   "cell_type": "code",
   "execution_count": 281,
   "metadata": {},
   "outputs": [],
   "source": [
    "df = pd.read_csv(\"df_merge_clean.csv\")"
   ]
  },
  {
   "cell_type": "code",
   "execution_count": 282,
   "metadata": {},
   "outputs": [],
   "source": [
    "df['nb_personne_starbucks'] = df['POPESTIMATE']/df['Count']"
   ]
  },
  {
   "cell_type": "code",
   "execution_count": 283,
   "metadata": {},
   "outputs": [
    {
     "data": {
      "text/html": [
       "<div>\n",
       "<style scoped>\n",
       "    .dataframe tbody tr th:only-of-type {\n",
       "        vertical-align: middle;\n",
       "    }\n",
       "\n",
       "    .dataframe tbody tr th {\n",
       "        vertical-align: top;\n",
       "    }\n",
       "\n",
       "    .dataframe thead th {\n",
       "        text-align: right;\n",
       "    }\n",
       "</style>\n",
       "<table border=\"1\" class=\"dataframe\">\n",
       "  <thead>\n",
       "    <tr style=\"text-align: right;\">\n",
       "      <th></th>\n",
       "      <th>City_x_x</th>\n",
       "      <th>2019</th>\n",
       "      <th>2020</th>\n",
       "      <th>2021</th>\n",
       "      <th>State/Province_x</th>\n",
       "      <th>City_State_x</th>\n",
       "      <th>Matched_Index</th>\n",
       "      <th>Count</th>\n",
       "      <th>City_y</th>\n",
       "      <th>State/Province_y</th>\n",
       "      <th>...</th>\n",
       "      <th>AGE8084_FEMALE</th>\n",
       "      <th>AGE85PLUS_TOTAL</th>\n",
       "      <th>AGE85PLUS_MALE</th>\n",
       "      <th>AGE85PLUS_FEMALE</th>\n",
       "      <th>MEDIAN_AGE_TOTAL</th>\n",
       "      <th>MEDIAN_AGE_MALE</th>\n",
       "      <th>MEDIAN_AGE_FEMALE</th>\n",
       "      <th>City_x_y</th>\n",
       "      <th>State_x</th>\n",
       "      <th>nb_personne_starbucks</th>\n",
       "    </tr>\n",
       "  </thead>\n",
       "  <tbody>\n",
       "    <tr>\n",
       "      <th>0</th>\n",
       "      <td>Akron</td>\n",
       "      <td>51827</td>\n",
       "      <td>55232.0</td>\n",
       "      <td>58735.0</td>\n",
       "      <td>OH</td>\n",
       "      <td>Akron, OH</td>\n",
       "      <td>22</td>\n",
       "      <td>10</td>\n",
       "      <td>Akron</td>\n",
       "      <td>OH</td>\n",
       "      <td>...</td>\n",
       "      <td>8206.0</td>\n",
       "      <td>13859.0</td>\n",
       "      <td>4963.0</td>\n",
       "      <td>8896.0</td>\n",
       "      <td>40.7</td>\n",
       "      <td>39.7</td>\n",
       "      <td>41.8</td>\n",
       "      <td>Akron</td>\n",
       "      <td>OH</td>\n",
       "      <td>70001.500000</td>\n",
       "    </tr>\n",
       "    <tr>\n",
       "      <th>1</th>\n",
       "      <td>Albany</td>\n",
       "      <td>38118</td>\n",
       "      <td>42006.0</td>\n",
       "      <td>45619.0</td>\n",
       "      <td>GA</td>\n",
       "      <td>Albany, GA</td>\n",
       "      <td>29</td>\n",
       "      <td>3</td>\n",
       "      <td>Albany</td>\n",
       "      <td>GA</td>\n",
       "      <td>...</td>\n",
       "      <td>1635.0</td>\n",
       "      <td>2383.0</td>\n",
       "      <td>738.0</td>\n",
       "      <td>1645.0</td>\n",
       "      <td>37.6</td>\n",
       "      <td>35.9</td>\n",
       "      <td>39.0</td>\n",
       "      <td>Albany</td>\n",
       "      <td>GA</td>\n",
       "      <td>49257.666667</td>\n",
       "    </tr>\n",
       "    <tr>\n",
       "      <th>2</th>\n",
       "      <td>Lebanon</td>\n",
       "      <td>44501</td>\n",
       "      <td>48357.0</td>\n",
       "      <td>52695.0</td>\n",
       "      <td>OR</td>\n",
       "      <td>Lebanon, OR</td>\n",
       "      <td>1755</td>\n",
       "      <td>1</td>\n",
       "      <td>Lebanon</td>\n",
       "      <td>OR</td>\n",
       "      <td>...</td>\n",
       "      <td>1543.0</td>\n",
       "      <td>2176.0</td>\n",
       "      <td>832.0</td>\n",
       "      <td>1344.0</td>\n",
       "      <td>39.8</td>\n",
       "      <td>39.0</td>\n",
       "      <td>40.6</td>\n",
       "      <td>Lebanon</td>\n",
       "      <td>OR</td>\n",
       "      <td>129839.000000</td>\n",
       "    </tr>\n",
       "    <tr>\n",
       "      <th>3</th>\n",
       "      <td>Troy</td>\n",
       "      <td>59477</td>\n",
       "      <td>63951.0</td>\n",
       "      <td>67788.0</td>\n",
       "      <td>NY</td>\n",
       "      <td>Troy, NY</td>\n",
       "      <td>3228</td>\n",
       "      <td>1</td>\n",
       "      <td>Troy</td>\n",
       "      <td>NY</td>\n",
       "      <td>...</td>\n",
       "      <td>10344.0</td>\n",
       "      <td>18979.0</td>\n",
       "      <td>6456.0</td>\n",
       "      <td>12523.0</td>\n",
       "      <td>40.6</td>\n",
       "      <td>39.4</td>\n",
       "      <td>41.7</td>\n",
       "      <td>Troy</td>\n",
       "      <td>NY</td>\n",
       "      <td>899286.000000</td>\n",
       "    </tr>\n",
       "    <tr>\n",
       "      <th>4</th>\n",
       "      <td>Albuquerque</td>\n",
       "      <td>44884</td>\n",
       "      <td>48514.0</td>\n",
       "      <td>52263.0</td>\n",
       "      <td>NM</td>\n",
       "      <td>Albuquerque, NM</td>\n",
       "      <td>32</td>\n",
       "      <td>37</td>\n",
       "      <td>Albuquerque</td>\n",
       "      <td>NM</td>\n",
       "      <td>...</td>\n",
       "      <td>9926.0</td>\n",
       "      <td>15532.0</td>\n",
       "      <td>5999.0</td>\n",
       "      <td>9533.0</td>\n",
       "      <td>39.2</td>\n",
       "      <td>38.2</td>\n",
       "      <td>40.4</td>\n",
       "      <td>Albuquerque</td>\n",
       "      <td>NM</td>\n",
       "      <td>24817.810811</td>\n",
       "    </tr>\n",
       "    <tr>\n",
       "      <th>...</th>\n",
       "      <td>...</td>\n",
       "      <td>...</td>\n",
       "      <td>...</td>\n",
       "      <td>...</td>\n",
       "      <td>...</td>\n",
       "      <td>...</td>\n",
       "      <td>...</td>\n",
       "      <td>...</td>\n",
       "      <td>...</td>\n",
       "      <td>...</td>\n",
       "      <td>...</td>\n",
       "      <td>...</td>\n",
       "      <td>...</td>\n",
       "      <td>...</td>\n",
       "      <td>...</td>\n",
       "      <td>...</td>\n",
       "      <td>...</td>\n",
       "      <td>...</td>\n",
       "      <td>...</td>\n",
       "      <td>...</td>\n",
       "      <td>...</td>\n",
       "    </tr>\n",
       "    <tr>\n",
       "      <th>291</th>\n",
       "      <td>Worcester</td>\n",
       "      <td>55671</td>\n",
       "      <td>60364.0</td>\n",
       "      <td>64540.0</td>\n",
       "      <td>MACT</td>\n",
       "      <td>Worcester, MACT</td>\n",
       "      <td>3576</td>\n",
       "      <td>3</td>\n",
       "      <td>Worcester</td>\n",
       "      <td>MA</td>\n",
       "      <td>...</td>\n",
       "      <td>10094.0</td>\n",
       "      <td>18179.0</td>\n",
       "      <td>6041.0</td>\n",
       "      <td>12138.0</td>\n",
       "      <td>40.4</td>\n",
       "      <td>39.4</td>\n",
       "      <td>41.4</td>\n",
       "      <td>Worcester</td>\n",
       "      <td>MA</td>\n",
       "      <td>326149.000000</td>\n",
       "    </tr>\n",
       "    <tr>\n",
       "      <th>292</th>\n",
       "      <td>Yakima</td>\n",
       "      <td>43208</td>\n",
       "      <td>47315.0</td>\n",
       "      <td>50872.0</td>\n",
       "      <td>WA</td>\n",
       "      <td>Yakima, WA</td>\n",
       "      <td>3585</td>\n",
       "      <td>11</td>\n",
       "      <td>Yakima</td>\n",
       "      <td>WA</td>\n",
       "      <td>...</td>\n",
       "      <td>2287.0</td>\n",
       "      <td>3808.0</td>\n",
       "      <td>1444.0</td>\n",
       "      <td>2364.0</td>\n",
       "      <td>33.1</td>\n",
       "      <td>32.4</td>\n",
       "      <td>33.7</td>\n",
       "      <td>Yakima</td>\n",
       "      <td>WA</td>\n",
       "      <td>23275.909091</td>\n",
       "    </tr>\n",
       "    <tr>\n",
       "      <th>293</th>\n",
       "      <td>Hanover</td>\n",
       "      <td>51295</td>\n",
       "      <td>54808.0</td>\n",
       "      <td>57870.0</td>\n",
       "      <td>PA</td>\n",
       "      <td>Hanover, PA</td>\n",
       "      <td>1347</td>\n",
       "      <td>2</td>\n",
       "      <td>Hanover</td>\n",
       "      <td>PA</td>\n",
       "      <td>...</td>\n",
       "      <td>5294.0</td>\n",
       "      <td>9061.0</td>\n",
       "      <td>3198.0</td>\n",
       "      <td>5863.0</td>\n",
       "      <td>41.0</td>\n",
       "      <td>40.0</td>\n",
       "      <td>42.1</td>\n",
       "      <td>Hanover</td>\n",
       "      <td>PA</td>\n",
       "      <td>229348.000000</td>\n",
       "    </tr>\n",
       "    <tr>\n",
       "      <th>294</th>\n",
       "      <td>Boardman</td>\n",
       "      <td>42450</td>\n",
       "      <td>46009.0</td>\n",
       "      <td>48904.0</td>\n",
       "      <td>OHPA</td>\n",
       "      <td>Boardman, OHPA</td>\n",
       "      <td>298</td>\n",
       "      <td>1</td>\n",
       "      <td>Boardman</td>\n",
       "      <td>OH</td>\n",
       "      <td>...</td>\n",
       "      <td>8086.0</td>\n",
       "      <td>14291.0</td>\n",
       "      <td>4840.0</td>\n",
       "      <td>9451.0</td>\n",
       "      <td>43.8</td>\n",
       "      <td>42.0</td>\n",
       "      <td>45.8</td>\n",
       "      <td>Boardman</td>\n",
       "      <td>OH</td>\n",
       "      <td>538069.000000</td>\n",
       "    </tr>\n",
       "    <tr>\n",
       "      <th>295</th>\n",
       "      <td>Yuma</td>\n",
       "      <td>37624</td>\n",
       "      <td>42732.0</td>\n",
       "      <td>44299.0</td>\n",
       "      <td>AZ</td>\n",
       "      <td>Yuma, AZ</td>\n",
       "      <td>3605</td>\n",
       "      <td>8</td>\n",
       "      <td>Yuma</td>\n",
       "      <td>AZ</td>\n",
       "      <td>...</td>\n",
       "      <td>3239.0</td>\n",
       "      <td>5159.0</td>\n",
       "      <td>2575.0</td>\n",
       "      <td>2584.0</td>\n",
       "      <td>35.2</td>\n",
       "      <td>33.9</td>\n",
       "      <td>36.9</td>\n",
       "      <td>Yuma</td>\n",
       "      <td>AZ</td>\n",
       "      <td>25873.750000</td>\n",
       "    </tr>\n",
       "  </tbody>\n",
       "</table>\n",
       "<p>296 rows × 114 columns</p>\n",
       "</div>"
      ],
      "text/plain": [
       "        City_x_x   2019     2020     2021 State/Province_x     City_State_x  \\\n",
       "0          Akron  51827  55232.0  58735.0               OH        Akron, OH   \n",
       "1         Albany  38118  42006.0  45619.0               GA       Albany, GA   \n",
       "2        Lebanon  44501  48357.0  52695.0               OR      Lebanon, OR   \n",
       "3           Troy  59477  63951.0  67788.0               NY         Troy, NY   \n",
       "4    Albuquerque  44884  48514.0  52263.0               NM  Albuquerque, NM   \n",
       "..           ...    ...      ...      ...              ...              ...   \n",
       "291    Worcester  55671  60364.0  64540.0             MACT  Worcester, MACT   \n",
       "292       Yakima  43208  47315.0  50872.0               WA       Yakima, WA   \n",
       "293      Hanover  51295  54808.0  57870.0               PA      Hanover, PA   \n",
       "294     Boardman  42450  46009.0  48904.0             OHPA   Boardman, OHPA   \n",
       "295         Yuma  37624  42732.0  44299.0               AZ         Yuma, AZ   \n",
       "\n",
       "     Matched_Index  Count       City_y State/Province_y  ...  AGE8084_FEMALE  \\\n",
       "0               22     10        Akron               OH  ...          8206.0   \n",
       "1               29      3       Albany               GA  ...          1635.0   \n",
       "2             1755      1      Lebanon               OR  ...          1543.0   \n",
       "3             3228      1         Troy               NY  ...         10344.0   \n",
       "4               32     37  Albuquerque               NM  ...          9926.0   \n",
       "..             ...    ...          ...              ...  ...             ...   \n",
       "291           3576      3    Worcester               MA  ...         10094.0   \n",
       "292           3585     11       Yakima               WA  ...          2287.0   \n",
       "293           1347      2      Hanover               PA  ...          5294.0   \n",
       "294            298      1     Boardman               OH  ...          8086.0   \n",
       "295           3605      8         Yuma               AZ  ...          3239.0   \n",
       "\n",
       "     AGE85PLUS_TOTAL AGE85PLUS_MALE AGE85PLUS_FEMALE MEDIAN_AGE_TOTAL  \\\n",
       "0            13859.0         4963.0           8896.0             40.7   \n",
       "1             2383.0          738.0           1645.0             37.6   \n",
       "2             2176.0          832.0           1344.0             39.8   \n",
       "3            18979.0         6456.0          12523.0             40.6   \n",
       "4            15532.0         5999.0           9533.0             39.2   \n",
       "..               ...            ...              ...              ...   \n",
       "291          18179.0         6041.0          12138.0             40.4   \n",
       "292           3808.0         1444.0           2364.0             33.1   \n",
       "293           9061.0         3198.0           5863.0             41.0   \n",
       "294          14291.0         4840.0           9451.0             43.8   \n",
       "295           5159.0         2575.0           2584.0             35.2   \n",
       "\n",
       "     MEDIAN_AGE_MALE  MEDIAN_AGE_FEMALE     City_x_y State_x  \\\n",
       "0               39.7               41.8        Akron      OH   \n",
       "1               35.9               39.0       Albany      GA   \n",
       "2               39.0               40.6      Lebanon      OR   \n",
       "3               39.4               41.7         Troy      NY   \n",
       "4               38.2               40.4  Albuquerque      NM   \n",
       "..               ...                ...          ...     ...   \n",
       "291             39.4               41.4    Worcester      MA   \n",
       "292             32.4               33.7       Yakima      WA   \n",
       "293             40.0               42.1      Hanover      PA   \n",
       "294             42.0               45.8     Boardman      OH   \n",
       "295             33.9               36.9         Yuma      AZ   \n",
       "\n",
       "    nb_personne_starbucks  \n",
       "0            70001.500000  \n",
       "1            49257.666667  \n",
       "2           129839.000000  \n",
       "3           899286.000000  \n",
       "4            24817.810811  \n",
       "..                    ...  \n",
       "291         326149.000000  \n",
       "292          23275.909091  \n",
       "293         229348.000000  \n",
       "294         538069.000000  \n",
       "295          25873.750000  \n",
       "\n",
       "[296 rows x 114 columns]"
      ]
     },
     "execution_count": 283,
     "metadata": {},
     "output_type": "execute_result"
    }
   ],
   "source": [
    "df"
   ]
  },
  {
   "cell_type": "code",
   "execution_count": 284,
   "metadata": {},
   "outputs": [
    {
     "name": "stdout",
     "output_type": "stream",
     "text": [
      "<class 'pandas.core.frame.DataFrame'>\n",
      "RangeIndex: 296 entries, 0 to 295\n",
      "Columns: 114 entries, City_x_x to nb_personne_starbucks\n",
      "dtypes: float64(98), int64(3), object(13)\n",
      "memory usage: 263.8+ KB\n"
     ]
    }
   ],
   "source": [
    "df.info()"
   ]
  },
  {
   "cell_type": "code",
   "execution_count": 285,
   "metadata": {},
   "outputs": [],
   "source": [
    "df_age_test = df[['POPESTIMATE','POPEST_MALE',\t'POPEST_FEMALE',\n",
    "'AGE1824_MALE','AGE1824_FEMALE','AGE2544_MALE','AGE2544_FEMALE','AGE4564_MALE','AGE4564_FEMALE','AGE65PLUS_MALE','AGE65PLUS_FEMALE']]"
   ]
  },
  {
   "cell_type": "code",
   "execution_count": 286,
   "metadata": {},
   "outputs": [
    {
     "data": {
      "text/html": [
       "<div>\n",
       "<style scoped>\n",
       "    .dataframe tbody tr th:only-of-type {\n",
       "        vertical-align: middle;\n",
       "    }\n",
       "\n",
       "    .dataframe tbody tr th {\n",
       "        vertical-align: top;\n",
       "    }\n",
       "\n",
       "    .dataframe thead th {\n",
       "        text-align: right;\n",
       "    }\n",
       "</style>\n",
       "<table border=\"1\" class=\"dataframe\">\n",
       "  <thead>\n",
       "    <tr style=\"text-align: right;\">\n",
       "      <th></th>\n",
       "      <th>POPESTIMATE</th>\n",
       "      <th>POPEST_MALE</th>\n",
       "      <th>POPEST_FEMALE</th>\n",
       "      <th>AGE1824_MALE</th>\n",
       "      <th>AGE1824_FEMALE</th>\n",
       "      <th>AGE2544_MALE</th>\n",
       "      <th>AGE2544_FEMALE</th>\n",
       "      <th>AGE4564_MALE</th>\n",
       "      <th>AGE4564_FEMALE</th>\n",
       "      <th>AGE65PLUS_MALE</th>\n",
       "      <th>AGE65PLUS_FEMALE</th>\n",
       "    </tr>\n",
       "  </thead>\n",
       "  <tbody>\n",
       "    <tr>\n",
       "      <th>0</th>\n",
       "      <td>700015.0</td>\n",
       "      <td>341789.0</td>\n",
       "      <td>358226.0</td>\n",
       "      <td>33660.0</td>\n",
       "      <td>34826.0</td>\n",
       "      <td>87019.0</td>\n",
       "      <td>87574.0</td>\n",
       "      <td>90660.0</td>\n",
       "      <td>94147.0</td>\n",
       "      <td>58419.0</td>\n",
       "      <td>71940.0</td>\n",
       "    </tr>\n",
       "    <tr>\n",
       "      <th>1</th>\n",
       "      <td>147773.0</td>\n",
       "      <td>70139.0</td>\n",
       "      <td>77634.0</td>\n",
       "      <td>7198.0</td>\n",
       "      <td>7672.0</td>\n",
       "      <td>17452.0</td>\n",
       "      <td>19614.0</td>\n",
       "      <td>16685.0</td>\n",
       "      <td>19050.0</td>\n",
       "      <td>10735.0</td>\n",
       "      <td>14046.0</td>\n",
       "    </tr>\n",
       "    <tr>\n",
       "      <th>2</th>\n",
       "      <td>129839.0</td>\n",
       "      <td>64524.0</td>\n",
       "      <td>65315.0</td>\n",
       "      <td>5011.0</td>\n",
       "      <td>4834.0</td>\n",
       "      <td>17207.0</td>\n",
       "      <td>17052.0</td>\n",
       "      <td>15844.0</td>\n",
       "      <td>16036.0</td>\n",
       "      <td>11658.0</td>\n",
       "      <td>13211.0</td>\n",
       "    </tr>\n",
       "    <tr>\n",
       "      <th>3</th>\n",
       "      <td>899286.0</td>\n",
       "      <td>442304.0</td>\n",
       "      <td>456982.0</td>\n",
       "      <td>47626.0</td>\n",
       "      <td>47352.0</td>\n",
       "      <td>115194.0</td>\n",
       "      <td>114438.0</td>\n",
       "      <td>115942.0</td>\n",
       "      <td>119736.0</td>\n",
       "      <td>74812.0</td>\n",
       "      <td>91177.0</td>\n",
       "    </tr>\n",
       "    <tr>\n",
       "      <th>4</th>\n",
       "      <td>918259.0</td>\n",
       "      <td>453922.0</td>\n",
       "      <td>464337.0</td>\n",
       "      <td>40782.0</td>\n",
       "      <td>39180.0</td>\n",
       "      <td>127855.0</td>\n",
       "      <td>124010.0</td>\n",
       "      <td>111130.0</td>\n",
       "      <td>115539.0</td>\n",
       "      <td>73943.0</td>\n",
       "      <td>89719.0</td>\n",
       "    </tr>\n",
       "    <tr>\n",
       "      <th>...</th>\n",
       "      <td>...</td>\n",
       "      <td>...</td>\n",
       "      <td>...</td>\n",
       "      <td>...</td>\n",
       "      <td>...</td>\n",
       "      <td>...</td>\n",
       "      <td>...</td>\n",
       "      <td>...</td>\n",
       "      <td>...</td>\n",
       "      <td>...</td>\n",
       "      <td>...</td>\n",
       "    </tr>\n",
       "    <tr>\n",
       "      <th>291</th>\n",
       "      <td>978447.0</td>\n",
       "      <td>485933.0</td>\n",
       "      <td>492514.0</td>\n",
       "      <td>46335.0</td>\n",
       "      <td>45155.0</td>\n",
       "      <td>127349.0</td>\n",
       "      <td>124525.0</td>\n",
       "      <td>135167.0</td>\n",
       "      <td>136066.0</td>\n",
       "      <td>74022.0</td>\n",
       "      <td>89074.0</td>\n",
       "    </tr>\n",
       "    <tr>\n",
       "      <th>292</th>\n",
       "      <td>256035.0</td>\n",
       "      <td>128399.0</td>\n",
       "      <td>127636.0</td>\n",
       "      <td>12527.0</td>\n",
       "      <td>11948.0</td>\n",
       "      <td>32906.0</td>\n",
       "      <td>32377.0</td>\n",
       "      <td>27643.0</td>\n",
       "      <td>27097.0</td>\n",
       "      <td>16805.0</td>\n",
       "      <td>19388.0</td>\n",
       "    </tr>\n",
       "    <tr>\n",
       "      <th>293</th>\n",
       "      <td>458696.0</td>\n",
       "      <td>228366.0</td>\n",
       "      <td>230330.0</td>\n",
       "      <td>18926.0</td>\n",
       "      <td>17453.0</td>\n",
       "      <td>57856.0</td>\n",
       "      <td>56830.0</td>\n",
       "      <td>61581.0</td>\n",
       "      <td>61763.0</td>\n",
       "      <td>38335.0</td>\n",
       "      <td>45392.0</td>\n",
       "    </tr>\n",
       "    <tr>\n",
       "      <th>294</th>\n",
       "      <td>538069.0</td>\n",
       "      <td>265881.0</td>\n",
       "      <td>272188.0</td>\n",
       "      <td>22833.0</td>\n",
       "      <td>21127.0</td>\n",
       "      <td>63601.0</td>\n",
       "      <td>60260.0</td>\n",
       "      <td>70741.0</td>\n",
       "      <td>72378.0</td>\n",
       "      <td>52939.0</td>\n",
       "      <td>65943.0</td>\n",
       "    </tr>\n",
       "    <tr>\n",
       "      <th>295</th>\n",
       "      <td>206990.0</td>\n",
       "      <td>107309.0</td>\n",
       "      <td>99681.0</td>\n",
       "      <td>12808.0</td>\n",
       "      <td>9232.0</td>\n",
       "      <td>28773.0</td>\n",
       "      <td>23780.0</td>\n",
       "      <td>19683.0</td>\n",
       "      <td>20251.0</td>\n",
       "      <td>19586.0</td>\n",
       "      <td>20983.0</td>\n",
       "    </tr>\n",
       "  </tbody>\n",
       "</table>\n",
       "<p>296 rows × 11 columns</p>\n",
       "</div>"
      ],
      "text/plain": [
       "     POPESTIMATE  POPEST_MALE  POPEST_FEMALE  AGE1824_MALE  AGE1824_FEMALE  \\\n",
       "0       700015.0     341789.0       358226.0       33660.0         34826.0   \n",
       "1       147773.0      70139.0        77634.0        7198.0          7672.0   \n",
       "2       129839.0      64524.0        65315.0        5011.0          4834.0   \n",
       "3       899286.0     442304.0       456982.0       47626.0         47352.0   \n",
       "4       918259.0     453922.0       464337.0       40782.0         39180.0   \n",
       "..           ...          ...            ...           ...             ...   \n",
       "291     978447.0     485933.0       492514.0       46335.0         45155.0   \n",
       "292     256035.0     128399.0       127636.0       12527.0         11948.0   \n",
       "293     458696.0     228366.0       230330.0       18926.0         17453.0   \n",
       "294     538069.0     265881.0       272188.0       22833.0         21127.0   \n",
       "295     206990.0     107309.0        99681.0       12808.0          9232.0   \n",
       "\n",
       "     AGE2544_MALE  AGE2544_FEMALE  AGE4564_MALE  AGE4564_FEMALE  \\\n",
       "0         87019.0         87574.0       90660.0         94147.0   \n",
       "1         17452.0         19614.0       16685.0         19050.0   \n",
       "2         17207.0         17052.0       15844.0         16036.0   \n",
       "3        115194.0        114438.0      115942.0        119736.0   \n",
       "4        127855.0        124010.0      111130.0        115539.0   \n",
       "..            ...             ...           ...             ...   \n",
       "291      127349.0        124525.0      135167.0        136066.0   \n",
       "292       32906.0         32377.0       27643.0         27097.0   \n",
       "293       57856.0         56830.0       61581.0         61763.0   \n",
       "294       63601.0         60260.0       70741.0         72378.0   \n",
       "295       28773.0         23780.0       19683.0         20251.0   \n",
       "\n",
       "     AGE65PLUS_MALE  AGE65PLUS_FEMALE  \n",
       "0           58419.0           71940.0  \n",
       "1           10735.0           14046.0  \n",
       "2           11658.0           13211.0  \n",
       "3           74812.0           91177.0  \n",
       "4           73943.0           89719.0  \n",
       "..              ...               ...  \n",
       "291         74022.0           89074.0  \n",
       "292         16805.0           19388.0  \n",
       "293         38335.0           45392.0  \n",
       "294         52939.0           65943.0  \n",
       "295         19586.0           20983.0  \n",
       "\n",
       "[296 rows x 11 columns]"
      ]
     },
     "execution_count": 286,
     "metadata": {},
     "output_type": "execute_result"
    }
   ],
   "source": [
    "df_age_test"
   ]
  },
  {
   "cell_type": "code",
   "execution_count": 287,
   "metadata": {},
   "outputs": [],
   "source": [
    "df_age_male = df[['AGE1824_MALE','AGE2544_MALE','AGE4564_MALE','AGE65PLUS_MALE']]"
   ]
  },
  {
   "cell_type": "code",
   "execution_count": 288,
   "metadata": {},
   "outputs": [
    {
     "data": {
      "text/html": [
       "<div>\n",
       "<style scoped>\n",
       "    .dataframe tbody tr th:only-of-type {\n",
       "        vertical-align: middle;\n",
       "    }\n",
       "\n",
       "    .dataframe tbody tr th {\n",
       "        vertical-align: top;\n",
       "    }\n",
       "\n",
       "    .dataframe thead th {\n",
       "        text-align: right;\n",
       "    }\n",
       "</style>\n",
       "<table border=\"1\" class=\"dataframe\">\n",
       "  <thead>\n",
       "    <tr style=\"text-align: right;\">\n",
       "      <th></th>\n",
       "      <th>AGE1824_MALE</th>\n",
       "      <th>AGE2544_MALE</th>\n",
       "      <th>AGE4564_MALE</th>\n",
       "      <th>AGE65PLUS_MALE</th>\n",
       "    </tr>\n",
       "  </thead>\n",
       "  <tbody>\n",
       "    <tr>\n",
       "      <th>0</th>\n",
       "      <td>33660.0</td>\n",
       "      <td>87019.0</td>\n",
       "      <td>90660.0</td>\n",
       "      <td>58419.0</td>\n",
       "    </tr>\n",
       "    <tr>\n",
       "      <th>1</th>\n",
       "      <td>7198.0</td>\n",
       "      <td>17452.0</td>\n",
       "      <td>16685.0</td>\n",
       "      <td>10735.0</td>\n",
       "    </tr>\n",
       "    <tr>\n",
       "      <th>2</th>\n",
       "      <td>5011.0</td>\n",
       "      <td>17207.0</td>\n",
       "      <td>15844.0</td>\n",
       "      <td>11658.0</td>\n",
       "    </tr>\n",
       "    <tr>\n",
       "      <th>3</th>\n",
       "      <td>47626.0</td>\n",
       "      <td>115194.0</td>\n",
       "      <td>115942.0</td>\n",
       "      <td>74812.0</td>\n",
       "    </tr>\n",
       "    <tr>\n",
       "      <th>4</th>\n",
       "      <td>40782.0</td>\n",
       "      <td>127855.0</td>\n",
       "      <td>111130.0</td>\n",
       "      <td>73943.0</td>\n",
       "    </tr>\n",
       "    <tr>\n",
       "      <th>...</th>\n",
       "      <td>...</td>\n",
       "      <td>...</td>\n",
       "      <td>...</td>\n",
       "      <td>...</td>\n",
       "    </tr>\n",
       "    <tr>\n",
       "      <th>291</th>\n",
       "      <td>46335.0</td>\n",
       "      <td>127349.0</td>\n",
       "      <td>135167.0</td>\n",
       "      <td>74022.0</td>\n",
       "    </tr>\n",
       "    <tr>\n",
       "      <th>292</th>\n",
       "      <td>12527.0</td>\n",
       "      <td>32906.0</td>\n",
       "      <td>27643.0</td>\n",
       "      <td>16805.0</td>\n",
       "    </tr>\n",
       "    <tr>\n",
       "      <th>293</th>\n",
       "      <td>18926.0</td>\n",
       "      <td>57856.0</td>\n",
       "      <td>61581.0</td>\n",
       "      <td>38335.0</td>\n",
       "    </tr>\n",
       "    <tr>\n",
       "      <th>294</th>\n",
       "      <td>22833.0</td>\n",
       "      <td>63601.0</td>\n",
       "      <td>70741.0</td>\n",
       "      <td>52939.0</td>\n",
       "    </tr>\n",
       "    <tr>\n",
       "      <th>295</th>\n",
       "      <td>12808.0</td>\n",
       "      <td>28773.0</td>\n",
       "      <td>19683.0</td>\n",
       "      <td>19586.0</td>\n",
       "    </tr>\n",
       "  </tbody>\n",
       "</table>\n",
       "<p>296 rows × 4 columns</p>\n",
       "</div>"
      ],
      "text/plain": [
       "     AGE1824_MALE  AGE2544_MALE  AGE4564_MALE  AGE65PLUS_MALE\n",
       "0         33660.0       87019.0       90660.0         58419.0\n",
       "1          7198.0       17452.0       16685.0         10735.0\n",
       "2          5011.0       17207.0       15844.0         11658.0\n",
       "3         47626.0      115194.0      115942.0         74812.0\n",
       "4         40782.0      127855.0      111130.0         73943.0\n",
       "..            ...           ...           ...             ...\n",
       "291       46335.0      127349.0      135167.0         74022.0\n",
       "292       12527.0       32906.0       27643.0         16805.0\n",
       "293       18926.0       57856.0       61581.0         38335.0\n",
       "294       22833.0       63601.0       70741.0         52939.0\n",
       "295       12808.0       28773.0       19683.0         19586.0\n",
       "\n",
       "[296 rows x 4 columns]"
      ]
     },
     "execution_count": 288,
     "metadata": {},
     "output_type": "execute_result"
    }
   ],
   "source": [
    "df_age_male"
   ]
  },
  {
   "cell_type": "code",
   "execution_count": 289,
   "metadata": {},
   "outputs": [],
   "source": [
    "df_age_male = df_age_male.rename(columns=lambda x: ''.join(filter(str.isdigit, str(x))))"
   ]
  },
  {
   "cell_type": "code",
   "execution_count": 290,
   "metadata": {},
   "outputs": [
    {
     "data": {
      "text/html": [
       "<div>\n",
       "<style scoped>\n",
       "    .dataframe tbody tr th:only-of-type {\n",
       "        vertical-align: middle;\n",
       "    }\n",
       "\n",
       "    .dataframe tbody tr th {\n",
       "        vertical-align: top;\n",
       "    }\n",
       "\n",
       "    .dataframe thead th {\n",
       "        text-align: right;\n",
       "    }\n",
       "</style>\n",
       "<table border=\"1\" class=\"dataframe\">\n",
       "  <thead>\n",
       "    <tr style=\"text-align: right;\">\n",
       "      <th></th>\n",
       "      <th>1824</th>\n",
       "      <th>2544</th>\n",
       "      <th>4564</th>\n",
       "      <th>65</th>\n",
       "    </tr>\n",
       "  </thead>\n",
       "  <tbody>\n",
       "    <tr>\n",
       "      <th>0</th>\n",
       "      <td>33660.0</td>\n",
       "      <td>87019.0</td>\n",
       "      <td>90660.0</td>\n",
       "      <td>58419.0</td>\n",
       "    </tr>\n",
       "    <tr>\n",
       "      <th>1</th>\n",
       "      <td>7198.0</td>\n",
       "      <td>17452.0</td>\n",
       "      <td>16685.0</td>\n",
       "      <td>10735.0</td>\n",
       "    </tr>\n",
       "    <tr>\n",
       "      <th>2</th>\n",
       "      <td>5011.0</td>\n",
       "      <td>17207.0</td>\n",
       "      <td>15844.0</td>\n",
       "      <td>11658.0</td>\n",
       "    </tr>\n",
       "    <tr>\n",
       "      <th>3</th>\n",
       "      <td>47626.0</td>\n",
       "      <td>115194.0</td>\n",
       "      <td>115942.0</td>\n",
       "      <td>74812.0</td>\n",
       "    </tr>\n",
       "    <tr>\n",
       "      <th>4</th>\n",
       "      <td>40782.0</td>\n",
       "      <td>127855.0</td>\n",
       "      <td>111130.0</td>\n",
       "      <td>73943.0</td>\n",
       "    </tr>\n",
       "    <tr>\n",
       "      <th>...</th>\n",
       "      <td>...</td>\n",
       "      <td>...</td>\n",
       "      <td>...</td>\n",
       "      <td>...</td>\n",
       "    </tr>\n",
       "    <tr>\n",
       "      <th>291</th>\n",
       "      <td>46335.0</td>\n",
       "      <td>127349.0</td>\n",
       "      <td>135167.0</td>\n",
       "      <td>74022.0</td>\n",
       "    </tr>\n",
       "    <tr>\n",
       "      <th>292</th>\n",
       "      <td>12527.0</td>\n",
       "      <td>32906.0</td>\n",
       "      <td>27643.0</td>\n",
       "      <td>16805.0</td>\n",
       "    </tr>\n",
       "    <tr>\n",
       "      <th>293</th>\n",
       "      <td>18926.0</td>\n",
       "      <td>57856.0</td>\n",
       "      <td>61581.0</td>\n",
       "      <td>38335.0</td>\n",
       "    </tr>\n",
       "    <tr>\n",
       "      <th>294</th>\n",
       "      <td>22833.0</td>\n",
       "      <td>63601.0</td>\n",
       "      <td>70741.0</td>\n",
       "      <td>52939.0</td>\n",
       "    </tr>\n",
       "    <tr>\n",
       "      <th>295</th>\n",
       "      <td>12808.0</td>\n",
       "      <td>28773.0</td>\n",
       "      <td>19683.0</td>\n",
       "      <td>19586.0</td>\n",
       "    </tr>\n",
       "  </tbody>\n",
       "</table>\n",
       "<p>296 rows × 4 columns</p>\n",
       "</div>"
      ],
      "text/plain": [
       "        1824      2544      4564       65\n",
       "0    33660.0   87019.0   90660.0  58419.0\n",
       "1     7198.0   17452.0   16685.0  10735.0\n",
       "2     5011.0   17207.0   15844.0  11658.0\n",
       "3    47626.0  115194.0  115942.0  74812.0\n",
       "4    40782.0  127855.0  111130.0  73943.0\n",
       "..       ...       ...       ...      ...\n",
       "291  46335.0  127349.0  135167.0  74022.0\n",
       "292  12527.0   32906.0   27643.0  16805.0\n",
       "293  18926.0   57856.0   61581.0  38335.0\n",
       "294  22833.0   63601.0   70741.0  52939.0\n",
       "295  12808.0   28773.0   19683.0  19586.0\n",
       "\n",
       "[296 rows x 4 columns]"
      ]
     },
     "execution_count": 290,
     "metadata": {},
     "output_type": "execute_result"
    }
   ],
   "source": [
    "df_age_male"
   ]
  },
  {
   "cell_type": "code",
   "execution_count": 291,
   "metadata": {},
   "outputs": [],
   "source": [
    "df_age_male['6585'] = df_age_male['65']"
   ]
  },
  {
   "cell_type": "code",
   "execution_count": 292,
   "metadata": {},
   "outputs": [],
   "source": [
    "df_age_male.drop(['65'], axis=1, inplace=True)"
   ]
  },
  {
   "cell_type": "code",
   "execution_count": 293,
   "metadata": {},
   "outputs": [],
   "source": [
    "df_age_male['POPEST_MALE'] = df['POPEST_MALE']"
   ]
  },
  {
   "cell_type": "code",
   "execution_count": 294,
   "metadata": {},
   "outputs": [
    {
     "data": {
      "text/html": [
       "<div>\n",
       "<style scoped>\n",
       "    .dataframe tbody tr th:only-of-type {\n",
       "        vertical-align: middle;\n",
       "    }\n",
       "\n",
       "    .dataframe tbody tr th {\n",
       "        vertical-align: top;\n",
       "    }\n",
       "\n",
       "    .dataframe thead th {\n",
       "        text-align: right;\n",
       "    }\n",
       "</style>\n",
       "<table border=\"1\" class=\"dataframe\">\n",
       "  <thead>\n",
       "    <tr style=\"text-align: right;\">\n",
       "      <th></th>\n",
       "      <th>1824</th>\n",
       "      <th>2544</th>\n",
       "      <th>4564</th>\n",
       "      <th>6585</th>\n",
       "      <th>POPEST_MALE</th>\n",
       "    </tr>\n",
       "  </thead>\n",
       "  <tbody>\n",
       "    <tr>\n",
       "      <th>0</th>\n",
       "      <td>33660</td>\n",
       "      <td>87019</td>\n",
       "      <td>90660</td>\n",
       "      <td>58419</td>\n",
       "      <td>341789</td>\n",
       "    </tr>\n",
       "    <tr>\n",
       "      <th>1</th>\n",
       "      <td>7198</td>\n",
       "      <td>17452</td>\n",
       "      <td>16685</td>\n",
       "      <td>10735</td>\n",
       "      <td>70139</td>\n",
       "    </tr>\n",
       "    <tr>\n",
       "      <th>2</th>\n",
       "      <td>5011</td>\n",
       "      <td>17207</td>\n",
       "      <td>15844</td>\n",
       "      <td>11658</td>\n",
       "      <td>64524</td>\n",
       "    </tr>\n",
       "    <tr>\n",
       "      <th>3</th>\n",
       "      <td>47626</td>\n",
       "      <td>115194</td>\n",
       "      <td>115942</td>\n",
       "      <td>74812</td>\n",
       "      <td>442304</td>\n",
       "    </tr>\n",
       "    <tr>\n",
       "      <th>4</th>\n",
       "      <td>40782</td>\n",
       "      <td>127855</td>\n",
       "      <td>111130</td>\n",
       "      <td>73943</td>\n",
       "      <td>453922</td>\n",
       "    </tr>\n",
       "    <tr>\n",
       "      <th>...</th>\n",
       "      <td>...</td>\n",
       "      <td>...</td>\n",
       "      <td>...</td>\n",
       "      <td>...</td>\n",
       "      <td>...</td>\n",
       "    </tr>\n",
       "    <tr>\n",
       "      <th>291</th>\n",
       "      <td>46335</td>\n",
       "      <td>127349</td>\n",
       "      <td>135167</td>\n",
       "      <td>74022</td>\n",
       "      <td>485933</td>\n",
       "    </tr>\n",
       "    <tr>\n",
       "      <th>292</th>\n",
       "      <td>12527</td>\n",
       "      <td>32906</td>\n",
       "      <td>27643</td>\n",
       "      <td>16805</td>\n",
       "      <td>128399</td>\n",
       "    </tr>\n",
       "    <tr>\n",
       "      <th>293</th>\n",
       "      <td>18926</td>\n",
       "      <td>57856</td>\n",
       "      <td>61581</td>\n",
       "      <td>38335</td>\n",
       "      <td>228366</td>\n",
       "    </tr>\n",
       "    <tr>\n",
       "      <th>294</th>\n",
       "      <td>22833</td>\n",
       "      <td>63601</td>\n",
       "      <td>70741</td>\n",
       "      <td>52939</td>\n",
       "      <td>265881</td>\n",
       "    </tr>\n",
       "    <tr>\n",
       "      <th>295</th>\n",
       "      <td>12808</td>\n",
       "      <td>28773</td>\n",
       "      <td>19683</td>\n",
       "      <td>19586</td>\n",
       "      <td>107309</td>\n",
       "    </tr>\n",
       "  </tbody>\n",
       "</table>\n",
       "<p>296 rows × 5 columns</p>\n",
       "</div>"
      ],
      "text/plain": [
       "      1824    2544    4564   6585  POPEST_MALE\n",
       "0    33660   87019   90660  58419       341789\n",
       "1     7198   17452   16685  10735        70139\n",
       "2     5011   17207   15844  11658        64524\n",
       "3    47626  115194  115942  74812       442304\n",
       "4    40782  127855  111130  73943       453922\n",
       "..     ...     ...     ...    ...          ...\n",
       "291  46335  127349  135167  74022       485933\n",
       "292  12527   32906   27643  16805       128399\n",
       "293  18926   57856   61581  38335       228366\n",
       "294  22833   63601   70741  52939       265881\n",
       "295  12808   28773   19683  19586       107309\n",
       "\n",
       "[296 rows x 5 columns]"
      ]
     },
     "execution_count": 294,
     "metadata": {},
     "output_type": "execute_result"
    }
   ],
   "source": [
    "df_age_male.astype(int)"
   ]
  },
  {
   "cell_type": "code",
   "execution_count": 295,
   "metadata": {},
   "outputs": [],
   "source": [
    "df_age_male['Moyenne_1824'] = df_age_male['1824']*(18+24)/2\n",
    "df_age_male['Moyenne_2544'] = df_age_male['2544']*(25+44)/2\n",
    "df_age_male['Moyenne_4564'] = df_age_male['4564']*(45+64)/2\n",
    "df_age_male['Moyenne_6585'] = df_age_male['6585']*(65+85)/2\n",
    "df_age_male['Moyenne_majeur'] = (df_age_male['Moyenne_1824']+df_age_male['Moyenne_2544']+df_age_male['Moyenne_4564']+df_age_male['Moyenne_6585'])/df_age_male['POPEST_MALE']"
   ]
  },
  {
   "cell_type": "code",
   "execution_count": 296,
   "metadata": {},
   "outputs": [
    {
     "data": {
      "text/html": [
       "<div>\n",
       "<style scoped>\n",
       "    .dataframe tbody tr th:only-of-type {\n",
       "        vertical-align: middle;\n",
       "    }\n",
       "\n",
       "    .dataframe tbody tr th {\n",
       "        vertical-align: top;\n",
       "    }\n",
       "\n",
       "    .dataframe thead th {\n",
       "        text-align: right;\n",
       "    }\n",
       "</style>\n",
       "<table border=\"1\" class=\"dataframe\">\n",
       "  <thead>\n",
       "    <tr style=\"text-align: right;\">\n",
       "      <th></th>\n",
       "      <th>1824</th>\n",
       "      <th>2544</th>\n",
       "      <th>4564</th>\n",
       "      <th>6585</th>\n",
       "      <th>POPEST_MALE</th>\n",
       "      <th>Moyenne_1824</th>\n",
       "      <th>Moyenne_2544</th>\n",
       "      <th>Moyenne_4564</th>\n",
       "      <th>Moyenne_6585</th>\n",
       "      <th>Moyenne_majeur</th>\n",
       "    </tr>\n",
       "  </thead>\n",
       "  <tbody>\n",
       "    <tr>\n",
       "      <th>0</th>\n",
       "      <td>33660.0</td>\n",
       "      <td>87019.0</td>\n",
       "      <td>90660.0</td>\n",
       "      <td>58419.0</td>\n",
       "      <td>341789.0</td>\n",
       "      <td>706860.0</td>\n",
       "      <td>3002155.5</td>\n",
       "      <td>4940970.0</td>\n",
       "      <td>4381425.0</td>\n",
       "      <td>38.127062</td>\n",
       "    </tr>\n",
       "    <tr>\n",
       "      <th>1</th>\n",
       "      <td>7198.0</td>\n",
       "      <td>17452.0</td>\n",
       "      <td>16685.0</td>\n",
       "      <td>10735.0</td>\n",
       "      <td>70139.0</td>\n",
       "      <td>151158.0</td>\n",
       "      <td>602094.0</td>\n",
       "      <td>909332.5</td>\n",
       "      <td>805125.0</td>\n",
       "      <td>35.183129</td>\n",
       "    </tr>\n",
       "    <tr>\n",
       "      <th>2</th>\n",
       "      <td>5011.0</td>\n",
       "      <td>17207.0</td>\n",
       "      <td>15844.0</td>\n",
       "      <td>11658.0</td>\n",
       "      <td>64524.0</td>\n",
       "      <td>105231.0</td>\n",
       "      <td>593641.5</td>\n",
       "      <td>863498.0</td>\n",
       "      <td>874350.0</td>\n",
       "      <td>37.764560</td>\n",
       "    </tr>\n",
       "    <tr>\n",
       "      <th>3</th>\n",
       "      <td>47626.0</td>\n",
       "      <td>115194.0</td>\n",
       "      <td>115942.0</td>\n",
       "      <td>74812.0</td>\n",
       "      <td>442304.0</td>\n",
       "      <td>1000146.0</td>\n",
       "      <td>3974193.0</td>\n",
       "      <td>6318839.0</td>\n",
       "      <td>5610900.0</td>\n",
       "      <td>38.218235</td>\n",
       "    </tr>\n",
       "    <tr>\n",
       "      <th>4</th>\n",
       "      <td>40782.0</td>\n",
       "      <td>127855.0</td>\n",
       "      <td>111130.0</td>\n",
       "      <td>73943.0</td>\n",
       "      <td>453922.0</td>\n",
       "      <td>856422.0</td>\n",
       "      <td>4410997.5</td>\n",
       "      <td>6056585.0</td>\n",
       "      <td>5545725.0</td>\n",
       "      <td>37.164380</td>\n",
       "    </tr>\n",
       "    <tr>\n",
       "      <th>...</th>\n",
       "      <td>...</td>\n",
       "      <td>...</td>\n",
       "      <td>...</td>\n",
       "      <td>...</td>\n",
       "      <td>...</td>\n",
       "      <td>...</td>\n",
       "      <td>...</td>\n",
       "      <td>...</td>\n",
       "      <td>...</td>\n",
       "      <td>...</td>\n",
       "    </tr>\n",
       "    <tr>\n",
       "      <th>291</th>\n",
       "      <td>46335.0</td>\n",
       "      <td>127349.0</td>\n",
       "      <td>135167.0</td>\n",
       "      <td>74022.0</td>\n",
       "      <td>485933.0</td>\n",
       "      <td>973035.0</td>\n",
       "      <td>4393540.5</td>\n",
       "      <td>7366601.5</td>\n",
       "      <td>5551650.0</td>\n",
       "      <td>37.628288</td>\n",
       "    </tr>\n",
       "    <tr>\n",
       "      <th>292</th>\n",
       "      <td>12527.0</td>\n",
       "      <td>32906.0</td>\n",
       "      <td>27643.0</td>\n",
       "      <td>16805.0</td>\n",
       "      <td>128399.0</td>\n",
       "      <td>263067.0</td>\n",
       "      <td>1135257.0</td>\n",
       "      <td>1506543.5</td>\n",
       "      <td>1260375.0</td>\n",
       "      <td>32.439836</td>\n",
       "    </tr>\n",
       "    <tr>\n",
       "      <th>293</th>\n",
       "      <td>18926.0</td>\n",
       "      <td>57856.0</td>\n",
       "      <td>61581.0</td>\n",
       "      <td>38335.0</td>\n",
       "      <td>228366.0</td>\n",
       "      <td>397446.0</td>\n",
       "      <td>1996032.0</td>\n",
       "      <td>3356164.5</td>\n",
       "      <td>2875125.0</td>\n",
       "      <td>37.767301</td>\n",
       "    </tr>\n",
       "    <tr>\n",
       "      <th>294</th>\n",
       "      <td>22833.0</td>\n",
       "      <td>63601.0</td>\n",
       "      <td>70741.0</td>\n",
       "      <td>52939.0</td>\n",
       "      <td>265881.0</td>\n",
       "      <td>479493.0</td>\n",
       "      <td>2194234.5</td>\n",
       "      <td>3855384.5</td>\n",
       "      <td>3970425.0</td>\n",
       "      <td>39.489610</td>\n",
       "    </tr>\n",
       "    <tr>\n",
       "      <th>295</th>\n",
       "      <td>12808.0</td>\n",
       "      <td>28773.0</td>\n",
       "      <td>19683.0</td>\n",
       "      <td>19586.0</td>\n",
       "      <td>107309.0</td>\n",
       "      <td>268968.0</td>\n",
       "      <td>992668.5</td>\n",
       "      <td>1072723.5</td>\n",
       "      <td>1468950.0</td>\n",
       "      <td>35.442600</td>\n",
       "    </tr>\n",
       "  </tbody>\n",
       "</table>\n",
       "<p>296 rows × 10 columns</p>\n",
       "</div>"
      ],
      "text/plain": [
       "        1824      2544      4564     6585  POPEST_MALE  Moyenne_1824  \\\n",
       "0    33660.0   87019.0   90660.0  58419.0     341789.0      706860.0   \n",
       "1     7198.0   17452.0   16685.0  10735.0      70139.0      151158.0   \n",
       "2     5011.0   17207.0   15844.0  11658.0      64524.0      105231.0   \n",
       "3    47626.0  115194.0  115942.0  74812.0     442304.0     1000146.0   \n",
       "4    40782.0  127855.0  111130.0  73943.0     453922.0      856422.0   \n",
       "..       ...       ...       ...      ...          ...           ...   \n",
       "291  46335.0  127349.0  135167.0  74022.0     485933.0      973035.0   \n",
       "292  12527.0   32906.0   27643.0  16805.0     128399.0      263067.0   \n",
       "293  18926.0   57856.0   61581.0  38335.0     228366.0      397446.0   \n",
       "294  22833.0   63601.0   70741.0  52939.0     265881.0      479493.0   \n",
       "295  12808.0   28773.0   19683.0  19586.0     107309.0      268968.0   \n",
       "\n",
       "     Moyenne_2544  Moyenne_4564  Moyenne_6585  Moyenne_majeur  \n",
       "0       3002155.5     4940970.0     4381425.0       38.127062  \n",
       "1        602094.0      909332.5      805125.0       35.183129  \n",
       "2        593641.5      863498.0      874350.0       37.764560  \n",
       "3       3974193.0     6318839.0     5610900.0       38.218235  \n",
       "4       4410997.5     6056585.0     5545725.0       37.164380  \n",
       "..            ...           ...           ...             ...  \n",
       "291     4393540.5     7366601.5     5551650.0       37.628288  \n",
       "292     1135257.0     1506543.5     1260375.0       32.439836  \n",
       "293     1996032.0     3356164.5     2875125.0       37.767301  \n",
       "294     2194234.5     3855384.5     3970425.0       39.489610  \n",
       "295      992668.5     1072723.5     1468950.0       35.442600  \n",
       "\n",
       "[296 rows x 10 columns]"
      ]
     },
     "execution_count": 296,
     "metadata": {},
     "output_type": "execute_result"
    }
   ],
   "source": [
    "df_age_male"
   ]
  },
  {
   "cell_type": "code",
   "execution_count": 297,
   "metadata": {},
   "outputs": [
    {
     "data": {
      "text/html": [
       "<div>\n",
       "<style scoped>\n",
       "    .dataframe tbody tr th:only-of-type {\n",
       "        vertical-align: middle;\n",
       "    }\n",
       "\n",
       "    .dataframe tbody tr th {\n",
       "        vertical-align: top;\n",
       "    }\n",
       "\n",
       "    .dataframe thead th {\n",
       "        text-align: right;\n",
       "    }\n",
       "</style>\n",
       "<table border=\"1\" class=\"dataframe\">\n",
       "  <thead>\n",
       "    <tr style=\"text-align: right;\">\n",
       "      <th></th>\n",
       "      <th>POPESTIMATE</th>\n",
       "      <th>POPEST_MALE</th>\n",
       "      <th>POPEST_FEMALE</th>\n",
       "      <th>AGE1824_MALE</th>\n",
       "      <th>AGE1824_FEMALE</th>\n",
       "      <th>AGE2544_MALE</th>\n",
       "      <th>AGE2544_FEMALE</th>\n",
       "      <th>AGE4564_MALE</th>\n",
       "      <th>AGE4564_FEMALE</th>\n",
       "      <th>AGE65PLUS_MALE</th>\n",
       "      <th>AGE65PLUS_FEMALE</th>\n",
       "    </tr>\n",
       "  </thead>\n",
       "  <tbody>\n",
       "    <tr>\n",
       "      <th>0</th>\n",
       "      <td>700015.0</td>\n",
       "      <td>341789.0</td>\n",
       "      <td>358226.0</td>\n",
       "      <td>33660.0</td>\n",
       "      <td>34826.0</td>\n",
       "      <td>87019.0</td>\n",
       "      <td>87574.0</td>\n",
       "      <td>90660.0</td>\n",
       "      <td>94147.0</td>\n",
       "      <td>58419.0</td>\n",
       "      <td>71940.0</td>\n",
       "    </tr>\n",
       "    <tr>\n",
       "      <th>1</th>\n",
       "      <td>147773.0</td>\n",
       "      <td>70139.0</td>\n",
       "      <td>77634.0</td>\n",
       "      <td>7198.0</td>\n",
       "      <td>7672.0</td>\n",
       "      <td>17452.0</td>\n",
       "      <td>19614.0</td>\n",
       "      <td>16685.0</td>\n",
       "      <td>19050.0</td>\n",
       "      <td>10735.0</td>\n",
       "      <td>14046.0</td>\n",
       "    </tr>\n",
       "    <tr>\n",
       "      <th>2</th>\n",
       "      <td>129839.0</td>\n",
       "      <td>64524.0</td>\n",
       "      <td>65315.0</td>\n",
       "      <td>5011.0</td>\n",
       "      <td>4834.0</td>\n",
       "      <td>17207.0</td>\n",
       "      <td>17052.0</td>\n",
       "      <td>15844.0</td>\n",
       "      <td>16036.0</td>\n",
       "      <td>11658.0</td>\n",
       "      <td>13211.0</td>\n",
       "    </tr>\n",
       "    <tr>\n",
       "      <th>3</th>\n",
       "      <td>899286.0</td>\n",
       "      <td>442304.0</td>\n",
       "      <td>456982.0</td>\n",
       "      <td>47626.0</td>\n",
       "      <td>47352.0</td>\n",
       "      <td>115194.0</td>\n",
       "      <td>114438.0</td>\n",
       "      <td>115942.0</td>\n",
       "      <td>119736.0</td>\n",
       "      <td>74812.0</td>\n",
       "      <td>91177.0</td>\n",
       "    </tr>\n",
       "    <tr>\n",
       "      <th>4</th>\n",
       "      <td>918259.0</td>\n",
       "      <td>453922.0</td>\n",
       "      <td>464337.0</td>\n",
       "      <td>40782.0</td>\n",
       "      <td>39180.0</td>\n",
       "      <td>127855.0</td>\n",
       "      <td>124010.0</td>\n",
       "      <td>111130.0</td>\n",
       "      <td>115539.0</td>\n",
       "      <td>73943.0</td>\n",
       "      <td>89719.0</td>\n",
       "    </tr>\n",
       "    <tr>\n",
       "      <th>...</th>\n",
       "      <td>...</td>\n",
       "      <td>...</td>\n",
       "      <td>...</td>\n",
       "      <td>...</td>\n",
       "      <td>...</td>\n",
       "      <td>...</td>\n",
       "      <td>...</td>\n",
       "      <td>...</td>\n",
       "      <td>...</td>\n",
       "      <td>...</td>\n",
       "      <td>...</td>\n",
       "    </tr>\n",
       "    <tr>\n",
       "      <th>291</th>\n",
       "      <td>978447.0</td>\n",
       "      <td>485933.0</td>\n",
       "      <td>492514.0</td>\n",
       "      <td>46335.0</td>\n",
       "      <td>45155.0</td>\n",
       "      <td>127349.0</td>\n",
       "      <td>124525.0</td>\n",
       "      <td>135167.0</td>\n",
       "      <td>136066.0</td>\n",
       "      <td>74022.0</td>\n",
       "      <td>89074.0</td>\n",
       "    </tr>\n",
       "    <tr>\n",
       "      <th>292</th>\n",
       "      <td>256035.0</td>\n",
       "      <td>128399.0</td>\n",
       "      <td>127636.0</td>\n",
       "      <td>12527.0</td>\n",
       "      <td>11948.0</td>\n",
       "      <td>32906.0</td>\n",
       "      <td>32377.0</td>\n",
       "      <td>27643.0</td>\n",
       "      <td>27097.0</td>\n",
       "      <td>16805.0</td>\n",
       "      <td>19388.0</td>\n",
       "    </tr>\n",
       "    <tr>\n",
       "      <th>293</th>\n",
       "      <td>458696.0</td>\n",
       "      <td>228366.0</td>\n",
       "      <td>230330.0</td>\n",
       "      <td>18926.0</td>\n",
       "      <td>17453.0</td>\n",
       "      <td>57856.0</td>\n",
       "      <td>56830.0</td>\n",
       "      <td>61581.0</td>\n",
       "      <td>61763.0</td>\n",
       "      <td>38335.0</td>\n",
       "      <td>45392.0</td>\n",
       "    </tr>\n",
       "    <tr>\n",
       "      <th>294</th>\n",
       "      <td>538069.0</td>\n",
       "      <td>265881.0</td>\n",
       "      <td>272188.0</td>\n",
       "      <td>22833.0</td>\n",
       "      <td>21127.0</td>\n",
       "      <td>63601.0</td>\n",
       "      <td>60260.0</td>\n",
       "      <td>70741.0</td>\n",
       "      <td>72378.0</td>\n",
       "      <td>52939.0</td>\n",
       "      <td>65943.0</td>\n",
       "    </tr>\n",
       "    <tr>\n",
       "      <th>295</th>\n",
       "      <td>206990.0</td>\n",
       "      <td>107309.0</td>\n",
       "      <td>99681.0</td>\n",
       "      <td>12808.0</td>\n",
       "      <td>9232.0</td>\n",
       "      <td>28773.0</td>\n",
       "      <td>23780.0</td>\n",
       "      <td>19683.0</td>\n",
       "      <td>20251.0</td>\n",
       "      <td>19586.0</td>\n",
       "      <td>20983.0</td>\n",
       "    </tr>\n",
       "  </tbody>\n",
       "</table>\n",
       "<p>296 rows × 11 columns</p>\n",
       "</div>"
      ],
      "text/plain": [
       "     POPESTIMATE  POPEST_MALE  POPEST_FEMALE  AGE1824_MALE  AGE1824_FEMALE  \\\n",
       "0       700015.0     341789.0       358226.0       33660.0         34826.0   \n",
       "1       147773.0      70139.0        77634.0        7198.0          7672.0   \n",
       "2       129839.0      64524.0        65315.0        5011.0          4834.0   \n",
       "3       899286.0     442304.0       456982.0       47626.0         47352.0   \n",
       "4       918259.0     453922.0       464337.0       40782.0         39180.0   \n",
       "..           ...          ...            ...           ...             ...   \n",
       "291     978447.0     485933.0       492514.0       46335.0         45155.0   \n",
       "292     256035.0     128399.0       127636.0       12527.0         11948.0   \n",
       "293     458696.0     228366.0       230330.0       18926.0         17453.0   \n",
       "294     538069.0     265881.0       272188.0       22833.0         21127.0   \n",
       "295     206990.0     107309.0        99681.0       12808.0          9232.0   \n",
       "\n",
       "     AGE2544_MALE  AGE2544_FEMALE  AGE4564_MALE  AGE4564_FEMALE  \\\n",
       "0         87019.0         87574.0       90660.0         94147.0   \n",
       "1         17452.0         19614.0       16685.0         19050.0   \n",
       "2         17207.0         17052.0       15844.0         16036.0   \n",
       "3        115194.0        114438.0      115942.0        119736.0   \n",
       "4        127855.0        124010.0      111130.0        115539.0   \n",
       "..            ...             ...           ...             ...   \n",
       "291      127349.0        124525.0      135167.0        136066.0   \n",
       "292       32906.0         32377.0       27643.0         27097.0   \n",
       "293       57856.0         56830.0       61581.0         61763.0   \n",
       "294       63601.0         60260.0       70741.0         72378.0   \n",
       "295       28773.0         23780.0       19683.0         20251.0   \n",
       "\n",
       "     AGE65PLUS_MALE  AGE65PLUS_FEMALE  \n",
       "0           58419.0           71940.0  \n",
       "1           10735.0           14046.0  \n",
       "2           11658.0           13211.0  \n",
       "3           74812.0           91177.0  \n",
       "4           73943.0           89719.0  \n",
       "..              ...               ...  \n",
       "291         74022.0           89074.0  \n",
       "292         16805.0           19388.0  \n",
       "293         38335.0           45392.0  \n",
       "294         52939.0           65943.0  \n",
       "295         19586.0           20983.0  \n",
       "\n",
       "[296 rows x 11 columns]"
      ]
     },
     "execution_count": 297,
     "metadata": {},
     "output_type": "execute_result"
    }
   ],
   "source": [
    "df_age_test"
   ]
  },
  {
   "cell_type": "code",
   "execution_count": 298,
   "metadata": {},
   "outputs": [
    {
     "data": {
      "text/plain": [
       "pandas.core.frame.DataFrame"
      ]
     },
     "execution_count": 298,
     "metadata": {},
     "output_type": "execute_result"
    }
   ],
   "source": [
    "type(df_age_test)"
   ]
  },
  {
   "cell_type": "code",
   "execution_count": 299,
   "metadata": {},
   "outputs": [],
   "source": [
    "df_age_mode = df[['POPESTIMATE','POPEST_MALE',\t'POPEST_FEMALE','AGE1824_MALE','AGE1824_FEMALE',\n",
    "'AGE2529_MALE','AGE2529_FEMALE',\t\n",
    "'AGE3034_MALE'\t,'AGE3034_FEMALE',\t\n",
    "'AGE3539_MALE'\t,'AGE3539_FEMALE',\t\n",
    "'AGE4044_MALE',\t'AGE4044_FEMALE',\t\n",
    "'AGE4549_MALE',\t'AGE4549_FEMALE',\t\n",
    "'AGE5054_MALE',\t'AGE5054_FEMALE',\t\n",
    "'AGE5559_MALE',\t'AGE5559_FEMALE',\t\n",
    "'AGE6064_MALE',\t'AGE6064_FEMALE',\t\n",
    "'AGE6569_MALE',\t'AGE6569_FEMALE',\t\n",
    "'AGE7074_MALE',\t'AGE7074_FEMALE',\t\n",
    "'AGE7579_MALE',\t'AGE7579_FEMALE',\t\n",
    "'AGE8084_MALE',\t'AGE8084_FEMALE',\t\n",
    "'AGE85PLUS_MALE',\t'AGE85PLUS_FEMALE']]"
   ]
  },
  {
   "cell_type": "code",
   "execution_count": 300,
   "metadata": {},
   "outputs": [],
   "source": [
    "df_age_mode_femme = df_age_mode[['AGE1824_FEMALE','AGE2529_FEMALE','AGE3034_FEMALE','AGE3539_FEMALE','AGE4044_FEMALE','AGE4549_FEMALE','AGE5054_FEMALE','AGE5559_FEMALE','AGE6064_FEMALE',\n",
    "                                 'AGE6569_FEMALE','AGE7074_FEMALE','AGE7579_FEMALE','AGE8084_FEMALE','AGE85PLUS_FEMALE']]"
   ]
  },
  {
   "cell_type": "code",
   "execution_count": 301,
   "metadata": {},
   "outputs": [],
   "source": [
    "df_age_mode_femme = df_age_mode_femme.rename(columns=lambda x: ''.join(filter(str.isdigit, str(x))))"
   ]
  },
  {
   "cell_type": "code",
   "execution_count": 302,
   "metadata": {},
   "outputs": [],
   "source": [
    "df_age_mode_femme['8591'] = df_age_mode_femme['85']"
   ]
  },
  {
   "cell_type": "code",
   "execution_count": 303,
   "metadata": {},
   "outputs": [],
   "source": [
    "df_age_mode_femme.drop(['85'], axis=1, inplace=True)"
   ]
  },
  {
   "cell_type": "code",
   "execution_count": 304,
   "metadata": {},
   "outputs": [],
   "source": [
    "df_age_mode_femme['POPEST_FEMALE'] = df['POPEST_FEMALE']"
   ]
  },
  {
   "cell_type": "code",
   "execution_count": 305,
   "metadata": {},
   "outputs": [],
   "source": [
    "for age in ['1824', '2529', '3034', '3539', '4044', '4549', '5054', '5559', '6064', '6569', '7074', '7579', '8084', '8591']:\n",
    "    df_age_mode_femme[f'Moyenne_{age}'] = df_age_mode_femme[age] * ((int(age[:2]) + int(age[2:])) / 2)\n",
    "\n",
    "df_age_mode_femme['Moyenne_femme'] = df_age_mode_femme[[f'Moyenne_{age}' for age in ['1824', '2529', \n",
    "                                                                                     '3034', '3539', \n",
    "                                                                                     '4044', '4549', \n",
    "                                                                                     '5054', '5559', \n",
    "                                                                                     '6064', '6569', \n",
    "                                                                                     '7074', '7579', \n",
    "                                                                                     '8084', '8591']]].sum(axis=1) / df_age_mode_femme['POPEST_FEMALE']\n"
   ]
  },
  {
   "cell_type": "code",
   "execution_count": 306,
   "metadata": {},
   "outputs": [
    {
     "data": {
      "text/html": [
       "<div>\n",
       "<style scoped>\n",
       "    .dataframe tbody tr th:only-of-type {\n",
       "        vertical-align: middle;\n",
       "    }\n",
       "\n",
       "    .dataframe tbody tr th {\n",
       "        vertical-align: top;\n",
       "    }\n",
       "\n",
       "    .dataframe thead th {\n",
       "        text-align: right;\n",
       "    }\n",
       "</style>\n",
       "<table border=\"1\" class=\"dataframe\">\n",
       "  <thead>\n",
       "    <tr style=\"text-align: right;\">\n",
       "      <th></th>\n",
       "      <th>1824</th>\n",
       "      <th>2529</th>\n",
       "      <th>3034</th>\n",
       "      <th>3539</th>\n",
       "      <th>4044</th>\n",
       "      <th>4549</th>\n",
       "      <th>5054</th>\n",
       "      <th>5559</th>\n",
       "      <th>6064</th>\n",
       "      <th>6569</th>\n",
       "      <th>...</th>\n",
       "      <th>Moyenne_4549</th>\n",
       "      <th>Moyenne_5054</th>\n",
       "      <th>Moyenne_5559</th>\n",
       "      <th>Moyenne_6064</th>\n",
       "      <th>Moyenne_6569</th>\n",
       "      <th>Moyenne_7074</th>\n",
       "      <th>Moyenne_7579</th>\n",
       "      <th>Moyenne_8084</th>\n",
       "      <th>Moyenne_8591</th>\n",
       "      <th>Moyenne_femme</th>\n",
       "    </tr>\n",
       "  </thead>\n",
       "  <tbody>\n",
       "    <tr>\n",
       "      <th>0</th>\n",
       "      <td>34826.0</td>\n",
       "      <td>22966.0</td>\n",
       "      <td>22585.0</td>\n",
       "      <td>21353.0</td>\n",
       "      <td>20670.0</td>\n",
       "      <td>19908.0</td>\n",
       "      <td>23264.0</td>\n",
       "      <td>24987.0</td>\n",
       "      <td>25988.0</td>\n",
       "      <td>23105.0</td>\n",
       "      <td>...</td>\n",
       "      <td>935676.0</td>\n",
       "      <td>1209728.0</td>\n",
       "      <td>1424259.0</td>\n",
       "      <td>1611256.0</td>\n",
       "      <td>1548035.0</td>\n",
       "      <td>1400976.0</td>\n",
       "      <td>945175.0</td>\n",
       "      <td>672892.0</td>\n",
       "      <td>782848.0</td>\n",
       "      <td>39.816189</td>\n",
       "    </tr>\n",
       "    <tr>\n",
       "      <th>1</th>\n",
       "      <td>7672.0</td>\n",
       "      <td>4876.0</td>\n",
       "      <td>5233.0</td>\n",
       "      <td>4770.0</td>\n",
       "      <td>4735.0</td>\n",
       "      <td>4484.0</td>\n",
       "      <td>4587.0</td>\n",
       "      <td>4995.0</td>\n",
       "      <td>4984.0</td>\n",
       "      <td>4520.0</td>\n",
       "      <td>...</td>\n",
       "      <td>210748.0</td>\n",
       "      <td>238524.0</td>\n",
       "      <td>284715.0</td>\n",
       "      <td>309008.0</td>\n",
       "      <td>302840.0</td>\n",
       "      <td>274752.0</td>\n",
       "      <td>187110.0</td>\n",
       "      <td>134070.0</td>\n",
       "      <td>144760.0</td>\n",
       "      <td>37.639526</td>\n",
       "    </tr>\n",
       "    <tr>\n",
       "      <th>2</th>\n",
       "      <td>4834.0</td>\n",
       "      <td>4281.0</td>\n",
       "      <td>4551.0</td>\n",
       "      <td>4305.0</td>\n",
       "      <td>3915.0</td>\n",
       "      <td>3566.0</td>\n",
       "      <td>3796.0</td>\n",
       "      <td>4204.0</td>\n",
       "      <td>4470.0</td>\n",
       "      <td>4317.0</td>\n",
       "      <td>...</td>\n",
       "      <td>167602.0</td>\n",
       "      <td>197392.0</td>\n",
       "      <td>239628.0</td>\n",
       "      <td>277140.0</td>\n",
       "      <td>289239.0</td>\n",
       "      <td>263880.0</td>\n",
       "      <td>180334.0</td>\n",
       "      <td>126526.0</td>\n",
       "      <td>118272.0</td>\n",
       "      <td>38.987384</td>\n",
       "    </tr>\n",
       "    <tr>\n",
       "      <th>3</th>\n",
       "      <td>47352.0</td>\n",
       "      <td>28880.0</td>\n",
       "      <td>29317.0</td>\n",
       "      <td>28999.0</td>\n",
       "      <td>27242.0</td>\n",
       "      <td>25706.0</td>\n",
       "      <td>29339.0</td>\n",
       "      <td>32700.0</td>\n",
       "      <td>31991.0</td>\n",
       "      <td>27959.0</td>\n",
       "      <td>...</td>\n",
       "      <td>1208182.0</td>\n",
       "      <td>1525628.0</td>\n",
       "      <td>1863900.0</td>\n",
       "      <td>1983442.0</td>\n",
       "      <td>1873253.0</td>\n",
       "      <td>1766952.0</td>\n",
       "      <td>1217370.0</td>\n",
       "      <td>848208.0</td>\n",
       "      <td>1102024.0</td>\n",
       "      <td>40.085566</td>\n",
       "    </tr>\n",
       "    <tr>\n",
       "      <th>4</th>\n",
       "      <td>39180.0</td>\n",
       "      <td>30499.0</td>\n",
       "      <td>32231.0</td>\n",
       "      <td>32070.0</td>\n",
       "      <td>29210.0</td>\n",
       "      <td>26675.0</td>\n",
       "      <td>27503.0</td>\n",
       "      <td>29911.0</td>\n",
       "      <td>31450.0</td>\n",
       "      <td>29441.0</td>\n",
       "      <td>...</td>\n",
       "      <td>1253725.0</td>\n",
       "      <td>1430156.0</td>\n",
       "      <td>1704927.0</td>\n",
       "      <td>1949900.0</td>\n",
       "      <td>1972547.0</td>\n",
       "      <td>1792152.0</td>\n",
       "      <td>1226456.0</td>\n",
       "      <td>813932.0</td>\n",
       "      <td>838904.0</td>\n",
       "      <td>38.923786</td>\n",
       "    </tr>\n",
       "    <tr>\n",
       "      <th>...</th>\n",
       "      <td>...</td>\n",
       "      <td>...</td>\n",
       "      <td>...</td>\n",
       "      <td>...</td>\n",
       "      <td>...</td>\n",
       "      <td>...</td>\n",
       "      <td>...</td>\n",
       "      <td>...</td>\n",
       "      <td>...</td>\n",
       "      <td>...</td>\n",
       "      <td>...</td>\n",
       "      <td>...</td>\n",
       "      <td>...</td>\n",
       "      <td>...</td>\n",
       "      <td>...</td>\n",
       "      <td>...</td>\n",
       "      <td>...</td>\n",
       "      <td>...</td>\n",
       "      <td>...</td>\n",
       "      <td>...</td>\n",
       "      <td>...</td>\n",
       "    </tr>\n",
       "    <tr>\n",
       "      <th>291</th>\n",
       "      <td>45155.0</td>\n",
       "      <td>30076.0</td>\n",
       "      <td>32378.0</td>\n",
       "      <td>32171.0</td>\n",
       "      <td>29900.0</td>\n",
       "      <td>30210.0</td>\n",
       "      <td>34439.0</td>\n",
       "      <td>36746.0</td>\n",
       "      <td>34671.0</td>\n",
       "      <td>28665.0</td>\n",
       "      <td>...</td>\n",
       "      <td>1419870.0</td>\n",
       "      <td>1790828.0</td>\n",
       "      <td>2094522.0</td>\n",
       "      <td>2149602.0</td>\n",
       "      <td>1920555.0</td>\n",
       "      <td>1657368.0</td>\n",
       "      <td>1167166.0</td>\n",
       "      <td>827708.0</td>\n",
       "      <td>1068144.0</td>\n",
       "      <td>39.264453</td>\n",
       "    </tr>\n",
       "    <tr>\n",
       "      <th>292</th>\n",
       "      <td>11948.0</td>\n",
       "      <td>8774.0</td>\n",
       "      <td>8305.0</td>\n",
       "      <td>7790.0</td>\n",
       "      <td>7508.0</td>\n",
       "      <td>6783.0</td>\n",
       "      <td>6821.0</td>\n",
       "      <td>6869.0</td>\n",
       "      <td>6624.0</td>\n",
       "      <td>6149.0</td>\n",
       "      <td>...</td>\n",
       "      <td>318801.0</td>\n",
       "      <td>354692.0</td>\n",
       "      <td>391533.0</td>\n",
       "      <td>410688.0</td>\n",
       "      <td>411983.0</td>\n",
       "      <td>374040.0</td>\n",
       "      <td>261261.0</td>\n",
       "      <td>187534.0</td>\n",
       "      <td>208032.0</td>\n",
       "      <td>33.499138</td>\n",
       "    </tr>\n",
       "    <tr>\n",
       "      <th>293</th>\n",
       "      <td>17453.0</td>\n",
       "      <td>13544.0</td>\n",
       "      <td>14548.0</td>\n",
       "      <td>14708.0</td>\n",
       "      <td>14030.0</td>\n",
       "      <td>13687.0</td>\n",
       "      <td>15513.0</td>\n",
       "      <td>16327.0</td>\n",
       "      <td>16236.0</td>\n",
       "      <td>14202.0</td>\n",
       "      <td>...</td>\n",
       "      <td>643289.0</td>\n",
       "      <td>806676.0</td>\n",
       "      <td>930639.0</td>\n",
       "      <td>1006632.0</td>\n",
       "      <td>951534.0</td>\n",
       "      <td>866232.0</td>\n",
       "      <td>616154.0</td>\n",
       "      <td>434108.0</td>\n",
       "      <td>515944.0</td>\n",
       "      <td>39.518955</td>\n",
       "    </tr>\n",
       "    <tr>\n",
       "      <th>294</th>\n",
       "      <td>21127.0</td>\n",
       "      <td>15529.0</td>\n",
       "      <td>15061.0</td>\n",
       "      <td>14785.0</td>\n",
       "      <td>14885.0</td>\n",
       "      <td>15023.0</td>\n",
       "      <td>17126.0</td>\n",
       "      <td>18921.0</td>\n",
       "      <td>21308.0</td>\n",
       "      <td>20005.0</td>\n",
       "      <td>...</td>\n",
       "      <td>706081.0</td>\n",
       "      <td>890552.0</td>\n",
       "      <td>1078497.0</td>\n",
       "      <td>1321096.0</td>\n",
       "      <td>1340335.0</td>\n",
       "      <td>1228680.0</td>\n",
       "      <td>872872.0</td>\n",
       "      <td>663052.0</td>\n",
       "      <td>831688.0</td>\n",
       "      <td>42.066403</td>\n",
       "    </tr>\n",
       "    <tr>\n",
       "      <th>295</th>\n",
       "      <td>9232.0</td>\n",
       "      <td>6598.0</td>\n",
       "      <td>6348.0</td>\n",
       "      <td>5689.0</td>\n",
       "      <td>5145.0</td>\n",
       "      <td>4900.0</td>\n",
       "      <td>5105.0</td>\n",
       "      <td>5163.0</td>\n",
       "      <td>5083.0</td>\n",
       "      <td>5178.0</td>\n",
       "      <td>...</td>\n",
       "      <td>230300.0</td>\n",
       "      <td>265460.0</td>\n",
       "      <td>294291.0</td>\n",
       "      <td>315146.0</td>\n",
       "      <td>346926.0</td>\n",
       "      <td>384696.0</td>\n",
       "      <td>357203.0</td>\n",
       "      <td>265598.0</td>\n",
       "      <td>227392.0</td>\n",
       "      <td>37.005538</td>\n",
       "    </tr>\n",
       "  </tbody>\n",
       "</table>\n",
       "<p>296 rows × 30 columns</p>\n",
       "</div>"
      ],
      "text/plain": [
       "        1824     2529     3034     3539     4044     4549     5054     5559  \\\n",
       "0    34826.0  22966.0  22585.0  21353.0  20670.0  19908.0  23264.0  24987.0   \n",
       "1     7672.0   4876.0   5233.0   4770.0   4735.0   4484.0   4587.0   4995.0   \n",
       "2     4834.0   4281.0   4551.0   4305.0   3915.0   3566.0   3796.0   4204.0   \n",
       "3    47352.0  28880.0  29317.0  28999.0  27242.0  25706.0  29339.0  32700.0   \n",
       "4    39180.0  30499.0  32231.0  32070.0  29210.0  26675.0  27503.0  29911.0   \n",
       "..       ...      ...      ...      ...      ...      ...      ...      ...   \n",
       "291  45155.0  30076.0  32378.0  32171.0  29900.0  30210.0  34439.0  36746.0   \n",
       "292  11948.0   8774.0   8305.0   7790.0   7508.0   6783.0   6821.0   6869.0   \n",
       "293  17453.0  13544.0  14548.0  14708.0  14030.0  13687.0  15513.0  16327.0   \n",
       "294  21127.0  15529.0  15061.0  14785.0  14885.0  15023.0  17126.0  18921.0   \n",
       "295   9232.0   6598.0   6348.0   5689.0   5145.0   4900.0   5105.0   5163.0   \n",
       "\n",
       "        6064     6569  ...  Moyenne_4549  Moyenne_5054  Moyenne_5559  \\\n",
       "0    25988.0  23105.0  ...      935676.0     1209728.0     1424259.0   \n",
       "1     4984.0   4520.0  ...      210748.0      238524.0      284715.0   \n",
       "2     4470.0   4317.0  ...      167602.0      197392.0      239628.0   \n",
       "3    31991.0  27959.0  ...     1208182.0     1525628.0     1863900.0   \n",
       "4    31450.0  29441.0  ...     1253725.0     1430156.0     1704927.0   \n",
       "..       ...      ...  ...           ...           ...           ...   \n",
       "291  34671.0  28665.0  ...     1419870.0     1790828.0     2094522.0   \n",
       "292   6624.0   6149.0  ...      318801.0      354692.0      391533.0   \n",
       "293  16236.0  14202.0  ...      643289.0      806676.0      930639.0   \n",
       "294  21308.0  20005.0  ...      706081.0      890552.0     1078497.0   \n",
       "295   5083.0   5178.0  ...      230300.0      265460.0      294291.0   \n",
       "\n",
       "     Moyenne_6064  Moyenne_6569  Moyenne_7074  Moyenne_7579  Moyenne_8084  \\\n",
       "0       1611256.0     1548035.0     1400976.0      945175.0      672892.0   \n",
       "1        309008.0      302840.0      274752.0      187110.0      134070.0   \n",
       "2        277140.0      289239.0      263880.0      180334.0      126526.0   \n",
       "3       1983442.0     1873253.0     1766952.0     1217370.0      848208.0   \n",
       "4       1949900.0     1972547.0     1792152.0     1226456.0      813932.0   \n",
       "..            ...           ...           ...           ...           ...   \n",
       "291     2149602.0     1920555.0     1657368.0     1167166.0      827708.0   \n",
       "292      410688.0      411983.0      374040.0      261261.0      187534.0   \n",
       "293     1006632.0      951534.0      866232.0      616154.0      434108.0   \n",
       "294     1321096.0     1340335.0     1228680.0      872872.0      663052.0   \n",
       "295      315146.0      346926.0      384696.0      357203.0      265598.0   \n",
       "\n",
       "     Moyenne_8591  Moyenne_femme  \n",
       "0        782848.0      39.816189  \n",
       "1        144760.0      37.639526  \n",
       "2        118272.0      38.987384  \n",
       "3       1102024.0      40.085566  \n",
       "4        838904.0      38.923786  \n",
       "..            ...            ...  \n",
       "291     1068144.0      39.264453  \n",
       "292      208032.0      33.499138  \n",
       "293      515944.0      39.518955  \n",
       "294      831688.0      42.066403  \n",
       "295      227392.0      37.005538  \n",
       "\n",
       "[296 rows x 30 columns]"
      ]
     },
     "execution_count": 306,
     "metadata": {},
     "output_type": "execute_result"
    }
   ],
   "source": [
    "df_age_mode_femme"
   ]
  },
  {
   "cell_type": "code",
   "execution_count": 307,
   "metadata": {},
   "outputs": [],
   "source": [
    "df_age_mode_femme['gender'] = 'F'"
   ]
  },
  {
   "cell_type": "code",
   "execution_count": 308,
   "metadata": {},
   "outputs": [
    {
     "data": {
      "text/html": [
       "<div>\n",
       "<style scoped>\n",
       "    .dataframe tbody tr th:only-of-type {\n",
       "        vertical-align: middle;\n",
       "    }\n",
       "\n",
       "    .dataframe tbody tr th {\n",
       "        vertical-align: top;\n",
       "    }\n",
       "\n",
       "    .dataframe thead th {\n",
       "        text-align: right;\n",
       "    }\n",
       "</style>\n",
       "<table border=\"1\" class=\"dataframe\">\n",
       "  <thead>\n",
       "    <tr style=\"text-align: right;\">\n",
       "      <th></th>\n",
       "      <th>1824</th>\n",
       "      <th>2529</th>\n",
       "      <th>3034</th>\n",
       "      <th>3539</th>\n",
       "      <th>4044</th>\n",
       "      <th>4549</th>\n",
       "      <th>5054</th>\n",
       "      <th>5559</th>\n",
       "      <th>6064</th>\n",
       "      <th>6569</th>\n",
       "      <th>...</th>\n",
       "      <th>Moyenne_5054</th>\n",
       "      <th>Moyenne_5559</th>\n",
       "      <th>Moyenne_6064</th>\n",
       "      <th>Moyenne_6569</th>\n",
       "      <th>Moyenne_7074</th>\n",
       "      <th>Moyenne_7579</th>\n",
       "      <th>Moyenne_8084</th>\n",
       "      <th>Moyenne_8591</th>\n",
       "      <th>Moyenne_femme</th>\n",
       "      <th>gender</th>\n",
       "    </tr>\n",
       "  </thead>\n",
       "  <tbody>\n",
       "    <tr>\n",
       "      <th>0</th>\n",
       "      <td>34826.0</td>\n",
       "      <td>22966.0</td>\n",
       "      <td>22585.0</td>\n",
       "      <td>21353.0</td>\n",
       "      <td>20670.0</td>\n",
       "      <td>19908.0</td>\n",
       "      <td>23264.0</td>\n",
       "      <td>24987.0</td>\n",
       "      <td>25988.0</td>\n",
       "      <td>23105.0</td>\n",
       "      <td>...</td>\n",
       "      <td>1209728.0</td>\n",
       "      <td>1424259.0</td>\n",
       "      <td>1611256.0</td>\n",
       "      <td>1548035.0</td>\n",
       "      <td>1400976.0</td>\n",
       "      <td>945175.0</td>\n",
       "      <td>672892.0</td>\n",
       "      <td>782848.0</td>\n",
       "      <td>39.816189</td>\n",
       "      <td>F</td>\n",
       "    </tr>\n",
       "    <tr>\n",
       "      <th>1</th>\n",
       "      <td>7672.0</td>\n",
       "      <td>4876.0</td>\n",
       "      <td>5233.0</td>\n",
       "      <td>4770.0</td>\n",
       "      <td>4735.0</td>\n",
       "      <td>4484.0</td>\n",
       "      <td>4587.0</td>\n",
       "      <td>4995.0</td>\n",
       "      <td>4984.0</td>\n",
       "      <td>4520.0</td>\n",
       "      <td>...</td>\n",
       "      <td>238524.0</td>\n",
       "      <td>284715.0</td>\n",
       "      <td>309008.0</td>\n",
       "      <td>302840.0</td>\n",
       "      <td>274752.0</td>\n",
       "      <td>187110.0</td>\n",
       "      <td>134070.0</td>\n",
       "      <td>144760.0</td>\n",
       "      <td>37.639526</td>\n",
       "      <td>F</td>\n",
       "    </tr>\n",
       "    <tr>\n",
       "      <th>2</th>\n",
       "      <td>4834.0</td>\n",
       "      <td>4281.0</td>\n",
       "      <td>4551.0</td>\n",
       "      <td>4305.0</td>\n",
       "      <td>3915.0</td>\n",
       "      <td>3566.0</td>\n",
       "      <td>3796.0</td>\n",
       "      <td>4204.0</td>\n",
       "      <td>4470.0</td>\n",
       "      <td>4317.0</td>\n",
       "      <td>...</td>\n",
       "      <td>197392.0</td>\n",
       "      <td>239628.0</td>\n",
       "      <td>277140.0</td>\n",
       "      <td>289239.0</td>\n",
       "      <td>263880.0</td>\n",
       "      <td>180334.0</td>\n",
       "      <td>126526.0</td>\n",
       "      <td>118272.0</td>\n",
       "      <td>38.987384</td>\n",
       "      <td>F</td>\n",
       "    </tr>\n",
       "    <tr>\n",
       "      <th>3</th>\n",
       "      <td>47352.0</td>\n",
       "      <td>28880.0</td>\n",
       "      <td>29317.0</td>\n",
       "      <td>28999.0</td>\n",
       "      <td>27242.0</td>\n",
       "      <td>25706.0</td>\n",
       "      <td>29339.0</td>\n",
       "      <td>32700.0</td>\n",
       "      <td>31991.0</td>\n",
       "      <td>27959.0</td>\n",
       "      <td>...</td>\n",
       "      <td>1525628.0</td>\n",
       "      <td>1863900.0</td>\n",
       "      <td>1983442.0</td>\n",
       "      <td>1873253.0</td>\n",
       "      <td>1766952.0</td>\n",
       "      <td>1217370.0</td>\n",
       "      <td>848208.0</td>\n",
       "      <td>1102024.0</td>\n",
       "      <td>40.085566</td>\n",
       "      <td>F</td>\n",
       "    </tr>\n",
       "    <tr>\n",
       "      <th>4</th>\n",
       "      <td>39180.0</td>\n",
       "      <td>30499.0</td>\n",
       "      <td>32231.0</td>\n",
       "      <td>32070.0</td>\n",
       "      <td>29210.0</td>\n",
       "      <td>26675.0</td>\n",
       "      <td>27503.0</td>\n",
       "      <td>29911.0</td>\n",
       "      <td>31450.0</td>\n",
       "      <td>29441.0</td>\n",
       "      <td>...</td>\n",
       "      <td>1430156.0</td>\n",
       "      <td>1704927.0</td>\n",
       "      <td>1949900.0</td>\n",
       "      <td>1972547.0</td>\n",
       "      <td>1792152.0</td>\n",
       "      <td>1226456.0</td>\n",
       "      <td>813932.0</td>\n",
       "      <td>838904.0</td>\n",
       "      <td>38.923786</td>\n",
       "      <td>F</td>\n",
       "    </tr>\n",
       "    <tr>\n",
       "      <th>...</th>\n",
       "      <td>...</td>\n",
       "      <td>...</td>\n",
       "      <td>...</td>\n",
       "      <td>...</td>\n",
       "      <td>...</td>\n",
       "      <td>...</td>\n",
       "      <td>...</td>\n",
       "      <td>...</td>\n",
       "      <td>...</td>\n",
       "      <td>...</td>\n",
       "      <td>...</td>\n",
       "      <td>...</td>\n",
       "      <td>...</td>\n",
       "      <td>...</td>\n",
       "      <td>...</td>\n",
       "      <td>...</td>\n",
       "      <td>...</td>\n",
       "      <td>...</td>\n",
       "      <td>...</td>\n",
       "      <td>...</td>\n",
       "      <td>...</td>\n",
       "    </tr>\n",
       "    <tr>\n",
       "      <th>291</th>\n",
       "      <td>45155.0</td>\n",
       "      <td>30076.0</td>\n",
       "      <td>32378.0</td>\n",
       "      <td>32171.0</td>\n",
       "      <td>29900.0</td>\n",
       "      <td>30210.0</td>\n",
       "      <td>34439.0</td>\n",
       "      <td>36746.0</td>\n",
       "      <td>34671.0</td>\n",
       "      <td>28665.0</td>\n",
       "      <td>...</td>\n",
       "      <td>1790828.0</td>\n",
       "      <td>2094522.0</td>\n",
       "      <td>2149602.0</td>\n",
       "      <td>1920555.0</td>\n",
       "      <td>1657368.0</td>\n",
       "      <td>1167166.0</td>\n",
       "      <td>827708.0</td>\n",
       "      <td>1068144.0</td>\n",
       "      <td>39.264453</td>\n",
       "      <td>F</td>\n",
       "    </tr>\n",
       "    <tr>\n",
       "      <th>292</th>\n",
       "      <td>11948.0</td>\n",
       "      <td>8774.0</td>\n",
       "      <td>8305.0</td>\n",
       "      <td>7790.0</td>\n",
       "      <td>7508.0</td>\n",
       "      <td>6783.0</td>\n",
       "      <td>6821.0</td>\n",
       "      <td>6869.0</td>\n",
       "      <td>6624.0</td>\n",
       "      <td>6149.0</td>\n",
       "      <td>...</td>\n",
       "      <td>354692.0</td>\n",
       "      <td>391533.0</td>\n",
       "      <td>410688.0</td>\n",
       "      <td>411983.0</td>\n",
       "      <td>374040.0</td>\n",
       "      <td>261261.0</td>\n",
       "      <td>187534.0</td>\n",
       "      <td>208032.0</td>\n",
       "      <td>33.499138</td>\n",
       "      <td>F</td>\n",
       "    </tr>\n",
       "    <tr>\n",
       "      <th>293</th>\n",
       "      <td>17453.0</td>\n",
       "      <td>13544.0</td>\n",
       "      <td>14548.0</td>\n",
       "      <td>14708.0</td>\n",
       "      <td>14030.0</td>\n",
       "      <td>13687.0</td>\n",
       "      <td>15513.0</td>\n",
       "      <td>16327.0</td>\n",
       "      <td>16236.0</td>\n",
       "      <td>14202.0</td>\n",
       "      <td>...</td>\n",
       "      <td>806676.0</td>\n",
       "      <td>930639.0</td>\n",
       "      <td>1006632.0</td>\n",
       "      <td>951534.0</td>\n",
       "      <td>866232.0</td>\n",
       "      <td>616154.0</td>\n",
       "      <td>434108.0</td>\n",
       "      <td>515944.0</td>\n",
       "      <td>39.518955</td>\n",
       "      <td>F</td>\n",
       "    </tr>\n",
       "    <tr>\n",
       "      <th>294</th>\n",
       "      <td>21127.0</td>\n",
       "      <td>15529.0</td>\n",
       "      <td>15061.0</td>\n",
       "      <td>14785.0</td>\n",
       "      <td>14885.0</td>\n",
       "      <td>15023.0</td>\n",
       "      <td>17126.0</td>\n",
       "      <td>18921.0</td>\n",
       "      <td>21308.0</td>\n",
       "      <td>20005.0</td>\n",
       "      <td>...</td>\n",
       "      <td>890552.0</td>\n",
       "      <td>1078497.0</td>\n",
       "      <td>1321096.0</td>\n",
       "      <td>1340335.0</td>\n",
       "      <td>1228680.0</td>\n",
       "      <td>872872.0</td>\n",
       "      <td>663052.0</td>\n",
       "      <td>831688.0</td>\n",
       "      <td>42.066403</td>\n",
       "      <td>F</td>\n",
       "    </tr>\n",
       "    <tr>\n",
       "      <th>295</th>\n",
       "      <td>9232.0</td>\n",
       "      <td>6598.0</td>\n",
       "      <td>6348.0</td>\n",
       "      <td>5689.0</td>\n",
       "      <td>5145.0</td>\n",
       "      <td>4900.0</td>\n",
       "      <td>5105.0</td>\n",
       "      <td>5163.0</td>\n",
       "      <td>5083.0</td>\n",
       "      <td>5178.0</td>\n",
       "      <td>...</td>\n",
       "      <td>265460.0</td>\n",
       "      <td>294291.0</td>\n",
       "      <td>315146.0</td>\n",
       "      <td>346926.0</td>\n",
       "      <td>384696.0</td>\n",
       "      <td>357203.0</td>\n",
       "      <td>265598.0</td>\n",
       "      <td>227392.0</td>\n",
       "      <td>37.005538</td>\n",
       "      <td>F</td>\n",
       "    </tr>\n",
       "  </tbody>\n",
       "</table>\n",
       "<p>296 rows × 31 columns</p>\n",
       "</div>"
      ],
      "text/plain": [
       "        1824     2529     3034     3539     4044     4549     5054     5559  \\\n",
       "0    34826.0  22966.0  22585.0  21353.0  20670.0  19908.0  23264.0  24987.0   \n",
       "1     7672.0   4876.0   5233.0   4770.0   4735.0   4484.0   4587.0   4995.0   \n",
       "2     4834.0   4281.0   4551.0   4305.0   3915.0   3566.0   3796.0   4204.0   \n",
       "3    47352.0  28880.0  29317.0  28999.0  27242.0  25706.0  29339.0  32700.0   \n",
       "4    39180.0  30499.0  32231.0  32070.0  29210.0  26675.0  27503.0  29911.0   \n",
       "..       ...      ...      ...      ...      ...      ...      ...      ...   \n",
       "291  45155.0  30076.0  32378.0  32171.0  29900.0  30210.0  34439.0  36746.0   \n",
       "292  11948.0   8774.0   8305.0   7790.0   7508.0   6783.0   6821.0   6869.0   \n",
       "293  17453.0  13544.0  14548.0  14708.0  14030.0  13687.0  15513.0  16327.0   \n",
       "294  21127.0  15529.0  15061.0  14785.0  14885.0  15023.0  17126.0  18921.0   \n",
       "295   9232.0   6598.0   6348.0   5689.0   5145.0   4900.0   5105.0   5163.0   \n",
       "\n",
       "        6064     6569  ...  Moyenne_5054  Moyenne_5559  Moyenne_6064  \\\n",
       "0    25988.0  23105.0  ...     1209728.0     1424259.0     1611256.0   \n",
       "1     4984.0   4520.0  ...      238524.0      284715.0      309008.0   \n",
       "2     4470.0   4317.0  ...      197392.0      239628.0      277140.0   \n",
       "3    31991.0  27959.0  ...     1525628.0     1863900.0     1983442.0   \n",
       "4    31450.0  29441.0  ...     1430156.0     1704927.0     1949900.0   \n",
       "..       ...      ...  ...           ...           ...           ...   \n",
       "291  34671.0  28665.0  ...     1790828.0     2094522.0     2149602.0   \n",
       "292   6624.0   6149.0  ...      354692.0      391533.0      410688.0   \n",
       "293  16236.0  14202.0  ...      806676.0      930639.0     1006632.0   \n",
       "294  21308.0  20005.0  ...      890552.0     1078497.0     1321096.0   \n",
       "295   5083.0   5178.0  ...      265460.0      294291.0      315146.0   \n",
       "\n",
       "     Moyenne_6569  Moyenne_7074  Moyenne_7579  Moyenne_8084  Moyenne_8591  \\\n",
       "0       1548035.0     1400976.0      945175.0      672892.0      782848.0   \n",
       "1        302840.0      274752.0      187110.0      134070.0      144760.0   \n",
       "2        289239.0      263880.0      180334.0      126526.0      118272.0   \n",
       "3       1873253.0     1766952.0     1217370.0      848208.0     1102024.0   \n",
       "4       1972547.0     1792152.0     1226456.0      813932.0      838904.0   \n",
       "..            ...           ...           ...           ...           ...   \n",
       "291     1920555.0     1657368.0     1167166.0      827708.0     1068144.0   \n",
       "292      411983.0      374040.0      261261.0      187534.0      208032.0   \n",
       "293      951534.0      866232.0      616154.0      434108.0      515944.0   \n",
       "294     1340335.0     1228680.0      872872.0      663052.0      831688.0   \n",
       "295      346926.0      384696.0      357203.0      265598.0      227392.0   \n",
       "\n",
       "     Moyenne_femme  gender  \n",
       "0        39.816189       F  \n",
       "1        37.639526       F  \n",
       "2        38.987384       F  \n",
       "3        40.085566       F  \n",
       "4        38.923786       F  \n",
       "..             ...     ...  \n",
       "291      39.264453       F  \n",
       "292      33.499138       F  \n",
       "293      39.518955       F  \n",
       "294      42.066403       F  \n",
       "295      37.005538       F  \n",
       "\n",
       "[296 rows x 31 columns]"
      ]
     },
     "execution_count": 308,
     "metadata": {},
     "output_type": "execute_result"
    }
   ],
   "source": [
    "df_age_mode_femme"
   ]
  },
  {
   "cell_type": "code",
   "execution_count": 309,
   "metadata": {},
   "outputs": [],
   "source": [
    "df_age_mode_homme = df_age_mode[['AGE1824_MALE','AGE2529_MALE','AGE3034_MALE'\t,'AGE3539_MALE'\t,'AGE4044_MALE','AGE4549_MALE','AGE5054_MALE','AGE5559_MALE','AGE6064_MALE','AGE6569_MALE','AGE7074_MALE','AGE7579_MALE','AGE8084_MALE','AGE85PLUS_MALE']]"
   ]
  },
  {
   "cell_type": "code",
   "execution_count": 310,
   "metadata": {},
   "outputs": [],
   "source": [
    "df_age_mode_homme = df_age_mode_homme.rename(columns=lambda x: ''.join(filter(str.isdigit, str(x))))"
   ]
  },
  {
   "cell_type": "code",
   "execution_count": 311,
   "metadata": {},
   "outputs": [],
   "source": [
    "df_age_mode_homme['8591'] = df_age_mode_homme['85']"
   ]
  },
  {
   "cell_type": "code",
   "execution_count": 312,
   "metadata": {},
   "outputs": [],
   "source": [
    "df_age_mode_homme.drop(['85'], axis=1, inplace=True)"
   ]
  },
  {
   "cell_type": "code",
   "execution_count": 313,
   "metadata": {},
   "outputs": [],
   "source": [
    "df_age_mode_homme['POPEST_MALE'] = df['POPEST_MALE']"
   ]
  },
  {
   "cell_type": "code",
   "execution_count": 314,
   "metadata": {},
   "outputs": [
    {
     "data": {
      "text/plain": [
       "\"df_age_mode_homme['Moyenne_1824'] = df_age_mode_homme['1824']*(18+24)/2\\ndf_age_mode_homme['Moyenne_2529'] = df_age_mode_homme['2529']*(25+29)/2\\ndf_age_mode_homme['Moyenne_3034'] = df_age_mode_homme['3034']*(30+34)/2\\ndf_age_mode_homme['Moyenne_3539'] = df_age_mode_homme['3539']*(35+39)/2\\ndf_age_mode_homme['Moyenne_4044'] = df_age_mode_homme['4044']*(40+44)/2\\ndf_age_mode_homme['Moyenne_4549'] = df_age_mode_homme['4549']*(45+49)/2\\ndf_age_mode_homme['Moyenne_5054'] = df_age_mode_homme['5054']*(50+54)/2\\ndf_age_mode_homme['Moyenne_5559'] = df_age_mode_homme['5559']*(55+59)/2\\ndf_age_mode_homme['Moyenne_6064'] = df_age_mode_homme['6064']*(60+64)/2\\ndf_age_mode_homme['Moyenne_6569'] = df_age_mode_homme['6569']*(65+69)/2\\ndf_age_mode_homme['Moyenne_7074'] = df_age_mode_homme['7074']*(70+74)/2\\ndf_age_mode_homme['Moyenne_7579'] = df_age_mode_homme['7579']*(75+79)/2\\ndf_age_mode_homme['Moyenne_8084'] = df_age_mode_homme['8084']*(80+84)/2\\ndf_age_mode_homme['Moyenne_8591'] = df_age_mode_homme['8591']*(85+91)/2\\ndf_age_mode_homme['Moyenne_majeur'] = (df_age_male['Moyenne_1824']+df_age_mode_homme['Moyenne_2529']+df_age_mode_homme['Moyenne_3034']+df_age_mode_homme['Moyenne_3539']+\\n                                       df_age_mode_homme['Moyenne_4044']+df_age_mode_homme['Moyenne_4549']+df_age_mode_homme['Moyenne_5054']+df_age_mode_homme['Moyenne_5559']+\\n                                       df_age_mode_homme['Moyenne_6064']+df_age_mode_homme['Moyenne_6569']+df_age_mode_homme['Moyenne_7074']+df_age_mode_homme['Moyenne_7579']+\\n                                       df_age_mode_homme['Moyenne_8084']+df_age_mode_homme['Moyenne_8591'])/df_age_mode_homme['POPEST_MALE']\""
      ]
     },
     "execution_count": 314,
     "metadata": {},
     "output_type": "execute_result"
    }
   ],
   "source": [
    "'''df_age_mode_homme['Moyenne_1824'] = df_age_mode_homme['1824']*(18+24)/2\n",
    "df_age_mode_homme['Moyenne_2529'] = df_age_mode_homme['2529']*(25+29)/2\n",
    "df_age_mode_homme['Moyenne_3034'] = df_age_mode_homme['3034']*(30+34)/2\n",
    "df_age_mode_homme['Moyenne_3539'] = df_age_mode_homme['3539']*(35+39)/2\n",
    "df_age_mode_homme['Moyenne_4044'] = df_age_mode_homme['4044']*(40+44)/2\n",
    "df_age_mode_homme['Moyenne_4549'] = df_age_mode_homme['4549']*(45+49)/2\n",
    "df_age_mode_homme['Moyenne_5054'] = df_age_mode_homme['5054']*(50+54)/2\n",
    "df_age_mode_homme['Moyenne_5559'] = df_age_mode_homme['5559']*(55+59)/2\n",
    "df_age_mode_homme['Moyenne_6064'] = df_age_mode_homme['6064']*(60+64)/2\n",
    "df_age_mode_homme['Moyenne_6569'] = df_age_mode_homme['6569']*(65+69)/2\n",
    "df_age_mode_homme['Moyenne_7074'] = df_age_mode_homme['7074']*(70+74)/2\n",
    "df_age_mode_homme['Moyenne_7579'] = df_age_mode_homme['7579']*(75+79)/2\n",
    "df_age_mode_homme['Moyenne_8084'] = df_age_mode_homme['8084']*(80+84)/2\n",
    "df_age_mode_homme['Moyenne_8591'] = df_age_mode_homme['8591']*(85+91)/2\n",
    "df_age_mode_homme['Moyenne_majeur'] = (df_age_male['Moyenne_1824']+df_age_mode_homme['Moyenne_2529']+df_age_mode_homme['Moyenne_3034']+df_age_mode_homme['Moyenne_3539']+\n",
    "                                       df_age_mode_homme['Moyenne_4044']+df_age_mode_homme['Moyenne_4549']+df_age_mode_homme['Moyenne_5054']+df_age_mode_homme['Moyenne_5559']+\n",
    "                                       df_age_mode_homme['Moyenne_6064']+df_age_mode_homme['Moyenne_6569']+df_age_mode_homme['Moyenne_7074']+df_age_mode_homme['Moyenne_7579']+\n",
    "                                       df_age_mode_homme['Moyenne_8084']+df_age_mode_homme['Moyenne_8591'])/df_age_mode_homme['POPEST_MALE']'''"
   ]
  },
  {
   "cell_type": "code",
   "execution_count": 315,
   "metadata": {},
   "outputs": [],
   "source": [
    "for age in ['1824', '2529', \n",
    "            '3034', '3539', \n",
    "            '4044', '4549', \n",
    "            '5054', '5559', \n",
    "            '6064', '6569', \n",
    "            '7074', '7579', \n",
    "            '8084', '8591']:\n",
    "    df_age_mode_homme[f'Moyenne_{age}'] = df_age_mode_homme[age] * ((int(age[:2]) + int(age[2:])) / 2)\n",
    "\n",
    "df_age_mode_homme['Moyenne_homme'] = df_age_mode_homme[[f'Moyenne_{age}' for age in ['1824', '2529', \n",
    "                                                                                     '3034', '3539', \n",
    "                                                                                     '4044', '4549', \n",
    "                                                                                     '5054', '5559', \n",
    "                                                                                     '6064', '6569', \n",
    "                                                                                     '7074', '7579', \n",
    "                                                                                     '8084', '8591']]].sum(axis=1) / df_age_mode_homme['POPEST_MALE']\n"
   ]
  },
  {
   "cell_type": "code",
   "execution_count": 316,
   "metadata": {},
   "outputs": [
    {
     "data": {
      "text/html": [
       "<div>\n",
       "<style scoped>\n",
       "    .dataframe tbody tr th:only-of-type {\n",
       "        vertical-align: middle;\n",
       "    }\n",
       "\n",
       "    .dataframe tbody tr th {\n",
       "        vertical-align: top;\n",
       "    }\n",
       "\n",
       "    .dataframe thead th {\n",
       "        text-align: right;\n",
       "    }\n",
       "</style>\n",
       "<table border=\"1\" class=\"dataframe\">\n",
       "  <thead>\n",
       "    <tr style=\"text-align: right;\">\n",
       "      <th></th>\n",
       "      <th>1824</th>\n",
       "      <th>2529</th>\n",
       "      <th>3034</th>\n",
       "      <th>3539</th>\n",
       "      <th>4044</th>\n",
       "      <th>4549</th>\n",
       "      <th>5054</th>\n",
       "      <th>5559</th>\n",
       "      <th>6064</th>\n",
       "      <th>6569</th>\n",
       "      <th>...</th>\n",
       "      <th>Moyenne_4549</th>\n",
       "      <th>Moyenne_5054</th>\n",
       "      <th>Moyenne_5559</th>\n",
       "      <th>Moyenne_6064</th>\n",
       "      <th>Moyenne_6569</th>\n",
       "      <th>Moyenne_7074</th>\n",
       "      <th>Moyenne_7579</th>\n",
       "      <th>Moyenne_8084</th>\n",
       "      <th>Moyenne_8591</th>\n",
       "      <th>Moyenne_homme</th>\n",
       "    </tr>\n",
       "  </thead>\n",
       "  <tbody>\n",
       "    <tr>\n",
       "      <th>0</th>\n",
       "      <td>33660.0</td>\n",
       "      <td>23117.0</td>\n",
       "      <td>22270.0</td>\n",
       "      <td>21217.0</td>\n",
       "      <td>20415.0</td>\n",
       "      <td>19636.0</td>\n",
       "      <td>22710.0</td>\n",
       "      <td>23838.0</td>\n",
       "      <td>24476.0</td>\n",
       "      <td>21015.0</td>\n",
       "      <td>...</td>\n",
       "      <td>922892.0</td>\n",
       "      <td>1180920.0</td>\n",
       "      <td>1358766.0</td>\n",
       "      <td>1517512.0</td>\n",
       "      <td>1408005.0</td>\n",
       "      <td>1209600.0</td>\n",
       "      <td>757372.0</td>\n",
       "      <td>476010.0</td>\n",
       "      <td>436744.0</td>\n",
       "      <td>37.900398</td>\n",
       "    </tr>\n",
       "    <tr>\n",
       "      <th>1</th>\n",
       "      <td>7198.0</td>\n",
       "      <td>4389.0</td>\n",
       "      <td>4647.0</td>\n",
       "      <td>4225.0</td>\n",
       "      <td>4191.0</td>\n",
       "      <td>4059.0</td>\n",
       "      <td>4140.0</td>\n",
       "      <td>4238.0</td>\n",
       "      <td>4248.0</td>\n",
       "      <td>3834.0</td>\n",
       "      <td>...</td>\n",
       "      <td>190773.0</td>\n",
       "      <td>215280.0</td>\n",
       "      <td>241566.0</td>\n",
       "      <td>263376.0</td>\n",
       "      <td>256878.0</td>\n",
       "      <td>232272.0</td>\n",
       "      <td>147532.0</td>\n",
       "      <td>83722.0</td>\n",
       "      <td>64944.0</td>\n",
       "      <td>34.888650</td>\n",
       "    </tr>\n",
       "    <tr>\n",
       "      <th>2</th>\n",
       "      <td>5011.0</td>\n",
       "      <td>4392.0</td>\n",
       "      <td>4515.0</td>\n",
       "      <td>4362.0</td>\n",
       "      <td>3938.0</td>\n",
       "      <td>3659.0</td>\n",
       "      <td>3909.0</td>\n",
       "      <td>4051.0</td>\n",
       "      <td>4225.0</td>\n",
       "      <td>4001.0</td>\n",
       "      <td>...</td>\n",
       "      <td>171973.0</td>\n",
       "      <td>203268.0</td>\n",
       "      <td>230907.0</td>\n",
       "      <td>261950.0</td>\n",
       "      <td>268067.0</td>\n",
       "      <td>244512.0</td>\n",
       "      <td>170632.0</td>\n",
       "      <td>99466.0</td>\n",
       "      <td>73216.0</td>\n",
       "      <td>37.491104</td>\n",
       "    </tr>\n",
       "    <tr>\n",
       "      <th>3</th>\n",
       "      <td>47626.0</td>\n",
       "      <td>29416.0</td>\n",
       "      <td>29451.0</td>\n",
       "      <td>29114.0</td>\n",
       "      <td>27213.0</td>\n",
       "      <td>25208.0</td>\n",
       "      <td>29336.0</td>\n",
       "      <td>30951.0</td>\n",
       "      <td>30447.0</td>\n",
       "      <td>26060.0</td>\n",
       "      <td>...</td>\n",
       "      <td>1184776.0</td>\n",
       "      <td>1525472.0</td>\n",
       "      <td>1764207.0</td>\n",
       "      <td>1887714.0</td>\n",
       "      <td>1746020.0</td>\n",
       "      <td>1561320.0</td>\n",
       "      <td>1011549.0</td>\n",
       "      <td>612868.0</td>\n",
       "      <td>568128.0</td>\n",
       "      <td>38.025946</td>\n",
       "    </tr>\n",
       "    <tr>\n",
       "      <th>4</th>\n",
       "      <td>40782.0</td>\n",
       "      <td>31806.0</td>\n",
       "      <td>33281.0</td>\n",
       "      <td>32983.0</td>\n",
       "      <td>29785.0</td>\n",
       "      <td>26770.0</td>\n",
       "      <td>27010.0</td>\n",
       "      <td>28499.0</td>\n",
       "      <td>28851.0</td>\n",
       "      <td>25090.0</td>\n",
       "      <td>...</td>\n",
       "      <td>1258190.0</td>\n",
       "      <td>1404520.0</td>\n",
       "      <td>1624443.0</td>\n",
       "      <td>1788762.0</td>\n",
       "      <td>1681030.0</td>\n",
       "      <td>1575792.0</td>\n",
       "      <td>1019172.0</td>\n",
       "      <td>634024.0</td>\n",
       "      <td>527912.0</td>\n",
       "      <td>36.934456</td>\n",
       "    </tr>\n",
       "    <tr>\n",
       "      <th>...</th>\n",
       "      <td>...</td>\n",
       "      <td>...</td>\n",
       "      <td>...</td>\n",
       "      <td>...</td>\n",
       "      <td>...</td>\n",
       "      <td>...</td>\n",
       "      <td>...</td>\n",
       "      <td>...</td>\n",
       "      <td>...</td>\n",
       "      <td>...</td>\n",
       "      <td>...</td>\n",
       "      <td>...</td>\n",
       "      <td>...</td>\n",
       "      <td>...</td>\n",
       "      <td>...</td>\n",
       "      <td>...</td>\n",
       "      <td>...</td>\n",
       "      <td>...</td>\n",
       "      <td>...</td>\n",
       "      <td>...</td>\n",
       "      <td>...</td>\n",
       "    </tr>\n",
       "    <tr>\n",
       "      <th>291</th>\n",
       "      <td>46335.0</td>\n",
       "      <td>31571.0</td>\n",
       "      <td>33257.0</td>\n",
       "      <td>32503.0</td>\n",
       "      <td>30018.0</td>\n",
       "      <td>29904.0</td>\n",
       "      <td>34179.0</td>\n",
       "      <td>36397.0</td>\n",
       "      <td>34687.0</td>\n",
       "      <td>27305.0</td>\n",
       "      <td>...</td>\n",
       "      <td>1405488.0</td>\n",
       "      <td>1777308.0</td>\n",
       "      <td>2074629.0</td>\n",
       "      <td>2150594.0</td>\n",
       "      <td>1829435.0</td>\n",
       "      <td>1507104.0</td>\n",
       "      <td>965195.0</td>\n",
       "      <td>591138.0</td>\n",
       "      <td>531608.0</td>\n",
       "      <td>37.423970</td>\n",
       "    </tr>\n",
       "    <tr>\n",
       "      <th>292</th>\n",
       "      <td>12527.0</td>\n",
       "      <td>8794.0</td>\n",
       "      <td>8535.0</td>\n",
       "      <td>7858.0</td>\n",
       "      <td>7719.0</td>\n",
       "      <td>6861.0</td>\n",
       "      <td>6972.0</td>\n",
       "      <td>7004.0</td>\n",
       "      <td>6806.0</td>\n",
       "      <td>5601.0</td>\n",
       "      <td>...</td>\n",
       "      <td>322467.0</td>\n",
       "      <td>362544.0</td>\n",
       "      <td>399228.0</td>\n",
       "      <td>421972.0</td>\n",
       "      <td>375267.0</td>\n",
       "      <td>346104.0</td>\n",
       "      <td>239085.0</td>\n",
       "      <td>151536.0</td>\n",
       "      <td>127072.0</td>\n",
       "      <td>32.195297</td>\n",
       "    </tr>\n",
       "    <tr>\n",
       "      <th>293</th>\n",
       "      <td>18926.0</td>\n",
       "      <td>14073.0</td>\n",
       "      <td>14987.0</td>\n",
       "      <td>14659.0</td>\n",
       "      <td>14137.0</td>\n",
       "      <td>13571.0</td>\n",
       "      <td>15930.0</td>\n",
       "      <td>16230.0</td>\n",
       "      <td>15850.0</td>\n",
       "      <td>13368.0</td>\n",
       "      <td>...</td>\n",
       "      <td>637837.0</td>\n",
       "      <td>828360.0</td>\n",
       "      <td>925110.0</td>\n",
       "      <td>982700.0</td>\n",
       "      <td>895656.0</td>\n",
       "      <td>781056.0</td>\n",
       "      <td>524832.0</td>\n",
       "      <td>336610.0</td>\n",
       "      <td>281424.0</td>\n",
       "      <td>37.600707</td>\n",
       "    </tr>\n",
       "    <tr>\n",
       "      <th>294</th>\n",
       "      <td>22833.0</td>\n",
       "      <td>16828.0</td>\n",
       "      <td>16331.0</td>\n",
       "      <td>15105.0</td>\n",
       "      <td>15337.0</td>\n",
       "      <td>15289.0</td>\n",
       "      <td>17209.0</td>\n",
       "      <td>18456.0</td>\n",
       "      <td>19787.0</td>\n",
       "      <td>18321.0</td>\n",
       "      <td>...</td>\n",
       "      <td>718583.0</td>\n",
       "      <td>894868.0</td>\n",
       "      <td>1051992.0</td>\n",
       "      <td>1226794.0</td>\n",
       "      <td>1227507.0</td>\n",
       "      <td>1097064.0</td>\n",
       "      <td>688688.0</td>\n",
       "      <td>458954.0</td>\n",
       "      <td>425920.0</td>\n",
       "      <td>39.302733</td>\n",
       "    </tr>\n",
       "    <tr>\n",
       "      <th>295</th>\n",
       "      <td>12808.0</td>\n",
       "      <td>8361.0</td>\n",
       "      <td>7699.0</td>\n",
       "      <td>6859.0</td>\n",
       "      <td>5854.0</td>\n",
       "      <td>4965.0</td>\n",
       "      <td>4925.0</td>\n",
       "      <td>4845.0</td>\n",
       "      <td>4948.0</td>\n",
       "      <td>4902.0</td>\n",
       "      <td>...</td>\n",
       "      <td>233355.0</td>\n",
       "      <td>256100.0</td>\n",
       "      <td>276165.0</td>\n",
       "      <td>306776.0</td>\n",
       "      <td>328434.0</td>\n",
       "      <td>350712.0</td>\n",
       "      <td>312851.0</td>\n",
       "      <td>260350.0</td>\n",
       "      <td>226600.0</td>\n",
       "      <td>35.337921</td>\n",
       "    </tr>\n",
       "  </tbody>\n",
       "</table>\n",
       "<p>296 rows × 30 columns</p>\n",
       "</div>"
      ],
      "text/plain": [
       "        1824     2529     3034     3539     4044     4549     5054     5559  \\\n",
       "0    33660.0  23117.0  22270.0  21217.0  20415.0  19636.0  22710.0  23838.0   \n",
       "1     7198.0   4389.0   4647.0   4225.0   4191.0   4059.0   4140.0   4238.0   \n",
       "2     5011.0   4392.0   4515.0   4362.0   3938.0   3659.0   3909.0   4051.0   \n",
       "3    47626.0  29416.0  29451.0  29114.0  27213.0  25208.0  29336.0  30951.0   \n",
       "4    40782.0  31806.0  33281.0  32983.0  29785.0  26770.0  27010.0  28499.0   \n",
       "..       ...      ...      ...      ...      ...      ...      ...      ...   \n",
       "291  46335.0  31571.0  33257.0  32503.0  30018.0  29904.0  34179.0  36397.0   \n",
       "292  12527.0   8794.0   8535.0   7858.0   7719.0   6861.0   6972.0   7004.0   \n",
       "293  18926.0  14073.0  14987.0  14659.0  14137.0  13571.0  15930.0  16230.0   \n",
       "294  22833.0  16828.0  16331.0  15105.0  15337.0  15289.0  17209.0  18456.0   \n",
       "295  12808.0   8361.0   7699.0   6859.0   5854.0   4965.0   4925.0   4845.0   \n",
       "\n",
       "        6064     6569  ...  Moyenne_4549  Moyenne_5054  Moyenne_5559  \\\n",
       "0    24476.0  21015.0  ...      922892.0     1180920.0     1358766.0   \n",
       "1     4248.0   3834.0  ...      190773.0      215280.0      241566.0   \n",
       "2     4225.0   4001.0  ...      171973.0      203268.0      230907.0   \n",
       "3    30447.0  26060.0  ...     1184776.0     1525472.0     1764207.0   \n",
       "4    28851.0  25090.0  ...     1258190.0     1404520.0     1624443.0   \n",
       "..       ...      ...  ...           ...           ...           ...   \n",
       "291  34687.0  27305.0  ...     1405488.0     1777308.0     2074629.0   \n",
       "292   6806.0   5601.0  ...      322467.0      362544.0      399228.0   \n",
       "293  15850.0  13368.0  ...      637837.0      828360.0      925110.0   \n",
       "294  19787.0  18321.0  ...      718583.0      894868.0     1051992.0   \n",
       "295   4948.0   4902.0  ...      233355.0      256100.0      276165.0   \n",
       "\n",
       "     Moyenne_6064  Moyenne_6569  Moyenne_7074  Moyenne_7579  Moyenne_8084  \\\n",
       "0       1517512.0     1408005.0     1209600.0      757372.0      476010.0   \n",
       "1        263376.0      256878.0      232272.0      147532.0       83722.0   \n",
       "2        261950.0      268067.0      244512.0      170632.0       99466.0   \n",
       "3       1887714.0     1746020.0     1561320.0     1011549.0      612868.0   \n",
       "4       1788762.0     1681030.0     1575792.0     1019172.0      634024.0   \n",
       "..            ...           ...           ...           ...           ...   \n",
       "291     2150594.0     1829435.0     1507104.0      965195.0      591138.0   \n",
       "292      421972.0      375267.0      346104.0      239085.0      151536.0   \n",
       "293      982700.0      895656.0      781056.0      524832.0      336610.0   \n",
       "294     1226794.0     1227507.0     1097064.0      688688.0      458954.0   \n",
       "295      306776.0      328434.0      350712.0      312851.0      260350.0   \n",
       "\n",
       "     Moyenne_8591  Moyenne_homme  \n",
       "0        436744.0      37.900398  \n",
       "1         64944.0      34.888650  \n",
       "2         73216.0      37.491104  \n",
       "3        568128.0      38.025946  \n",
       "4        527912.0      36.934456  \n",
       "..            ...            ...  \n",
       "291      531608.0      37.423970  \n",
       "292      127072.0      32.195297  \n",
       "293      281424.0      37.600707  \n",
       "294      425920.0      39.302733  \n",
       "295      226600.0      35.337921  \n",
       "\n",
       "[296 rows x 30 columns]"
      ]
     },
     "execution_count": 316,
     "metadata": {},
     "output_type": "execute_result"
    }
   ],
   "source": [
    "df_age_mode_homme"
   ]
  },
  {
   "cell_type": "code",
   "execution_count": 317,
   "metadata": {},
   "outputs": [],
   "source": [
    "df_age_mode_homme['gender'] = 'M'"
   ]
  },
  {
   "cell_type": "code",
   "execution_count": 318,
   "metadata": {},
   "outputs": [
    {
     "data": {
      "text/html": [
       "<div>\n",
       "<style scoped>\n",
       "    .dataframe tbody tr th:only-of-type {\n",
       "        vertical-align: middle;\n",
       "    }\n",
       "\n",
       "    .dataframe tbody tr th {\n",
       "        vertical-align: top;\n",
       "    }\n",
       "\n",
       "    .dataframe thead th {\n",
       "        text-align: right;\n",
       "    }\n",
       "</style>\n",
       "<table border=\"1\" class=\"dataframe\">\n",
       "  <thead>\n",
       "    <tr style=\"text-align: right;\">\n",
       "      <th></th>\n",
       "      <th>1824</th>\n",
       "      <th>2529</th>\n",
       "      <th>3034</th>\n",
       "      <th>3539</th>\n",
       "      <th>4044</th>\n",
       "      <th>4549</th>\n",
       "      <th>5054</th>\n",
       "      <th>5559</th>\n",
       "      <th>6064</th>\n",
       "      <th>6569</th>\n",
       "      <th>...</th>\n",
       "      <th>Moyenne_5054</th>\n",
       "      <th>Moyenne_5559</th>\n",
       "      <th>Moyenne_6064</th>\n",
       "      <th>Moyenne_6569</th>\n",
       "      <th>Moyenne_7074</th>\n",
       "      <th>Moyenne_7579</th>\n",
       "      <th>Moyenne_8084</th>\n",
       "      <th>Moyenne_8591</th>\n",
       "      <th>Moyenne_homme</th>\n",
       "      <th>gender</th>\n",
       "    </tr>\n",
       "  </thead>\n",
       "  <tbody>\n",
       "    <tr>\n",
       "      <th>0</th>\n",
       "      <td>33660.0</td>\n",
       "      <td>23117.0</td>\n",
       "      <td>22270.0</td>\n",
       "      <td>21217.0</td>\n",
       "      <td>20415.0</td>\n",
       "      <td>19636.0</td>\n",
       "      <td>22710.0</td>\n",
       "      <td>23838.0</td>\n",
       "      <td>24476.0</td>\n",
       "      <td>21015.0</td>\n",
       "      <td>...</td>\n",
       "      <td>1180920.0</td>\n",
       "      <td>1358766.0</td>\n",
       "      <td>1517512.0</td>\n",
       "      <td>1408005.0</td>\n",
       "      <td>1209600.0</td>\n",
       "      <td>757372.0</td>\n",
       "      <td>476010.0</td>\n",
       "      <td>436744.0</td>\n",
       "      <td>37.900398</td>\n",
       "      <td>M</td>\n",
       "    </tr>\n",
       "    <tr>\n",
       "      <th>1</th>\n",
       "      <td>7198.0</td>\n",
       "      <td>4389.0</td>\n",
       "      <td>4647.0</td>\n",
       "      <td>4225.0</td>\n",
       "      <td>4191.0</td>\n",
       "      <td>4059.0</td>\n",
       "      <td>4140.0</td>\n",
       "      <td>4238.0</td>\n",
       "      <td>4248.0</td>\n",
       "      <td>3834.0</td>\n",
       "      <td>...</td>\n",
       "      <td>215280.0</td>\n",
       "      <td>241566.0</td>\n",
       "      <td>263376.0</td>\n",
       "      <td>256878.0</td>\n",
       "      <td>232272.0</td>\n",
       "      <td>147532.0</td>\n",
       "      <td>83722.0</td>\n",
       "      <td>64944.0</td>\n",
       "      <td>34.888650</td>\n",
       "      <td>M</td>\n",
       "    </tr>\n",
       "    <tr>\n",
       "      <th>2</th>\n",
       "      <td>5011.0</td>\n",
       "      <td>4392.0</td>\n",
       "      <td>4515.0</td>\n",
       "      <td>4362.0</td>\n",
       "      <td>3938.0</td>\n",
       "      <td>3659.0</td>\n",
       "      <td>3909.0</td>\n",
       "      <td>4051.0</td>\n",
       "      <td>4225.0</td>\n",
       "      <td>4001.0</td>\n",
       "      <td>...</td>\n",
       "      <td>203268.0</td>\n",
       "      <td>230907.0</td>\n",
       "      <td>261950.0</td>\n",
       "      <td>268067.0</td>\n",
       "      <td>244512.0</td>\n",
       "      <td>170632.0</td>\n",
       "      <td>99466.0</td>\n",
       "      <td>73216.0</td>\n",
       "      <td>37.491104</td>\n",
       "      <td>M</td>\n",
       "    </tr>\n",
       "    <tr>\n",
       "      <th>3</th>\n",
       "      <td>47626.0</td>\n",
       "      <td>29416.0</td>\n",
       "      <td>29451.0</td>\n",
       "      <td>29114.0</td>\n",
       "      <td>27213.0</td>\n",
       "      <td>25208.0</td>\n",
       "      <td>29336.0</td>\n",
       "      <td>30951.0</td>\n",
       "      <td>30447.0</td>\n",
       "      <td>26060.0</td>\n",
       "      <td>...</td>\n",
       "      <td>1525472.0</td>\n",
       "      <td>1764207.0</td>\n",
       "      <td>1887714.0</td>\n",
       "      <td>1746020.0</td>\n",
       "      <td>1561320.0</td>\n",
       "      <td>1011549.0</td>\n",
       "      <td>612868.0</td>\n",
       "      <td>568128.0</td>\n",
       "      <td>38.025946</td>\n",
       "      <td>M</td>\n",
       "    </tr>\n",
       "    <tr>\n",
       "      <th>4</th>\n",
       "      <td>40782.0</td>\n",
       "      <td>31806.0</td>\n",
       "      <td>33281.0</td>\n",
       "      <td>32983.0</td>\n",
       "      <td>29785.0</td>\n",
       "      <td>26770.0</td>\n",
       "      <td>27010.0</td>\n",
       "      <td>28499.0</td>\n",
       "      <td>28851.0</td>\n",
       "      <td>25090.0</td>\n",
       "      <td>...</td>\n",
       "      <td>1404520.0</td>\n",
       "      <td>1624443.0</td>\n",
       "      <td>1788762.0</td>\n",
       "      <td>1681030.0</td>\n",
       "      <td>1575792.0</td>\n",
       "      <td>1019172.0</td>\n",
       "      <td>634024.0</td>\n",
       "      <td>527912.0</td>\n",
       "      <td>36.934456</td>\n",
       "      <td>M</td>\n",
       "    </tr>\n",
       "    <tr>\n",
       "      <th>...</th>\n",
       "      <td>...</td>\n",
       "      <td>...</td>\n",
       "      <td>...</td>\n",
       "      <td>...</td>\n",
       "      <td>...</td>\n",
       "      <td>...</td>\n",
       "      <td>...</td>\n",
       "      <td>...</td>\n",
       "      <td>...</td>\n",
       "      <td>...</td>\n",
       "      <td>...</td>\n",
       "      <td>...</td>\n",
       "      <td>...</td>\n",
       "      <td>...</td>\n",
       "      <td>...</td>\n",
       "      <td>...</td>\n",
       "      <td>...</td>\n",
       "      <td>...</td>\n",
       "      <td>...</td>\n",
       "      <td>...</td>\n",
       "      <td>...</td>\n",
       "    </tr>\n",
       "    <tr>\n",
       "      <th>291</th>\n",
       "      <td>46335.0</td>\n",
       "      <td>31571.0</td>\n",
       "      <td>33257.0</td>\n",
       "      <td>32503.0</td>\n",
       "      <td>30018.0</td>\n",
       "      <td>29904.0</td>\n",
       "      <td>34179.0</td>\n",
       "      <td>36397.0</td>\n",
       "      <td>34687.0</td>\n",
       "      <td>27305.0</td>\n",
       "      <td>...</td>\n",
       "      <td>1777308.0</td>\n",
       "      <td>2074629.0</td>\n",
       "      <td>2150594.0</td>\n",
       "      <td>1829435.0</td>\n",
       "      <td>1507104.0</td>\n",
       "      <td>965195.0</td>\n",
       "      <td>591138.0</td>\n",
       "      <td>531608.0</td>\n",
       "      <td>37.423970</td>\n",
       "      <td>M</td>\n",
       "    </tr>\n",
       "    <tr>\n",
       "      <th>292</th>\n",
       "      <td>12527.0</td>\n",
       "      <td>8794.0</td>\n",
       "      <td>8535.0</td>\n",
       "      <td>7858.0</td>\n",
       "      <td>7719.0</td>\n",
       "      <td>6861.0</td>\n",
       "      <td>6972.0</td>\n",
       "      <td>7004.0</td>\n",
       "      <td>6806.0</td>\n",
       "      <td>5601.0</td>\n",
       "      <td>...</td>\n",
       "      <td>362544.0</td>\n",
       "      <td>399228.0</td>\n",
       "      <td>421972.0</td>\n",
       "      <td>375267.0</td>\n",
       "      <td>346104.0</td>\n",
       "      <td>239085.0</td>\n",
       "      <td>151536.0</td>\n",
       "      <td>127072.0</td>\n",
       "      <td>32.195297</td>\n",
       "      <td>M</td>\n",
       "    </tr>\n",
       "    <tr>\n",
       "      <th>293</th>\n",
       "      <td>18926.0</td>\n",
       "      <td>14073.0</td>\n",
       "      <td>14987.0</td>\n",
       "      <td>14659.0</td>\n",
       "      <td>14137.0</td>\n",
       "      <td>13571.0</td>\n",
       "      <td>15930.0</td>\n",
       "      <td>16230.0</td>\n",
       "      <td>15850.0</td>\n",
       "      <td>13368.0</td>\n",
       "      <td>...</td>\n",
       "      <td>828360.0</td>\n",
       "      <td>925110.0</td>\n",
       "      <td>982700.0</td>\n",
       "      <td>895656.0</td>\n",
       "      <td>781056.0</td>\n",
       "      <td>524832.0</td>\n",
       "      <td>336610.0</td>\n",
       "      <td>281424.0</td>\n",
       "      <td>37.600707</td>\n",
       "      <td>M</td>\n",
       "    </tr>\n",
       "    <tr>\n",
       "      <th>294</th>\n",
       "      <td>22833.0</td>\n",
       "      <td>16828.0</td>\n",
       "      <td>16331.0</td>\n",
       "      <td>15105.0</td>\n",
       "      <td>15337.0</td>\n",
       "      <td>15289.0</td>\n",
       "      <td>17209.0</td>\n",
       "      <td>18456.0</td>\n",
       "      <td>19787.0</td>\n",
       "      <td>18321.0</td>\n",
       "      <td>...</td>\n",
       "      <td>894868.0</td>\n",
       "      <td>1051992.0</td>\n",
       "      <td>1226794.0</td>\n",
       "      <td>1227507.0</td>\n",
       "      <td>1097064.0</td>\n",
       "      <td>688688.0</td>\n",
       "      <td>458954.0</td>\n",
       "      <td>425920.0</td>\n",
       "      <td>39.302733</td>\n",
       "      <td>M</td>\n",
       "    </tr>\n",
       "    <tr>\n",
       "      <th>295</th>\n",
       "      <td>12808.0</td>\n",
       "      <td>8361.0</td>\n",
       "      <td>7699.0</td>\n",
       "      <td>6859.0</td>\n",
       "      <td>5854.0</td>\n",
       "      <td>4965.0</td>\n",
       "      <td>4925.0</td>\n",
       "      <td>4845.0</td>\n",
       "      <td>4948.0</td>\n",
       "      <td>4902.0</td>\n",
       "      <td>...</td>\n",
       "      <td>256100.0</td>\n",
       "      <td>276165.0</td>\n",
       "      <td>306776.0</td>\n",
       "      <td>328434.0</td>\n",
       "      <td>350712.0</td>\n",
       "      <td>312851.0</td>\n",
       "      <td>260350.0</td>\n",
       "      <td>226600.0</td>\n",
       "      <td>35.337921</td>\n",
       "      <td>M</td>\n",
       "    </tr>\n",
       "  </tbody>\n",
       "</table>\n",
       "<p>296 rows × 31 columns</p>\n",
       "</div>"
      ],
      "text/plain": [
       "        1824     2529     3034     3539     4044     4549     5054     5559  \\\n",
       "0    33660.0  23117.0  22270.0  21217.0  20415.0  19636.0  22710.0  23838.0   \n",
       "1     7198.0   4389.0   4647.0   4225.0   4191.0   4059.0   4140.0   4238.0   \n",
       "2     5011.0   4392.0   4515.0   4362.0   3938.0   3659.0   3909.0   4051.0   \n",
       "3    47626.0  29416.0  29451.0  29114.0  27213.0  25208.0  29336.0  30951.0   \n",
       "4    40782.0  31806.0  33281.0  32983.0  29785.0  26770.0  27010.0  28499.0   \n",
       "..       ...      ...      ...      ...      ...      ...      ...      ...   \n",
       "291  46335.0  31571.0  33257.0  32503.0  30018.0  29904.0  34179.0  36397.0   \n",
       "292  12527.0   8794.0   8535.0   7858.0   7719.0   6861.0   6972.0   7004.0   \n",
       "293  18926.0  14073.0  14987.0  14659.0  14137.0  13571.0  15930.0  16230.0   \n",
       "294  22833.0  16828.0  16331.0  15105.0  15337.0  15289.0  17209.0  18456.0   \n",
       "295  12808.0   8361.0   7699.0   6859.0   5854.0   4965.0   4925.0   4845.0   \n",
       "\n",
       "        6064     6569  ...  Moyenne_5054  Moyenne_5559  Moyenne_6064  \\\n",
       "0    24476.0  21015.0  ...     1180920.0     1358766.0     1517512.0   \n",
       "1     4248.0   3834.0  ...      215280.0      241566.0      263376.0   \n",
       "2     4225.0   4001.0  ...      203268.0      230907.0      261950.0   \n",
       "3    30447.0  26060.0  ...     1525472.0     1764207.0     1887714.0   \n",
       "4    28851.0  25090.0  ...     1404520.0     1624443.0     1788762.0   \n",
       "..       ...      ...  ...           ...           ...           ...   \n",
       "291  34687.0  27305.0  ...     1777308.0     2074629.0     2150594.0   \n",
       "292   6806.0   5601.0  ...      362544.0      399228.0      421972.0   \n",
       "293  15850.0  13368.0  ...      828360.0      925110.0      982700.0   \n",
       "294  19787.0  18321.0  ...      894868.0     1051992.0     1226794.0   \n",
       "295   4948.0   4902.0  ...      256100.0      276165.0      306776.0   \n",
       "\n",
       "     Moyenne_6569  Moyenne_7074  Moyenne_7579  Moyenne_8084  Moyenne_8591  \\\n",
       "0       1408005.0     1209600.0      757372.0      476010.0      436744.0   \n",
       "1        256878.0      232272.0      147532.0       83722.0       64944.0   \n",
       "2        268067.0      244512.0      170632.0       99466.0       73216.0   \n",
       "3       1746020.0     1561320.0     1011549.0      612868.0      568128.0   \n",
       "4       1681030.0     1575792.0     1019172.0      634024.0      527912.0   \n",
       "..            ...           ...           ...           ...           ...   \n",
       "291     1829435.0     1507104.0      965195.0      591138.0      531608.0   \n",
       "292      375267.0      346104.0      239085.0      151536.0      127072.0   \n",
       "293      895656.0      781056.0      524832.0      336610.0      281424.0   \n",
       "294     1227507.0     1097064.0      688688.0      458954.0      425920.0   \n",
       "295      328434.0      350712.0      312851.0      260350.0      226600.0   \n",
       "\n",
       "     Moyenne_homme  gender  \n",
       "0        37.900398       M  \n",
       "1        34.888650       M  \n",
       "2        37.491104       M  \n",
       "3        38.025946       M  \n",
       "4        36.934456       M  \n",
       "..             ...     ...  \n",
       "291      37.423970       M  \n",
       "292      32.195297       M  \n",
       "293      37.600707       M  \n",
       "294      39.302733       M  \n",
       "295      35.337921       M  \n",
       "\n",
       "[296 rows x 31 columns]"
      ]
     },
     "execution_count": 318,
     "metadata": {},
     "output_type": "execute_result"
    }
   ],
   "source": [
    "df_age_mode_homme"
   ]
  },
  {
   "cell_type": "code",
   "execution_count": 319,
   "metadata": {},
   "outputs": [],
   "source": [
    "df[\"smh\"]=df[\"2021\"]*df_age_test['POPESTIMATE']/(df_age_mode_homme['POPEST_MALE']+(0.815 *df_age_mode_femme['POPEST_FEMALE']))"
   ]
  },
  {
   "cell_type": "code",
   "execution_count": 320,
   "metadata": {},
   "outputs": [],
   "source": [
    "df[\"smf\"]=df[\"smh\"]*0.815"
   ]
  },
  {
   "cell_type": "code",
   "execution_count": 321,
   "metadata": {},
   "outputs": [],
   "source": [
    "df_test = df[['City_State_x','2019','2020','2021', 'Count', 'Longitude', 'Latitude','POPESTIMATE','nb_personne_starbucks' ]]"
   ]
  },
  {
   "cell_type": "code",
   "execution_count": 322,
   "metadata": {},
   "outputs": [
    {
     "data": {
      "text/html": [
       "<div>\n",
       "<style scoped>\n",
       "    .dataframe tbody tr th:only-of-type {\n",
       "        vertical-align: middle;\n",
       "    }\n",
       "\n",
       "    .dataframe tbody tr th {\n",
       "        vertical-align: top;\n",
       "    }\n",
       "\n",
       "    .dataframe thead th {\n",
       "        text-align: right;\n",
       "    }\n",
       "</style>\n",
       "<table border=\"1\" class=\"dataframe\">\n",
       "  <thead>\n",
       "    <tr style=\"text-align: right;\">\n",
       "      <th></th>\n",
       "      <th>City_State_x</th>\n",
       "      <th>2019</th>\n",
       "      <th>2020</th>\n",
       "      <th>2021</th>\n",
       "      <th>Count</th>\n",
       "      <th>Longitude</th>\n",
       "      <th>Latitude</th>\n",
       "      <th>POPESTIMATE</th>\n",
       "      <th>nb_personne_starbucks</th>\n",
       "    </tr>\n",
       "  </thead>\n",
       "  <tbody>\n",
       "    <tr>\n",
       "      <th>0</th>\n",
       "      <td>Akron, OH</td>\n",
       "      <td>51827</td>\n",
       "      <td>55232.0</td>\n",
       "      <td>58735.0</td>\n",
       "      <td>10</td>\n",
       "      <td>-81.51</td>\n",
       "      <td>41.08</td>\n",
       "      <td>700015.0</td>\n",
       "      <td>70001.500000</td>\n",
       "    </tr>\n",
       "    <tr>\n",
       "      <th>1</th>\n",
       "      <td>Albany, GA</td>\n",
       "      <td>38118</td>\n",
       "      <td>42006.0</td>\n",
       "      <td>45619.0</td>\n",
       "      <td>3</td>\n",
       "      <td>-84.22</td>\n",
       "      <td>31.61</td>\n",
       "      <td>147773.0</td>\n",
       "      <td>49257.666667</td>\n",
       "    </tr>\n",
       "    <tr>\n",
       "      <th>2</th>\n",
       "      <td>Lebanon, OR</td>\n",
       "      <td>44501</td>\n",
       "      <td>48357.0</td>\n",
       "      <td>52695.0</td>\n",
       "      <td>1</td>\n",
       "      <td>-122.91</td>\n",
       "      <td>44.53</td>\n",
       "      <td>129839.0</td>\n",
       "      <td>129839.000000</td>\n",
       "    </tr>\n",
       "    <tr>\n",
       "      <th>3</th>\n",
       "      <td>Troy, NY</td>\n",
       "      <td>59477</td>\n",
       "      <td>63951.0</td>\n",
       "      <td>67788.0</td>\n",
       "      <td>1</td>\n",
       "      <td>-73.68</td>\n",
       "      <td>42.74</td>\n",
       "      <td>899286.0</td>\n",
       "      <td>899286.000000</td>\n",
       "    </tr>\n",
       "    <tr>\n",
       "      <th>4</th>\n",
       "      <td>Albuquerque, NM</td>\n",
       "      <td>44884</td>\n",
       "      <td>48514.0</td>\n",
       "      <td>52263.0</td>\n",
       "      <td>37</td>\n",
       "      <td>-106.69</td>\n",
       "      <td>35.18</td>\n",
       "      <td>918259.0</td>\n",
       "      <td>24817.810811</td>\n",
       "    </tr>\n",
       "    <tr>\n",
       "      <th>...</th>\n",
       "      <td>...</td>\n",
       "      <td>...</td>\n",
       "      <td>...</td>\n",
       "      <td>...</td>\n",
       "      <td>...</td>\n",
       "      <td>...</td>\n",
       "      <td>...</td>\n",
       "      <td>...</td>\n",
       "      <td>...</td>\n",
       "    </tr>\n",
       "    <tr>\n",
       "      <th>291</th>\n",
       "      <td>Worcester, MACT</td>\n",
       "      <td>55671</td>\n",
       "      <td>60364.0</td>\n",
       "      <td>64540.0</td>\n",
       "      <td>3</td>\n",
       "      <td>-71.81</td>\n",
       "      <td>42.29</td>\n",
       "      <td>978447.0</td>\n",
       "      <td>326149.000000</td>\n",
       "    </tr>\n",
       "    <tr>\n",
       "      <th>292</th>\n",
       "      <td>Yakima, WA</td>\n",
       "      <td>43208</td>\n",
       "      <td>47315.0</td>\n",
       "      <td>50872.0</td>\n",
       "      <td>11</td>\n",
       "      <td>-120.56</td>\n",
       "      <td>46.62</td>\n",
       "      <td>256035.0</td>\n",
       "      <td>23275.909091</td>\n",
       "    </tr>\n",
       "    <tr>\n",
       "      <th>293</th>\n",
       "      <td>Hanover, PA</td>\n",
       "      <td>51295</td>\n",
       "      <td>54808.0</td>\n",
       "      <td>57870.0</td>\n",
       "      <td>2</td>\n",
       "      <td>-76.99</td>\n",
       "      <td>39.83</td>\n",
       "      <td>458696.0</td>\n",
       "      <td>229348.000000</td>\n",
       "    </tr>\n",
       "    <tr>\n",
       "      <th>294</th>\n",
       "      <td>Boardman, OHPA</td>\n",
       "      <td>42450</td>\n",
       "      <td>46009.0</td>\n",
       "      <td>48904.0</td>\n",
       "      <td>1</td>\n",
       "      <td>-80.68</td>\n",
       "      <td>41.02</td>\n",
       "      <td>538069.0</td>\n",
       "      <td>538069.000000</td>\n",
       "    </tr>\n",
       "    <tr>\n",
       "      <th>295</th>\n",
       "      <td>Yuma, AZ</td>\n",
       "      <td>37624</td>\n",
       "      <td>42732.0</td>\n",
       "      <td>44299.0</td>\n",
       "      <td>8</td>\n",
       "      <td>-114.61</td>\n",
       "      <td>32.70</td>\n",
       "      <td>206990.0</td>\n",
       "      <td>25873.750000</td>\n",
       "    </tr>\n",
       "  </tbody>\n",
       "</table>\n",
       "<p>296 rows × 9 columns</p>\n",
       "</div>"
      ],
      "text/plain": [
       "        City_State_x   2019     2020     2021  Count  Longitude  Latitude  \\\n",
       "0          Akron, OH  51827  55232.0  58735.0     10     -81.51     41.08   \n",
       "1         Albany, GA  38118  42006.0  45619.0      3     -84.22     31.61   \n",
       "2        Lebanon, OR  44501  48357.0  52695.0      1    -122.91     44.53   \n",
       "3           Troy, NY  59477  63951.0  67788.0      1     -73.68     42.74   \n",
       "4    Albuquerque, NM  44884  48514.0  52263.0     37    -106.69     35.18   \n",
       "..               ...    ...      ...      ...    ...        ...       ...   \n",
       "291  Worcester, MACT  55671  60364.0  64540.0      3     -71.81     42.29   \n",
       "292       Yakima, WA  43208  47315.0  50872.0     11    -120.56     46.62   \n",
       "293      Hanover, PA  51295  54808.0  57870.0      2     -76.99     39.83   \n",
       "294   Boardman, OHPA  42450  46009.0  48904.0      1     -80.68     41.02   \n",
       "295         Yuma, AZ  37624  42732.0  44299.0      8    -114.61     32.70   \n",
       "\n",
       "     POPESTIMATE  nb_personne_starbucks  \n",
       "0       700015.0           70001.500000  \n",
       "1       147773.0           49257.666667  \n",
       "2       129839.0          129839.000000  \n",
       "3       899286.0          899286.000000  \n",
       "4       918259.0           24817.810811  \n",
       "..           ...                    ...  \n",
       "291     978447.0          326149.000000  \n",
       "292     256035.0           23275.909091  \n",
       "293     458696.0          229348.000000  \n",
       "294     538069.0          538069.000000  \n",
       "295     206990.0           25873.750000  \n",
       "\n",
       "[296 rows x 9 columns]"
      ]
     },
     "execution_count": 322,
     "metadata": {},
     "output_type": "execute_result"
    }
   ],
   "source": [
    "df_test"
   ]
  },
  {
   "cell_type": "code",
   "execution_count": 323,
   "metadata": {},
   "outputs": [],
   "source": [
    "df_femme_ml = pd.DataFrame({'City_State_x': df_test['City_State_x'], \n",
    "                            'gender': df_age_mode_femme['gender'], \n",
    "                            'Moyenne_par_sexe': df_age_mode_femme['Moyenne_femme'], \n",
    "                            'Moyenne_salaire': df['smf']})\n"
   ]
  },
  {
   "cell_type": "code",
   "execution_count": 324,
   "metadata": {},
   "outputs": [],
   "source": [
    "df_homme_ml = pd.DataFrame({'City_State_x': df_test['City_State_x'], \n",
    "                            'gender': df_age_mode_homme['gender'], \n",
    "                            'Moyenne_par_sexe': df_age_mode_homme['Moyenne_homme'], \n",
    "                            'Moyenne_salaire': df['smh']})"
   ]
  },
  {
   "cell_type": "code",
   "execution_count": 325,
   "metadata": {},
   "outputs": [
    {
     "data": {
      "text/html": [
       "<div>\n",
       "<style scoped>\n",
       "    .dataframe tbody tr th:only-of-type {\n",
       "        vertical-align: middle;\n",
       "    }\n",
       "\n",
       "    .dataframe tbody tr th {\n",
       "        vertical-align: top;\n",
       "    }\n",
       "\n",
       "    .dataframe thead th {\n",
       "        text-align: right;\n",
       "    }\n",
       "</style>\n",
       "<table border=\"1\" class=\"dataframe\">\n",
       "  <thead>\n",
       "    <tr style=\"text-align: right;\">\n",
       "      <th></th>\n",
       "      <th>City_State_x</th>\n",
       "      <th>gender</th>\n",
       "      <th>Moyenne_par_sexe</th>\n",
       "      <th>Moyenne_salaire</th>\n",
       "    </tr>\n",
       "  </thead>\n",
       "  <tbody>\n",
       "    <tr>\n",
       "      <th>0</th>\n",
       "      <td>Akron, OH</td>\n",
       "      <td>M</td>\n",
       "      <td>37.900398</td>\n",
       "      <td>64877.038008</td>\n",
       "    </tr>\n",
       "    <tr>\n",
       "      <th>1</th>\n",
       "      <td>Albany, GA</td>\n",
       "      <td>M</td>\n",
       "      <td>34.888650</td>\n",
       "      <td>50530.099772</td>\n",
       "    </tr>\n",
       "    <tr>\n",
       "      <th>2</th>\n",
       "      <td>Lebanon, OR</td>\n",
       "      <td>M</td>\n",
       "      <td>37.491104</td>\n",
       "      <td>58102.195074</td>\n",
       "    </tr>\n",
       "    <tr>\n",
       "      <th>3</th>\n",
       "      <td>Troy, NY</td>\n",
       "      <td>M</td>\n",
       "      <td>38.025946</td>\n",
       "      <td>74821.998906</td>\n",
       "    </tr>\n",
       "    <tr>\n",
       "      <th>4</th>\n",
       "      <td>Albuquerque, NM</td>\n",
       "      <td>M</td>\n",
       "      <td>36.934456</td>\n",
       "      <td>57656.738645</td>\n",
       "    </tr>\n",
       "    <tr>\n",
       "      <th>...</th>\n",
       "      <td>...</td>\n",
       "      <td>...</td>\n",
       "      <td>...</td>\n",
       "      <td>...</td>\n",
       "    </tr>\n",
       "    <tr>\n",
       "      <th>291</th>\n",
       "      <td>Worcester, MACT</td>\n",
       "      <td>M</td>\n",
       "      <td>37.423970</td>\n",
       "      <td>71167.247192</td>\n",
       "    </tr>\n",
       "    <tr>\n",
       "      <th>292</th>\n",
       "      <td>Yakima, WA</td>\n",
       "      <td>M</td>\n",
       "      <td>32.195297</td>\n",
       "      <td>56040.277884</td>\n",
       "    </tr>\n",
       "    <tr>\n",
       "      <th>293</th>\n",
       "      <td>Hanover, PA</td>\n",
       "      <td>M</td>\n",
       "      <td>37.600707</td>\n",
       "      <td>63796.437530</td>\n",
       "    </tr>\n",
       "    <tr>\n",
       "      <th>294</th>\n",
       "      <td>Boardman, OHPA</td>\n",
       "      <td>M</td>\n",
       "      <td>39.302733</td>\n",
       "      <td>53953.166213</td>\n",
       "    </tr>\n",
       "    <tr>\n",
       "      <th>295</th>\n",
       "      <td>Yuma, AZ</td>\n",
       "      <td>M</td>\n",
       "      <td>35.337921</td>\n",
       "      <td>48631.651616</td>\n",
       "    </tr>\n",
       "  </tbody>\n",
       "</table>\n",
       "<p>296 rows × 4 columns</p>\n",
       "</div>"
      ],
      "text/plain": [
       "        City_State_x gender  Moyenne_par_sexe  Moyenne_salaire\n",
       "0          Akron, OH      M         37.900398     64877.038008\n",
       "1         Albany, GA      M         34.888650     50530.099772\n",
       "2        Lebanon, OR      M         37.491104     58102.195074\n",
       "3           Troy, NY      M         38.025946     74821.998906\n",
       "4    Albuquerque, NM      M         36.934456     57656.738645\n",
       "..               ...    ...               ...              ...\n",
       "291  Worcester, MACT      M         37.423970     71167.247192\n",
       "292       Yakima, WA      M         32.195297     56040.277884\n",
       "293      Hanover, PA      M         37.600707     63796.437530\n",
       "294   Boardman, OHPA      M         39.302733     53953.166213\n",
       "295         Yuma, AZ      M         35.337921     48631.651616\n",
       "\n",
       "[296 rows x 4 columns]"
      ]
     },
     "execution_count": 325,
     "metadata": {},
     "output_type": "execute_result"
    }
   ],
   "source": [
    "df_homme_ml"
   ]
  },
  {
   "cell_type": "code",
   "execution_count": 326,
   "metadata": {},
   "outputs": [
    {
     "data": {
      "text/html": [
       "<div>\n",
       "<style scoped>\n",
       "    .dataframe tbody tr th:only-of-type {\n",
       "        vertical-align: middle;\n",
       "    }\n",
       "\n",
       "    .dataframe tbody tr th {\n",
       "        vertical-align: top;\n",
       "    }\n",
       "\n",
       "    .dataframe thead th {\n",
       "        text-align: right;\n",
       "    }\n",
       "</style>\n",
       "<table border=\"1\" class=\"dataframe\">\n",
       "  <thead>\n",
       "    <tr style=\"text-align: right;\">\n",
       "      <th></th>\n",
       "      <th>City_State_x</th>\n",
       "      <th>gender</th>\n",
       "      <th>Moyenne_par_sexe</th>\n",
       "      <th>Moyenne_salaire</th>\n",
       "    </tr>\n",
       "  </thead>\n",
       "  <tbody>\n",
       "    <tr>\n",
       "      <th>0</th>\n",
       "      <td>Akron, OH</td>\n",
       "      <td>F</td>\n",
       "      <td>39.816189</td>\n",
       "      <td>52874.785977</td>\n",
       "    </tr>\n",
       "    <tr>\n",
       "      <th>1</th>\n",
       "      <td>Albany, GA</td>\n",
       "      <td>F</td>\n",
       "      <td>37.639526</td>\n",
       "      <td>41182.031314</td>\n",
       "    </tr>\n",
       "    <tr>\n",
       "      <th>2</th>\n",
       "      <td>Lebanon, OR</td>\n",
       "      <td>F</td>\n",
       "      <td>38.987384</td>\n",
       "      <td>47353.288985</td>\n",
       "    </tr>\n",
       "    <tr>\n",
       "      <th>3</th>\n",
       "      <td>Troy, NY</td>\n",
       "      <td>F</td>\n",
       "      <td>40.085566</td>\n",
       "      <td>60979.929108</td>\n",
       "    </tr>\n",
       "    <tr>\n",
       "      <th>4</th>\n",
       "      <td>Albuquerque, NM</td>\n",
       "      <td>F</td>\n",
       "      <td>38.923786</td>\n",
       "      <td>46990.241996</td>\n",
       "    </tr>\n",
       "    <tr>\n",
       "      <th>...</th>\n",
       "      <td>...</td>\n",
       "      <td>...</td>\n",
       "      <td>...</td>\n",
       "      <td>...</td>\n",
       "    </tr>\n",
       "    <tr>\n",
       "      <th>291</th>\n",
       "      <td>Worcester, MACT</td>\n",
       "      <td>F</td>\n",
       "      <td>39.264453</td>\n",
       "      <td>58001.306461</td>\n",
       "    </tr>\n",
       "    <tr>\n",
       "      <th>292</th>\n",
       "      <td>Yakima, WA</td>\n",
       "      <td>F</td>\n",
       "      <td>33.499138</td>\n",
       "      <td>45672.826475</td>\n",
       "    </tr>\n",
       "    <tr>\n",
       "      <th>293</th>\n",
       "      <td>Hanover, PA</td>\n",
       "      <td>F</td>\n",
       "      <td>39.518955</td>\n",
       "      <td>51994.096587</td>\n",
       "    </tr>\n",
       "    <tr>\n",
       "      <th>294</th>\n",
       "      <td>Boardman, OHPA</td>\n",
       "      <td>F</td>\n",
       "      <td>42.066403</td>\n",
       "      <td>43971.830463</td>\n",
       "    </tr>\n",
       "    <tr>\n",
       "      <th>295</th>\n",
       "      <td>Yuma, AZ</td>\n",
       "      <td>F</td>\n",
       "      <td>37.005538</td>\n",
       "      <td>39634.796067</td>\n",
       "    </tr>\n",
       "  </tbody>\n",
       "</table>\n",
       "<p>296 rows × 4 columns</p>\n",
       "</div>"
      ],
      "text/plain": [
       "        City_State_x gender  Moyenne_par_sexe  Moyenne_salaire\n",
       "0          Akron, OH      F         39.816189     52874.785977\n",
       "1         Albany, GA      F         37.639526     41182.031314\n",
       "2        Lebanon, OR      F         38.987384     47353.288985\n",
       "3           Troy, NY      F         40.085566     60979.929108\n",
       "4    Albuquerque, NM      F         38.923786     46990.241996\n",
       "..               ...    ...               ...              ...\n",
       "291  Worcester, MACT      F         39.264453     58001.306461\n",
       "292       Yakima, WA      F         33.499138     45672.826475\n",
       "293      Hanover, PA      F         39.518955     51994.096587\n",
       "294   Boardman, OHPA      F         42.066403     43971.830463\n",
       "295         Yuma, AZ      F         37.005538     39634.796067\n",
       "\n",
       "[296 rows x 4 columns]"
      ]
     },
     "execution_count": 326,
     "metadata": {},
     "output_type": "execute_result"
    }
   ],
   "source": [
    "df_femme_ml"
   ]
  },
  {
   "cell_type": "code",
   "execution_count": 327,
   "metadata": {},
   "outputs": [],
   "source": [
    "df_ml = pd.concat([df_homme_ml, df_femme_ml], ignore_index=True)"
   ]
  },
  {
   "cell_type": "code",
   "execution_count": 328,
   "metadata": {},
   "outputs": [
    {
     "data": {
      "text/html": [
       "<div>\n",
       "<style scoped>\n",
       "    .dataframe tbody tr th:only-of-type {\n",
       "        vertical-align: middle;\n",
       "    }\n",
       "\n",
       "    .dataframe tbody tr th {\n",
       "        vertical-align: top;\n",
       "    }\n",
       "\n",
       "    .dataframe thead th {\n",
       "        text-align: right;\n",
       "    }\n",
       "</style>\n",
       "<table border=\"1\" class=\"dataframe\">\n",
       "  <thead>\n",
       "    <tr style=\"text-align: right;\">\n",
       "      <th></th>\n",
       "      <th>City_State_x</th>\n",
       "      <th>gender</th>\n",
       "      <th>Moyenne_par_sexe</th>\n",
       "      <th>Moyenne_salaire</th>\n",
       "    </tr>\n",
       "  </thead>\n",
       "  <tbody>\n",
       "    <tr>\n",
       "      <th>0</th>\n",
       "      <td>Akron, OH</td>\n",
       "      <td>M</td>\n",
       "      <td>37.900398</td>\n",
       "      <td>64877.038008</td>\n",
       "    </tr>\n",
       "    <tr>\n",
       "      <th>1</th>\n",
       "      <td>Albany, GA</td>\n",
       "      <td>M</td>\n",
       "      <td>34.888650</td>\n",
       "      <td>50530.099772</td>\n",
       "    </tr>\n",
       "    <tr>\n",
       "      <th>2</th>\n",
       "      <td>Lebanon, OR</td>\n",
       "      <td>M</td>\n",
       "      <td>37.491104</td>\n",
       "      <td>58102.195074</td>\n",
       "    </tr>\n",
       "    <tr>\n",
       "      <th>3</th>\n",
       "      <td>Troy, NY</td>\n",
       "      <td>M</td>\n",
       "      <td>38.025946</td>\n",
       "      <td>74821.998906</td>\n",
       "    </tr>\n",
       "    <tr>\n",
       "      <th>4</th>\n",
       "      <td>Albuquerque, NM</td>\n",
       "      <td>M</td>\n",
       "      <td>36.934456</td>\n",
       "      <td>57656.738645</td>\n",
       "    </tr>\n",
       "    <tr>\n",
       "      <th>...</th>\n",
       "      <td>...</td>\n",
       "      <td>...</td>\n",
       "      <td>...</td>\n",
       "      <td>...</td>\n",
       "    </tr>\n",
       "    <tr>\n",
       "      <th>587</th>\n",
       "      <td>Worcester, MACT</td>\n",
       "      <td>F</td>\n",
       "      <td>39.264453</td>\n",
       "      <td>58001.306461</td>\n",
       "    </tr>\n",
       "    <tr>\n",
       "      <th>588</th>\n",
       "      <td>Yakima, WA</td>\n",
       "      <td>F</td>\n",
       "      <td>33.499138</td>\n",
       "      <td>45672.826475</td>\n",
       "    </tr>\n",
       "    <tr>\n",
       "      <th>589</th>\n",
       "      <td>Hanover, PA</td>\n",
       "      <td>F</td>\n",
       "      <td>39.518955</td>\n",
       "      <td>51994.096587</td>\n",
       "    </tr>\n",
       "    <tr>\n",
       "      <th>590</th>\n",
       "      <td>Boardman, OHPA</td>\n",
       "      <td>F</td>\n",
       "      <td>42.066403</td>\n",
       "      <td>43971.830463</td>\n",
       "    </tr>\n",
       "    <tr>\n",
       "      <th>591</th>\n",
       "      <td>Yuma, AZ</td>\n",
       "      <td>F</td>\n",
       "      <td>37.005538</td>\n",
       "      <td>39634.796067</td>\n",
       "    </tr>\n",
       "  </tbody>\n",
       "</table>\n",
       "<p>592 rows × 4 columns</p>\n",
       "</div>"
      ],
      "text/plain": [
       "        City_State_x gender  Moyenne_par_sexe  Moyenne_salaire\n",
       "0          Akron, OH      M         37.900398     64877.038008\n",
       "1         Albany, GA      M         34.888650     50530.099772\n",
       "2        Lebanon, OR      M         37.491104     58102.195074\n",
       "3           Troy, NY      M         38.025946     74821.998906\n",
       "4    Albuquerque, NM      M         36.934456     57656.738645\n",
       "..               ...    ...               ...              ...\n",
       "587  Worcester, MACT      F         39.264453     58001.306461\n",
       "588       Yakima, WA      F         33.499138     45672.826475\n",
       "589      Hanover, PA      F         39.518955     51994.096587\n",
       "590   Boardman, OHPA      F         42.066403     43971.830463\n",
       "591         Yuma, AZ      F         37.005538     39634.796067\n",
       "\n",
       "[592 rows x 4 columns]"
      ]
     },
     "execution_count": 328,
     "metadata": {},
     "output_type": "execute_result"
    }
   ],
   "source": [
    "df_ml"
   ]
  },
  {
   "cell_type": "code",
   "execution_count": 329,
   "metadata": {},
   "outputs": [],
   "source": [
    "df_ml.to_csv(\"df_machine_learning.csv\")"
   ]
  },
  {
   "cell_type": "code",
   "execution_count": 330,
   "metadata": {},
   "outputs": [
    {
     "data": {
      "application/vnd.plotly.v1+json": {
       "config": {
        "plotlyServerURL": "https://plot.ly"
       },
       "data": [
        {
         "hovertemplate": "<b>%{hovertext}</b><br><br>Latitude=%{lat}<br>Longitude=%{lon}<br>Population=%{marker.color}<extra></extra>",
         "hovertext": [
          "Akron, OH",
          "Albany, GA",
          "Lebanon, OR",
          "Troy, NY",
          "Albuquerque, NM",
          "Alexandria, LA",
          "Alexandria, DCVAMDWV",
          "Easton, PANJ",
          "Amarillo, TX",
          "Ames, IA",
          "Anchorage, AK",
          "AnnArbor, MI",
          "Oxford, AL",
          "Appleton, WI",
          "Asheville, NC",
          "Alpharetta, GA",
          "Hammonton, NJ",
          "Opelika, AL",
          "Georgetown, TX",
          "Bakersfield, CA",
          "Towson, MD",
          "Bangor, ME",
          "BatonRouge, LA",
          "BattleCreek, MI",
          "BayCity, MI",
          "Beckley, WV",
          "Bellingham, WA",
          "Bend, OR",
          "Billings, MT",
          "Binghamton, NY",
          "Hoover, AL",
          "Bismarck, ND",
          "Christiansburg, VA",
          "Bloomington, IL",
          "Bloomington, IN",
          "Berwick, PA",
          "Brunswick, GA",
          "Newton, MANH",
          "Boulder, CO",
          "BowlingGreen, KY",
          "PortOrchard, WA",
          "Norwalk, CT",
          "Harlingen, TX",
          "Cheektowaga, NY",
          "Burlington, NC",
          "Massillon, OH",
          "FortMyers, FL",
          "CapeGirardeau, MOIL",
          "Marion, IL",
          "CarsonCity, NV",
          "Casper, WY",
          "CedarRapids, IA",
          "Urbana, IL",
          "Charleston, WV",
          "Gastonia, NCSC",
          "Charlottesville, VA",
          "Chattanooga, TNGA",
          "Cheyenne, WY",
          "Elgin, ILINWI",
          "Chico, CA",
          "Cincinnati, OHKYIN",
          "Clarksville, TNKY",
          "Cleveland, TN",
          "Elyria, OH",
          "Bryan, TX",
          "ColoradoSprings, CO",
          "Columbia, MO",
          "Columbus, GAAL",
          "Columbus, IN",
          "Columbus, OH",
          "Corvallis, OR",
          "Destin, FL",
          "Arlington, TX",
          "Dalton, GA",
          "Foley, AL",
          "Kettering, OH",
          "Decatur, AL",
          "Decatur, IL",
          "OrmondBeach, FL",
          "Lakewood, CO",
          "Dothan, AL",
          "Dover, DE",
          "Dubuque, IA",
          "Duluth, MNWI",
          "ChapelHill, NC",
          "EauClaire, WI",
          "ElCentro, CA",
          "FortKnox, KY",
          "Goshen, IN",
          "Elmira, NY",
          "ElPaso, TX",
          "Enid, OK",
          "Erie, PA",
          "Springfield, OR",
          "Evansville, INKY",
          "Fairbanks, AK",
          "Fargo, NDMN",
          "Farmington, NM",
          "Fayetteville, NC",
          "Rogers, AR",
          "Flagstaff, AZ",
          "Flint, MI",
          "Florence, SC",
          "MuscleShoals, AL",
          "Tuscaloosa, AL",
          "FortSmith, AROK",
          "FortWayne, IN",
          "Fresno, CA",
          "Gadsden, AL",
          "Gainesville, FL",
          "Gainesville, GA",
          "Gettysburg, PA",
          "Goldsboro, NC",
          "GrandIsland, NE",
          "GrandJunction, CO",
          "Kentwood, MI",
          "GrantsPass, OR",
          "GreatFalls, MT",
          "CedarFalls, IA",
          "Greeley, CO",
          "HighPoint, NC",
          "Greenville, NC",
          "Anderson, SC",
          "Biloxi, MS",
          "Hammond, LA",
          "Carlisle, PA",
          "Harrisonburg, VA",
          "Hattiesburg, MS",
          "Morganton, NC",
          "Bluffton, SC",
          "Hinesville, GA",
          "HotSprings, AR",
          "Thibodaux, LA",
          "Huntsville, AL",
          "Anderson, IN",
          "Ithaca, NY",
          "Jackson, MI",
          "Jackson, MS",
          "Jackson, TN",
          "Jacksonville, NC",
          "Beloit, WI",
          "JeffersonCity, MO",
          "JohnsonCity, TN",
          "Johnstown, PA",
          "Jonesboro, AR",
          "Joplin, MO",
          "Lahaina, HI",
          "Portage, MI",
          "Richland, WA",
          "Temple, TX",
          "Kingston, NY",
          "Kokomo, IN",
          "Onalaska, WIMN",
          "Lafayette, LA",
          "LakeCharles, LA",
          "Kingman, AZ",
          "Lancaster, PA",
          "EastLansing, MI",
          "Laredo, TX",
          "LasCruces, NM",
          "Lawrence, KS",
          "Lawton, OK",
          "Lewiston, IDWA",
          "Auburn, ME",
          "Lima, OH",
          "Lincoln, NE",
          "Conway, AR",
          "Logan, UTID",
          "Longview, TX",
          "Longview, WA",
          "Lubbock, TX",
          "Lynchburg, VA",
          "Madison, WI",
          "Nashua, NH",
          "Manhattan, KS",
          "Mankato, MN",
          "Mansfield, OH",
          "Mission, TX",
          "Medford, OR",
          "Memphis, TNMSAR",
          "Merced, CA",
          "PompanoBeach, FL",
          "Midland, MI",
          "Midland, TX",
          "Waukesha, WI",
          "Bloomington, MNWI",
          "Missoula, MT",
          "Mobile, AL",
          "Modesto, CA",
          "Monroe, LA",
          "Montgomery, AL",
          "Morgantown, WV",
          "Morristown, TN",
          "Anacortes, WA",
          "Muncie, IN",
          "Muskegon, MI",
          "Napa, CA",
          "Franklin, TN",
          "Milford, CT",
          "Metairie, LA",
          "Niles, MI",
          "Bradenton, FL",
          "Brent, FL",
          "Ocala, FL",
          "Odessa, TX",
          "Clearfield, UT",
          "OklahomaCity, OK",
          "Tumwater, WA",
          "CouncilBluffs, NEIA",
          "Sanford, FL",
          "Neenah, WI",
          "Owensboro, KY",
          "Ventura, CA",
          "Titusville, FL",
          "PanamaCity, FL",
          "Chandler, AZ",
          "Pittsburgh, PA",
          "Pittsfield, MA",
          "Pocatello, ID",
          "Hillsboro, ORWA",
          "Middletown, NY",
          "Warwick, RIMA",
          "Orem, UT",
          "Racine, WI",
          "Cary, NC",
          "Reading, PA",
          "Redding, CA",
          "Reno, NV",
          "Richmond, VA",
          "Ontario, CA",
          "Roanoke, VA",
          "Rochester, MN",
          "Rochester, NY",
          "Rockford, IL",
          "Rome, GA",
          "Folsom, CA",
          "Saginaw, MI",
          "StGeorge, UT",
          "StJoseph, MOKS",
          "Topeka, KS",
          "Salem, OR",
          "Salinas, CA",
          "Salisbury, MDDE",
          "SanAngelo, TX",
          "NewBraunfels, TX",
          "Carlsbad, CA",
          "Berkeley, CA",
          "PasoRobles, CA",
          "Watsonville, CA",
          "SantaFe, NM",
          "SantaBarbara, CA",
          "Petaluma, CA",
          "Savannah, GA",
          "Bellevue, WA",
          "Sheboygan, WI",
          "BossierCity, LA",
          "Douglas, AZ",
          "SiouxCity, IANESD",
          "SiouxFalls, SD",
          "Mishawaka, INMI",
          "Spartanburg, SC",
          "SpokaneValley, WA",
          "Springfield, IL",
          "Springfield, MA",
          "Springfield, MO",
          "Springfield, OH",
          "Staunton, VA",
          "Stockton, CA",
          "Sumter, SC",
          "Syracuse, NY",
          "Tallahassee, FL",
          "Clearwater, FL",
          "TheVillages, FL",
          "Toledo, OH",
          "Princeton, NJ",
          "Tucson, AZ",
          "Tulsa, OK",
          "Tyler, TX",
          "Valdosta, GA",
          "Vallejo, CA",
          "Victoria, TX",
          "NewportNews, VANC",
          "Visalia, CA",
          "Waco, TX",
          "WallaWalla, WA",
          "Steubenville, WVOH",
          "Wheeling, WVOH",
          "Wichita, KS",
          "Williamsport, PA",
          "Wilmington, NC",
          "Winchester, VAWV",
          "Worcester, MACT",
          "Yakima, WA",
          "Hanover, PA",
          "Boardman, OHPA",
          "Yuma, AZ"
         ],
         "lat": [
          41.08,
          31.61,
          44.53,
          42.74,
          35.18,
          31.28,
          31.28,
          40.69,
          35.19,
          42.02,
          61.21,
          42.24,
          33.61,
          44.27,
          35.58,
          34.08,
          39.55,
          32.62,
          30.63,
          35.3,
          39.4,
          44.84,
          30.42,
          42.26,
          43.62,
          37.8,
          48.73,
          44.06,
          45.76,
          42.14,
          33.36,
          46.8,
          37.16,
          40.5,
          39.17,
          31.22,
          31.22,
          42.31,
          40.03,
          36.96,
          47.54,
          41.12,
          26.19,
          42.91,
          36.08,
          40.77,
          26.6,
          37.3,
          37.75,
          39.2,
          42.86,
          41.96,
          40.11,
          38.34,
          35.26,
          38.03,
          35.05,
          41.16,
          42.03,
          39.74,
          39.27,
          36.53,
          35.16,
          41.41,
          30.66,
          38.81,
          38.95,
          32.54,
          39.22,
          40,
          44.56,
          30.39,
          32.67,
          34.8,
          30.38,
          39.7,
          34.59,
          39.89,
          29.29,
          39.74,
          31.27,
          39.16,
          42.52,
          46.81,
          35.9,
          44.78,
          32.82,
          37.88,
          41.6,
          42.1,
          31.72,
          36.39,
          42.07,
          44.06,
          38.02,
          64.84,
          46.83,
          36.75,
          35.07,
          36.33,
          35.22,
          43.02,
          34.19,
          33.21,
          33.21,
          35.36,
          41.18,
          36.78,
          33.99,
          29.65,
          34.37,
          39.84,
          35.38,
          40.92,
          39.08,
          42.85,
          42.43,
          42.51,
          42.51,
          40.39,
          35.98,
          35.61,
          34.55,
          30.39,
          30.5,
          40.2,
          38.43,
          31.33,
          35.74,
          32.25,
          31.97,
          34.46,
          29.81,
          34.77,
          40.14,
          42.44,
          42.27,
          32.36,
          35.67,
          34.79,
          42.52,
          38.58,
          36.31,
          40.28,
          35.82,
          37.07,
          20.88,
          42.21,
          46.23,
          31.1,
          41.96,
          40.44,
          43.87,
          30.16,
          30.21,
          35.23,
          40.03,
          42.73,
          27.61,
          32.29,
          38.94,
          34.63,
          46.41,
          44.12,
          40.74,
          40.72,
          35.09,
          41.72,
          32.53,
          46.14,
          33.55,
          37.35,
          43.07,
          42.77,
          39.18,
          44.17,
          40.72,
          26.2,
          42.31,
          35.1,
          37.32,
          26.23,
          43.66,
          32.02,
          43.02,
          44.86,
          46.85,
          30.7,
          37.65,
          32.53,
          32.38,
          39.66,
          36.2,
          48.51,
          40.19,
          43.16,
          38.28,
          35.89,
          41.24,
          30,
          41.82,
          27.5,
          27.5,
          29.17,
          31.89,
          41.12,
          35.46,
          47,
          41.44,
          28.78,
          44.18,
          37.76,
          34.28,
          28.55,
          30.19,
          33.22,
          40.44,
          42.47,
          42.89,
          45.54,
          41.45,
          41.73,
          40.3,
          42.7,
          35.7,
          40.31,
          40.57,
          39.42,
          37.54,
          34.09,
          37.23,
          44.02,
          43.13,
          42.24,
          34.25,
          38.65,
          43.48,
          37.13,
          39.05,
          39.05,
          44.94,
          36.66,
          38.41,
          31.45,
          29.69,
          33.09,
          37.87,
          35.62,
          36.92,
          35.68,
          34.42,
          38.24,
          32.14,
          47.6,
          43.76,
          32.53,
          31.37,
          43.51,
          43.51,
          41.72,
          34.94,
          47.68,
          39.77,
          42.1,
          37.16,
          37.16,
          38.13,
          38,
          33.96,
          43.05,
          30.5,
          27.96,
          28.91,
          41.68,
          40.35,
          32.13,
          36,
          32.31,
          30.88,
          38.08,
          28.86,
          37.07,
          36.33,
          31.55,
          46.05,
          32.2,
          40.07,
          37.72,
          41.24,
          34.22,
          39.19,
          42.29,
          46.62,
          39.83,
          41.02,
          32.7
         ],
         "legendgroup": "",
         "lon": [
          -81.51,
          -84.22,
          -122.91,
          -73.68,
          -106.69,
          -92.47,
          -92.47,
          -75.27,
          -101.8,
          -93.62,
          -149.78,
          -83.77,
          -85.78,
          -88.47,
          -82.52,
          -84.36,
          -74.74,
          -85.41,
          -97.7,
          -119.05,
          -76.6,
          -68.74,
          -91.14,
          -85.18,
          -83.89,
          -81.18,
          -122.47,
          -121.26,
          -108.58,
          -75.9,
          -86.85,
          -100.78,
          -80.42,
          -88.95,
          -86.57,
          -81.52,
          -81.52,
          -71.21,
          -105.25,
          -86.47,
          -122.61,
          -73.4,
          -97.72,
          -78.77,
          -79.48,
          -81.52,
          -81.86,
          -89.58,
          -88.98,
          -119.78,
          -106.33,
          -91.66,
          -88.23,
          -81.71,
          -81.13,
          -78.44,
          -85.3,
          -104.76,
          -88.34,
          -121.84,
          -84.33,
          -87.35,
          -84.88,
          -82.08,
          -96.33,
          -104.82,
          -92.36,
          -84.95,
          -85.89,
          -82.89,
          -123.26,
          -86.42,
          -97.11,
          -84.96,
          -87.68,
          -84.12,
          -86.96,
          -88.96,
          -81.04,
          -105.1,
          -85.45,
          -75.51,
          -90.74,
          -92.17,
          -79.05,
          -91.43,
          -115.57,
          -85.95,
          -85.86,
          -76.82,
          -106.3,
          -97.91,
          -80.1,
          -123.02,
          -87.57,
          -147.81,
          -96.82,
          -108.16,
          -78.96,
          -94.18,
          -111.62,
          -83.64,
          -79.83,
          -87.55,
          -87.55,
          -94.36,
          -85.14,
          -119.79,
          -86.08,
          -82.32,
          -83.87,
          -77.2,
          -77.94,
          -98.38,
          -108.59,
          -85.63,
          -123.32,
          -92.44,
          -92.44,
          -104.75,
          -80.02,
          -77.37,
          -82.68,
          -88.86,
          -90.49,
          -77.18,
          -78.88,
          -89.33,
          -81.71,
          -80.85,
          -81.64,
          -93.06,
          -90.82,
          -86.59,
          -85.66,
          -76.5,
          -84.42,
          -90.15,
          -88.85,
          -77.4,
          -88.98,
          -92.21,
          -82.37,
          -78.85,
          -90.67,
          -94.53,
          -156.68,
          -85.6,
          -119.27,
          -97.36,
          -73.99,
          -86.13,
          -91.19,
          -92.05,
          -93.26,
          -114.04,
          -76.2,
          -84.48,
          -99.48,
          -106.78,
          -95.25,
          -98.49,
          -117,
          -70.23,
          -84.12,
          -96.66,
          -92.42,
          -111.83,
          -94.72,
          -122.94,
          -101.96,
          -79.17,
          -89.38,
          -71.5,
          -96.56,
          -93.95,
          -82.55,
          -98.29,
          -122.85,
          -89.87,
          -120.48,
          -80.1,
          -84.25,
          -102.14,
          -88.24,
          -93.24,
          -114.02,
          -88.18,
          -121.02,
          -92.12,
          -86.18,
          -79.96,
          -83.35,
          -122.61,
          -85.42,
          -86.21,
          -122.27,
          -86.88,
          -73.04,
          -90.16,
          -86.25,
          -82.62,
          -82.62,
          -82.16,
          -102.35,
          -112.02,
          -97.62,
          -122.91,
          -97.37,
          -81.24,
          -88.48,
          -87.07,
          -119.29,
          -80.84,
          -85.65,
          -111.8,
          -79.96,
          -73.2,
          -112.45,
          -122.87,
          -74.37,
          -71.41,
          -111.7,
          -87.85,
          -78.79,
          -75.86,
          -122.42,
          -119.74,
          -77.43,
          -117.67,
          -79.97,
          -92.46,
          -77.69,
          -89.03,
          -85.16,
          -121.11,
          -83.97,
          -113.6,
          -95.73,
          -95.73,
          -123.04,
          -121.65,
          -75.57,
          -100.48,
          -98.13,
          -117.27,
          -122.27,
          -120.66,
          -121.77,
          -105.95,
          -119.65,
          -122.63,
          -81.23,
          -122.15,
          -87.72,
          -93.7,
          -110.94,
          -96.77,
          -96.77,
          -86.19,
          -81.99,
          -117.28,
          -89.7,
          -72.59,
          -93.27,
          -93.27,
          -79.04,
          -121.32,
          -80.39,
          -76.1,
          -84.25,
          -82.72,
          -81.97,
          -83.62,
          -74.66,
          -111.09,
          -95.89,
          -95.28,
          -83.3,
          -122.21,
          -97,
          -76.49,
          -119.29,
          -97.11,
          -118.35,
          -98.24,
          -80.7,
          -97.24,
          -77,
          -77.91,
          -78.13,
          -71.81,
          -120.56,
          -76.99,
          -80.68,
          -114.61
         ],
         "marker": {
          "color": [
           700015,
           147773,
           129839,
           899286,
           918259,
           150890,
           150890,
           865310,
           269703,
           126195,
           398807,
           369390,
           115972,
           244084,
           472341,
           6144050,
           274966,
           177218,
           2352426,
           917673,
           2838327,
           152765,
           871905,
           133819,
           102985,
           113698,
           228831,
           204801,
           187037,
           245220,
           1114262,
           134417,
           165293,
           170889,
           161321,
           113963,
           113963,
           4899932,
           329543,
           182594,
           274314,
           959768,
           423029,
           1162336,
           173877,
           400525,
           787976,
           97699,
           132907,
           58993,
           79555,
           275435,
           222696,
           255020,
           2701046,
           222688,
           567641,
           100863,
           9509934,
           208309,
           2259935,
           328304,
           127938,
           2075662,
           272041,
           762793,
           213123,
           327536,
           82475,
           2151017,
           96017,
           293324,
           7759615,
           142799,
           239294,
           813516,
           156758,
           102432,
           685344,
           2972566,
           151618,
           184149,
           98718,
           290780,
           654012,
           173317,
           179851,
           156766,
           206921,
           83045,
           871234,
           61926,
           269011,
           383189,
           313946,
           95593,
           252136,
           120993,
           524588,
           560709,
           145052,
           404208,
           199259,
           268191,
           268191,
           245459,
           423038,
           1013581,
           103162,
           341756,
           207369,
           104127,
           116835,
           76175,
           157335,
           1091620,
           88346,
           167796,
           167796,
           340036,
           778848,
           172169,
           940774,
           418082,
           135217,
           596305,
           135824,
           173078,
           366441,
           222072,
           82863,
           100330,
           206212,
           502728,
           2126804,
           105162,
           160050,
           587202,
           180799,
           206160,
           164381,
           150706,
           208068,
           132167,
           134878,
           182541,
           164221,
           261108,
           308293,
           486101,
           182951,
           83687,
           139211,
           479212,
           210362,
           217692,
           553652,
           540281,
           267945,
           221508,
           119363,
           127543,
           64851,
           111034,
           101670,
           342117,
           750936,
           152083,
           287868,
           111524,
           325245,
           262258,
           683183,
           424079,
           133932,
           103612,
           125195,
           880356,
           223734,
           1336103,
           286461,
           6091747,
           83457,
           173180,
           1566487,
           3690512,
           119533,
           428220,
           552999,
           204884,
           385798,
           140745,
           143855,
           130696,
           111871,
           176511,
           136207,
           2012476,
           863700,
           1261726,
           153101,
           859760,
           859760,
           385915,
           161091,
           706696,
           1441647,
           297977,
           34241,
           2691925,
           171623,
           121227,
           839784,
           616628,
           179168,
           4946145,
           2353538,
           128657,
           96213,
           2511612,
           701637,
           1675774,
           697141,
           196896,
           1448411,
           429342,
           182139,
           497535,
           1324062,
           4653105,
           314496,
           227151,
           1084973,
           336278,
           98771,
           2411428,
           189591,
           191226,
           232670,
           232670,
           436283,
           437325,
           429223,
           122344,
           2601788,
           3286069,
           4623264,
           283159,
           267792,
           155201,
           446475,
           485887,
           410008,
           4011553,
           117747,
           389155,
           47883,
           281958,
           281958,
           323695,
           335864,
           593466,
           206898,
           695305,
           481483,
           481483,
           125774,
           789410,
           135782,
           658281,
           385776,
           3219514,
           135638,
           644217,
           385898,
           1052030,
           1023988,
           237186,
           149152,
           451716,
           98127,
           1803328,
           477054,
           280428,
           62682,
           43378,
           137740,
           647919,
           113605,
           291833,
           145155,
           978447,
           256035,
           458696,
           538069,
           206990
          ],
          "coloraxis": "coloraxis"
         },
         "mode": "markers",
         "name": "",
         "showlegend": false,
         "subplot": "mapbox",
         "type": "scattermapbox"
        }
       ],
       "layout": {
        "coloraxis": {
         "cmid": 50000,
         "colorbar": {
          "title": {
           "text": "Population"
          }
         },
         "colorscale": [
          [
           0,
           "#440154"
          ],
          [
           0.1111111111111111,
           "#482878"
          ],
          [
           0.2222222222222222,
           "#3e4989"
          ],
          [
           0.3333333333333333,
           "#31688e"
          ],
          [
           0.4444444444444444,
           "#26828e"
          ],
          [
           0.5555555555555556,
           "#1f9e89"
          ],
          [
           0.6666666666666666,
           "#35b779"
          ],
          [
           0.7777777777777778,
           "#6ece58"
          ],
          [
           0.8888888888888888,
           "#b5de2b"
          ],
          [
           1,
           "#fde725"
          ]
         ]
        },
        "legend": {
         "tracegroupgap": 0
        },
        "mapbox": {
         "center": {
          "lat": 37.90236486486486,
          "lon": -93.50908783783785
         },
         "domain": {
          "x": [
           0,
           1
          ],
          "y": [
           0,
           1
          ]
         },
         "style": "open-street-map",
         "zoom": 1
        },
        "template": {
         "data": {
          "bar": [
           {
            "error_x": {
             "color": "#2a3f5f"
            },
            "error_y": {
             "color": "#2a3f5f"
            },
            "marker": {
             "line": {
              "color": "#E5ECF6",
              "width": 0.5
             },
             "pattern": {
              "fillmode": "overlay",
              "size": 10,
              "solidity": 0.2
             }
            },
            "type": "bar"
           }
          ],
          "barpolar": [
           {
            "marker": {
             "line": {
              "color": "#E5ECF6",
              "width": 0.5
             },
             "pattern": {
              "fillmode": "overlay",
              "size": 10,
              "solidity": 0.2
             }
            },
            "type": "barpolar"
           }
          ],
          "carpet": [
           {
            "aaxis": {
             "endlinecolor": "#2a3f5f",
             "gridcolor": "white",
             "linecolor": "white",
             "minorgridcolor": "white",
             "startlinecolor": "#2a3f5f"
            },
            "baxis": {
             "endlinecolor": "#2a3f5f",
             "gridcolor": "white",
             "linecolor": "white",
             "minorgridcolor": "white",
             "startlinecolor": "#2a3f5f"
            },
            "type": "carpet"
           }
          ],
          "choropleth": [
           {
            "colorbar": {
             "outlinewidth": 0,
             "ticks": ""
            },
            "type": "choropleth"
           }
          ],
          "contour": [
           {
            "colorbar": {
             "outlinewidth": 0,
             "ticks": ""
            },
            "colorscale": [
             [
              0,
              "#0d0887"
             ],
             [
              0.1111111111111111,
              "#46039f"
             ],
             [
              0.2222222222222222,
              "#7201a8"
             ],
             [
              0.3333333333333333,
              "#9c179e"
             ],
             [
              0.4444444444444444,
              "#bd3786"
             ],
             [
              0.5555555555555556,
              "#d8576b"
             ],
             [
              0.6666666666666666,
              "#ed7953"
             ],
             [
              0.7777777777777778,
              "#fb9f3a"
             ],
             [
              0.8888888888888888,
              "#fdca26"
             ],
             [
              1,
              "#f0f921"
             ]
            ],
            "type": "contour"
           }
          ],
          "contourcarpet": [
           {
            "colorbar": {
             "outlinewidth": 0,
             "ticks": ""
            },
            "type": "contourcarpet"
           }
          ],
          "heatmap": [
           {
            "colorbar": {
             "outlinewidth": 0,
             "ticks": ""
            },
            "colorscale": [
             [
              0,
              "#0d0887"
             ],
             [
              0.1111111111111111,
              "#46039f"
             ],
             [
              0.2222222222222222,
              "#7201a8"
             ],
             [
              0.3333333333333333,
              "#9c179e"
             ],
             [
              0.4444444444444444,
              "#bd3786"
             ],
             [
              0.5555555555555556,
              "#d8576b"
             ],
             [
              0.6666666666666666,
              "#ed7953"
             ],
             [
              0.7777777777777778,
              "#fb9f3a"
             ],
             [
              0.8888888888888888,
              "#fdca26"
             ],
             [
              1,
              "#f0f921"
             ]
            ],
            "type": "heatmap"
           }
          ],
          "heatmapgl": [
           {
            "colorbar": {
             "outlinewidth": 0,
             "ticks": ""
            },
            "colorscale": [
             [
              0,
              "#0d0887"
             ],
             [
              0.1111111111111111,
              "#46039f"
             ],
             [
              0.2222222222222222,
              "#7201a8"
             ],
             [
              0.3333333333333333,
              "#9c179e"
             ],
             [
              0.4444444444444444,
              "#bd3786"
             ],
             [
              0.5555555555555556,
              "#d8576b"
             ],
             [
              0.6666666666666666,
              "#ed7953"
             ],
             [
              0.7777777777777778,
              "#fb9f3a"
             ],
             [
              0.8888888888888888,
              "#fdca26"
             ],
             [
              1,
              "#f0f921"
             ]
            ],
            "type": "heatmapgl"
           }
          ],
          "histogram": [
           {
            "marker": {
             "pattern": {
              "fillmode": "overlay",
              "size": 10,
              "solidity": 0.2
             }
            },
            "type": "histogram"
           }
          ],
          "histogram2d": [
           {
            "colorbar": {
             "outlinewidth": 0,
             "ticks": ""
            },
            "colorscale": [
             [
              0,
              "#0d0887"
             ],
             [
              0.1111111111111111,
              "#46039f"
             ],
             [
              0.2222222222222222,
              "#7201a8"
             ],
             [
              0.3333333333333333,
              "#9c179e"
             ],
             [
              0.4444444444444444,
              "#bd3786"
             ],
             [
              0.5555555555555556,
              "#d8576b"
             ],
             [
              0.6666666666666666,
              "#ed7953"
             ],
             [
              0.7777777777777778,
              "#fb9f3a"
             ],
             [
              0.8888888888888888,
              "#fdca26"
             ],
             [
              1,
              "#f0f921"
             ]
            ],
            "type": "histogram2d"
           }
          ],
          "histogram2dcontour": [
           {
            "colorbar": {
             "outlinewidth": 0,
             "ticks": ""
            },
            "colorscale": [
             [
              0,
              "#0d0887"
             ],
             [
              0.1111111111111111,
              "#46039f"
             ],
             [
              0.2222222222222222,
              "#7201a8"
             ],
             [
              0.3333333333333333,
              "#9c179e"
             ],
             [
              0.4444444444444444,
              "#bd3786"
             ],
             [
              0.5555555555555556,
              "#d8576b"
             ],
             [
              0.6666666666666666,
              "#ed7953"
             ],
             [
              0.7777777777777778,
              "#fb9f3a"
             ],
             [
              0.8888888888888888,
              "#fdca26"
             ],
             [
              1,
              "#f0f921"
             ]
            ],
            "type": "histogram2dcontour"
           }
          ],
          "mesh3d": [
           {
            "colorbar": {
             "outlinewidth": 0,
             "ticks": ""
            },
            "type": "mesh3d"
           }
          ],
          "parcoords": [
           {
            "line": {
             "colorbar": {
              "outlinewidth": 0,
              "ticks": ""
             }
            },
            "type": "parcoords"
           }
          ],
          "pie": [
           {
            "automargin": true,
            "type": "pie"
           }
          ],
          "scatter": [
           {
            "fillpattern": {
             "fillmode": "overlay",
             "size": 10,
             "solidity": 0.2
            },
            "type": "scatter"
           }
          ],
          "scatter3d": [
           {
            "line": {
             "colorbar": {
              "outlinewidth": 0,
              "ticks": ""
             }
            },
            "marker": {
             "colorbar": {
              "outlinewidth": 0,
              "ticks": ""
             }
            },
            "type": "scatter3d"
           }
          ],
          "scattercarpet": [
           {
            "marker": {
             "colorbar": {
              "outlinewidth": 0,
              "ticks": ""
             }
            },
            "type": "scattercarpet"
           }
          ],
          "scattergeo": [
           {
            "marker": {
             "colorbar": {
              "outlinewidth": 0,
              "ticks": ""
             }
            },
            "type": "scattergeo"
           }
          ],
          "scattergl": [
           {
            "marker": {
             "colorbar": {
              "outlinewidth": 0,
              "ticks": ""
             }
            },
            "type": "scattergl"
           }
          ],
          "scattermapbox": [
           {
            "marker": {
             "colorbar": {
              "outlinewidth": 0,
              "ticks": ""
             }
            },
            "type": "scattermapbox"
           }
          ],
          "scatterpolar": [
           {
            "marker": {
             "colorbar": {
              "outlinewidth": 0,
              "ticks": ""
             }
            },
            "type": "scatterpolar"
           }
          ],
          "scatterpolargl": [
           {
            "marker": {
             "colorbar": {
              "outlinewidth": 0,
              "ticks": ""
             }
            },
            "type": "scatterpolargl"
           }
          ],
          "scatterternary": [
           {
            "marker": {
             "colorbar": {
              "outlinewidth": 0,
              "ticks": ""
             }
            },
            "type": "scatterternary"
           }
          ],
          "surface": [
           {
            "colorbar": {
             "outlinewidth": 0,
             "ticks": ""
            },
            "colorscale": [
             [
              0,
              "#0d0887"
             ],
             [
              0.1111111111111111,
              "#46039f"
             ],
             [
              0.2222222222222222,
              "#7201a8"
             ],
             [
              0.3333333333333333,
              "#9c179e"
             ],
             [
              0.4444444444444444,
              "#bd3786"
             ],
             [
              0.5555555555555556,
              "#d8576b"
             ],
             [
              0.6666666666666666,
              "#ed7953"
             ],
             [
              0.7777777777777778,
              "#fb9f3a"
             ],
             [
              0.8888888888888888,
              "#fdca26"
             ],
             [
              1,
              "#f0f921"
             ]
            ],
            "type": "surface"
           }
          ],
          "table": [
           {
            "cells": {
             "fill": {
              "color": "#EBF0F8"
             },
             "line": {
              "color": "white"
             }
            },
            "header": {
             "fill": {
              "color": "#C8D4E3"
             },
             "line": {
              "color": "white"
             }
            },
            "type": "table"
           }
          ]
         },
         "layout": {
          "annotationdefaults": {
           "arrowcolor": "#2a3f5f",
           "arrowhead": 0,
           "arrowwidth": 1
          },
          "autotypenumbers": "strict",
          "coloraxis": {
           "colorbar": {
            "outlinewidth": 0,
            "ticks": ""
           }
          },
          "colorscale": {
           "diverging": [
            [
             0,
             "#8e0152"
            ],
            [
             0.1,
             "#c51b7d"
            ],
            [
             0.2,
             "#de77ae"
            ],
            [
             0.3,
             "#f1b6da"
            ],
            [
             0.4,
             "#fde0ef"
            ],
            [
             0.5,
             "#f7f7f7"
            ],
            [
             0.6,
             "#e6f5d0"
            ],
            [
             0.7,
             "#b8e186"
            ],
            [
             0.8,
             "#7fbc41"
            ],
            [
             0.9,
             "#4d9221"
            ],
            [
             1,
             "#276419"
            ]
           ],
           "sequential": [
            [
             0,
             "#0d0887"
            ],
            [
             0.1111111111111111,
             "#46039f"
            ],
            [
             0.2222222222222222,
             "#7201a8"
            ],
            [
             0.3333333333333333,
             "#9c179e"
            ],
            [
             0.4444444444444444,
             "#bd3786"
            ],
            [
             0.5555555555555556,
             "#d8576b"
            ],
            [
             0.6666666666666666,
             "#ed7953"
            ],
            [
             0.7777777777777778,
             "#fb9f3a"
            ],
            [
             0.8888888888888888,
             "#fdca26"
            ],
            [
             1,
             "#f0f921"
            ]
           ],
           "sequentialminus": [
            [
             0,
             "#0d0887"
            ],
            [
             0.1111111111111111,
             "#46039f"
            ],
            [
             0.2222222222222222,
             "#7201a8"
            ],
            [
             0.3333333333333333,
             "#9c179e"
            ],
            [
             0.4444444444444444,
             "#bd3786"
            ],
            [
             0.5555555555555556,
             "#d8576b"
            ],
            [
             0.6666666666666666,
             "#ed7953"
            ],
            [
             0.7777777777777778,
             "#fb9f3a"
            ],
            [
             0.8888888888888888,
             "#fdca26"
            ],
            [
             1,
             "#f0f921"
            ]
           ]
          },
          "colorway": [
           "#636efa",
           "#EF553B",
           "#00cc96",
           "#ab63fa",
           "#FFA15A",
           "#19d3f3",
           "#FF6692",
           "#B6E880",
           "#FF97FF",
           "#FECB52"
          ],
          "font": {
           "color": "#2a3f5f"
          },
          "geo": {
           "bgcolor": "white",
           "lakecolor": "white",
           "landcolor": "#E5ECF6",
           "showlakes": true,
           "showland": true,
           "subunitcolor": "white"
          },
          "hoverlabel": {
           "align": "left"
          },
          "hovermode": "closest",
          "mapbox": {
           "style": "light"
          },
          "paper_bgcolor": "white",
          "plot_bgcolor": "#E5ECF6",
          "polar": {
           "angularaxis": {
            "gridcolor": "white",
            "linecolor": "white",
            "ticks": ""
           },
           "bgcolor": "#E5ECF6",
           "radialaxis": {
            "gridcolor": "white",
            "linecolor": "white",
            "ticks": ""
           }
          },
          "scene": {
           "xaxis": {
            "backgroundcolor": "#E5ECF6",
            "gridcolor": "white",
            "gridwidth": 2,
            "linecolor": "white",
            "showbackground": true,
            "ticks": "",
            "zerolinecolor": "white"
           },
           "yaxis": {
            "backgroundcolor": "#E5ECF6",
            "gridcolor": "white",
            "gridwidth": 2,
            "linecolor": "white",
            "showbackground": true,
            "ticks": "",
            "zerolinecolor": "white"
           },
           "zaxis": {
            "backgroundcolor": "#E5ECF6",
            "gridcolor": "white",
            "gridwidth": 2,
            "linecolor": "white",
            "showbackground": true,
            "ticks": "",
            "zerolinecolor": "white"
           }
          },
          "shapedefaults": {
           "line": {
            "color": "#2a3f5f"
           }
          },
          "ternary": {
           "aaxis": {
            "gridcolor": "white",
            "linecolor": "white",
            "ticks": ""
           },
           "baxis": {
            "gridcolor": "white",
            "linecolor": "white",
            "ticks": ""
           },
           "bgcolor": "#E5ECF6",
           "caxis": {
            "gridcolor": "white",
            "linecolor": "white",
            "ticks": ""
           }
          },
          "title": {
           "x": 0.05
          },
          "xaxis": {
           "automargin": true,
           "gridcolor": "white",
           "linecolor": "white",
           "ticks": "",
           "title": {
            "standoff": 15
           },
           "zerolinecolor": "white",
           "zerolinewidth": 2
          },
          "yaxis": {
           "automargin": true,
           "gridcolor": "white",
           "linecolor": "white",
           "ticks": "",
           "title": {
            "standoff": 15
           },
           "zerolinecolor": "white",
           "zerolinewidth": 2
          }
         }
        },
        "title": {
         "font": {
          "size": 20
         },
         "text": "Carte des populations par ville"
        }
       }
      }
     },
     "metadata": {},
     "output_type": "display_data"
    }
   ],
   "source": [
    "import plotly.express as px\n",
    "\n",
    "fig = px.scatter_mapbox(df_test, lat='Latitude', lon='Longitude', mapbox_style='open-street-map',\n",
    "                        zoom=1,\n",
    "                        color='POPESTIMATE',\n",
    "                        hover_name='City_State_x',\n",
    "                        color_continuous_scale='Viridis',  # Modifier la palette de couleurs ici\n",
    "                        color_continuous_midpoint=50000,  # Modifier le point médian des couleurs ici\n",
    "                        labels={'POPESTIMATE': 'Population'},  # Modifier le label de la légende ici\n",
    "                        title='Carte des populations par ville'  # Modifier le titre du graphique ici\n",
    "                        )\n",
    "\n",
    "fig.update_layout(coloraxis_colorbar_title='Population',  # Modifier le titre de la légende ici\n",
    "                  title_font_size=20)  # Modifier la taille du titre du graphique ici\n",
    "\n",
    "fig.show()\n"
   ]
  },
  {
   "cell_type": "code",
   "execution_count": 331,
   "metadata": {},
   "outputs": [],
   "source": [
    "dff = pd.read_csv(\"df_propre.csv\")"
   ]
  },
  {
   "cell_type": "code",
   "execution_count": 332,
   "metadata": {},
   "outputs": [
    {
     "data": {
      "application/vnd.plotly.v1+json": {
       "config": {
        "plotlyServerURL": "https://plot.ly"
       },
       "data": [
        {
         "hovertemplate": "<b>%{hovertext}</b><br><br>Latitude=%{lat}<br>Longitude=%{lon}<br>Population=%{marker.color}<extra></extra>",
         "hovertext": [
          "Akron",
          "Albany",
          "Albany-Lebanon",
          "Albany-Schenectady-Troy",
          "Albuquerque",
          "Alexandria",
          "Washington-Arlington-Alexandria, DCVAMDWV",
          "Allentown-Bethlehem-Easton",
          "Amarillo",
          "Ames",
          "Anchorage",
          "Ann Arbor",
          "Anniston-Oxford",
          "Appleton",
          "Asheville",
          "Atlanta-Sandy Springs-Alpharetta",
          "Atlantic City-Hammonton",
          "Opelika",
          "Austin-Round Rock-Georgetown, TX",
          "Bakersfield",
          "Baltimore-Columbia-Towson, MD",
          "Bangor",
          "Baton Rouge",
          "Battle Creek",
          "Bay City",
          "Beckley",
          "Bellingham",
          "Bend",
          "Billings",
          "Binghamton",
          "Birmingham-Hoover",
          "Bismarck",
          "Blacksburg-Christiansburg",
          "Bloomington",
          "Bloomington",
          "Bloomsburg-Berwick",
          "Brunswick",
          "Boston-Cambridge-Newton",
          "Boulder",
          "Bowling Green",
          "Bremerton-Silverdale-Port Orchard",
          "Bridgeport-Stamford-Norwalk",
          "Brownsville-Harlingen",
          "Buffalo-Cheektowaga",
          "Burlington-South Burlington,",
          "Canton-Massillon",
          "Cape Coral-Fort Myers, FL",
          "Cape Girardeau",
          "Carbondale-Marion",
          "Carson City",
          "Casper",
          "Cedar Rapids",
          "Champaign-Urbana",
          "Charleston",
          "Charlotte-Concord-Gastonia",
          "Charlottesville",
          "Chattanooga",
          "Cheyenne",
          "Chicago-Naperville-Elgin",
          "Chico",
          "Cincinnati",
          "Clarksville",
          "Cleveland",
          "Cleveland-Elyria",
          "College Station-Bryan",
          "Colorado Springs",
          "Columbia",
          "Columbus",
          "Columbus",
          "Columbus",
          "Corvallis",
          "Crestview-Fort Walton Beach-Destin",
          "Dallas-Fort Worth-Arlington",
          "Dalton",
          "Daphne-Fairhope-Foley",
          "Dayton-Kettering",
          "Decatur",
          "Decatur",
          "Deltona-Daytona Beach-Ormond Beach",
          "Denver-Aurora-Lakewood",
          "Dothan",
          "Dover",
          "Dubuque",
          "Duluth",
          "Durham-Chapel Hill",
          "Eau Claire",
          "El Centro",
          "Elizabethtown-Fort Knox",
          "Elkhart-Goshen",
          "Elmira",
          "El Paso",
          "Enid",
          "Erie",
          "Eugene-Springfield",
          "Evansville",
          "Fairbanks",
          "Fargo",
          "Farmington",
          "Fayetteville",
          "Fayetteville-Springdale-Rogers",
          "Flagstaff",
          "Flint",
          "Florence",
          "Tuscaloosa",
          "Fort Smith",
          "Fort Wayne",
          "Fresno",
          "Gadsden",
          "Gainesville",
          "Gainesville",
          "Gettysburg",
          "Goldsboro",
          "Grand Island",
          "Grand Junction",
          "Grand Rapids-Kentwood",
          "Grants Pass",
          "Cedar Falls",
          "Greeley",
          "Greensboro-High Point",
          "Greenville",
          "Greenville-Anderson",
          "Gulfport-Biloxi",
          "Hammond",
          "Harrisburg-Carlisle",
          "Harrisonburg",
          "Hattiesburg",
          "Morganton",
          "Hilton Head Island-Bluffton",
          "Hinesville",
          "Hot Springs",
          "Houma Thibodaux",
          "Huntsville",
          "Indianapolis-Carmel-Anderson",
          "Ithaca",
          "Jackson",
          "Jackson",
          "Jackson",
          "Jacksonville",
          "Janesville-Beloit",
          "Jefferson City",
          "Johnson City",
          "Johnstown",
          "Jonesboro",
          "Joplin",
          "Kahului-Wailuku-Lahaina",
          "Kalamazoo-Portage",
          "Kennewick-Richland",
          "Killeen-Temple",
          "Kingston",
          "Kokomo",
          "La Crosse-Onalaska",
          "Lafayette",
          "Lake Charles",
          "Lake Havasu City-Kingman",
          "Lancaster",
          "Lansing-East Lansing",
          "Laredo",
          "Las Cruces",
          "Lawrence",
          "Lawton",
          "Lewiston",
          "Lewiston-Auburn",
          "Lima",
          "Lincoln",
          "Little Rock-North Little Rock-Conway",
          "Logan",
          "Longview",
          "Longview",
          "Lubbock",
          "Lynchburg",
          "Madison",
          "Manchester-Nashua",
          "Manhattan",
          "Mankato",
          "Mansfield",
          "McAllen-Edinburg-Mission",
          "Medford",
          "Memphis",
          "Merced",
          "Miami-Fort Lauderdale-Pompano Beach, FL",
          "Midland",
          "Midland",
          "Milwaukee-Waukesha",
          "Minneapolis-St. Paul-Bloomington",
          "Missoula",
          "Mobile",
          "Modesto",
          "Monroe",
          "Montgomery",
          "Morgantown",
          "Morristown",
          "Mount Vernon-Anacortes",
          "Muncie",
          "Muskegon",
          "Napa",
          "Nashville-Davidson--Murfreesboro--Franklin",
          "New Haven-Milford",
          "New Orleans-Metairie",
          "Niles",
          "North Port-Sarasota-Bradenton",
          "Ocala",
          "Odessa",
          "Ogden-Clearfield",
          "Oklahoma City",
          "Olympia-Lacey-Tumwater",
          "Omaha-Council Bluffs",
          "Orlando-Kissimmee-Sanford",
          "Oshkosh-Neenah",
          "Owensboro",
          "Oxnard-Thousand Oaks-Ventura",
          "Palm Bay-Melbourne-Titusville",
          "Panama City",
          "Phoenix-Mesa-Chandler",
          "Pittsburgh",
          "Pittsfield",
          "Pocatello",
          "Portland-Vancouver-Hillsboro",
          "Poughkeepsie-Newburgh-Middletown",
          "Providence-Warwick",
          "Provo-Orem",
          "Racine",
          "Raleigh-Cary",
          "Reading",
          "Redding",
          "Reno",
          "Richmond",
          "Riverside-San Bernardino-Ontario",
          "Roanoke",
          "Rochester",
          "Rochester",
          "Rockford",
          "Rome",
          "Sacramento-Roseville-Folsom",
          "Saginaw",
          "St. George",
          "Topeka",
          "Salem",
          "Salinas",
          "Salisbury",
          "San Angelo",
          "San Antonio-New Braunfels,",
          "San Diego-Chula Vista-Carlsbad",
          "San Francisco-Oakland-Berkeley",
          "San Luis Obispo-Paso Robles",
          "Santa Cruz-Watsonville",
          "Santa Fe",
          "Santa Maria-Santa Barbara",
          "Santa Rosa-Petaluma",
          "Savannah",
          "Seattle-Tacoma-Bellevue",
          "Sheboygan",
          "Shreveport-Bossier City",
          "Sierra Vista-Douglas",
          "Sioux Falls",
          "South Bend-Mishawaka",
          "Spartanburg",
          "Spokane-Spokane Valley",
          "Springfield",
          "Springfield",
          "Springfield",
          "Staunton",
          "Stockton",
          "Sumter",
          "Syracuse",
          "Tallahassee",
          "Tampa-St. Petersburg-Clearwater",
          "The Villages",
          "Toledo",
          "Trenton-Princeton",
          "Tucson",
          "Tulsa",
          "Tyler",
          "Valdosta",
          "Vallejo",
          "Victoria",
          "Virginia Beach-Norfolk-Newport News",
          "Visalia",
          "Waco",
          "Walla Walla",
          "Weirton-Steubenville",
          "Wheeling",
          "Wichita",
          "Williamsport",
          "Wilmington",
          "Winchester",
          "Worcester",
          "Yakima",
          "York-Hanover",
          "Youngstown-Warren-Boardman",
          "Yuma"
         ],
         "lat": [
          41.08,
          31.61,
          44.53,
          42.74,
          35.18,
          31.28,
          31.28,
          40.69,
          35.19,
          42.02,
          61.21,
          42.24,
          33.61,
          44.27,
          35.58,
          34.08,
          39.55,
          32.62,
          30.63,
          35.3,
          39.4,
          44.84,
          30.42,
          42.26,
          43.62,
          37.8,
          48.73,
          44.06,
          45.76,
          42.14,
          33.36,
          46.8,
          37.16,
          40.5,
          39.17,
          31.22,
          31.22,
          42.31,
          40.03,
          36.96,
          47.54,
          41.12,
          26.19,
          42.91,
          36.08,
          40.77,
          26.6,
          37.3,
          37.75,
          39.2,
          42.86,
          41.96,
          40.11,
          38.34,
          35.26,
          38.03,
          35.05,
          41.16,
          42.03,
          39.74,
          39.27,
          36.53,
          35.16,
          41.41,
          30.66,
          38.81,
          38.95,
          32.54,
          39.22,
          40,
          44.56,
          30.39,
          32.67,
          34.8,
          30.38,
          39.7,
          34.59,
          39.89,
          29.29,
          39.74,
          31.27,
          39.16,
          42.52,
          46.81,
          35.9,
          44.78,
          32.82,
          37.88,
          41.6,
          42.1,
          31.72,
          36.39,
          42.07,
          44.06,
          38.02,
          64.84,
          46.83,
          36.75,
          35.07,
          36.33,
          35.22,
          43.02,
          34.19,
          33.21,
          35.36,
          41.18,
          36.78,
          33.99,
          29.65,
          34.37,
          39.84,
          35.38,
          40.92,
          39.08,
          42.85,
          42.43,
          42.51,
          40.39,
          35.98,
          35.61,
          34.55,
          30.39,
          30.5,
          40.2,
          38.43,
          31.33,
          35.74,
          32.25,
          31.97,
          34.46,
          29.81,
          34.77,
          40.14,
          42.44,
          42.27,
          32.36,
          35.67,
          34.79,
          42.52,
          38.58,
          36.31,
          40.28,
          35.82,
          37.07,
          20.88,
          42.21,
          46.23,
          31.1,
          41.96,
          40.44,
          43.87,
          30.16,
          30.21,
          35.23,
          40.03,
          42.73,
          27.61,
          32.29,
          38.94,
          34.63,
          46.41,
          44.12,
          40.74,
          40.72,
          35.09,
          41.72,
          32.53,
          46.14,
          33.55,
          37.35,
          43.07,
          42.77,
          39.18,
          44.17,
          40.72,
          26.2,
          42.31,
          35.1,
          37.32,
          26.23,
          43.66,
          32.02,
          43.02,
          44.86,
          46.85,
          30.7,
          37.65,
          32.53,
          32.38,
          39.66,
          36.2,
          48.51,
          40.19,
          43.16,
          38.28,
          35.89,
          41.24,
          30,
          41.82,
          27.5,
          29.17,
          31.89,
          41.12,
          35.46,
          47,
          41.44,
          28.78,
          44.18,
          37.76,
          34.28,
          28.55,
          30.19,
          33.22,
          40.44,
          42.47,
          42.89,
          45.54,
          41.45,
          41.73,
          40.3,
          42.7,
          35.7,
          40.31,
          40.57,
          39.42,
          37.54,
          34.09,
          37.23,
          44.02,
          43.13,
          42.24,
          34.25,
          38.65,
          43.48,
          37.13,
          39.05,
          44.94,
          36.66,
          38.41,
          31.45,
          29.69,
          33.09,
          37.87,
          35.62,
          36.92,
          35.68,
          34.42,
          38.24,
          32.14,
          47.6,
          43.76,
          32.53,
          31.37,
          43.51,
          41.72,
          34.94,
          47.68,
          39.77,
          42.1,
          37.16,
          38.13,
          38,
          33.96,
          43.05,
          30.5,
          27.96,
          28.91,
          41.68,
          40.35,
          32.13,
          36,
          32.31,
          30.88,
          38.08,
          28.86,
          37.07,
          36.33,
          31.55,
          46.05,
          32.2,
          40.07,
          37.72,
          41.24,
          34.22,
          39.19,
          42.29,
          46.62,
          39.83,
          41.02,
          32.7
         ],
         "legendgroup": "",
         "lon": [
          -81.51,
          -84.22,
          -122.91,
          -73.68,
          -106.69,
          -92.47,
          -92.47,
          -75.27,
          -101.8,
          -93.62,
          -149.78,
          -83.77,
          -85.78,
          -88.47,
          -82.52,
          -84.36,
          -74.74,
          -85.41,
          -97.7,
          -119.05,
          -76.6,
          -68.74,
          -91.14,
          -85.18,
          -83.89,
          -81.18,
          -122.47,
          -121.26,
          -108.58,
          -75.9,
          -86.85,
          -100.78,
          -80.42,
          -88.95,
          -86.57,
          -81.52,
          -81.52,
          -71.21,
          -105.25,
          -86.47,
          -122.61,
          -73.4,
          -97.72,
          -78.77,
          -79.48,
          -81.52,
          -81.86,
          -89.58,
          -88.98,
          -119.78,
          -106.33,
          -91.66,
          -88.23,
          -81.71,
          -81.13,
          -78.44,
          -85.3,
          -104.76,
          -88.34,
          -121.84,
          -84.33,
          -87.35,
          -84.88,
          -82.08,
          -96.33,
          -104.82,
          -92.36,
          -84.95,
          -85.89,
          -82.89,
          -123.26,
          -86.42,
          -97.11,
          -84.96,
          -87.68,
          -84.12,
          -86.96,
          -88.96,
          -81.04,
          -105.1,
          -85.45,
          -75.51,
          -90.74,
          -92.17,
          -79.05,
          -91.43,
          -115.57,
          -85.95,
          -85.86,
          -76.82,
          -106.3,
          -97.91,
          -80.1,
          -123.02,
          -87.57,
          -147.81,
          -96.82,
          -108.16,
          -78.96,
          -94.18,
          -111.62,
          -83.64,
          -79.83,
          -87.55,
          -94.36,
          -85.14,
          -119.79,
          -86.08,
          -82.32,
          -83.87,
          -77.2,
          -77.94,
          -98.38,
          -108.59,
          -85.63,
          -123.32,
          -92.44,
          -104.75,
          -80.02,
          -77.37,
          -82.68,
          -88.86,
          -90.49,
          -77.18,
          -78.88,
          -89.33,
          -81.71,
          -80.85,
          -81.64,
          -93.06,
          -90.82,
          -86.59,
          -85.66,
          -76.5,
          -84.42,
          -90.15,
          -88.85,
          -77.4,
          -88.98,
          -92.21,
          -82.37,
          -78.85,
          -90.67,
          -94.53,
          -156.68,
          -85.6,
          -119.27,
          -97.36,
          -73.99,
          -86.13,
          -91.19,
          -92.05,
          -93.26,
          -114.04,
          -76.2,
          -84.48,
          -99.48,
          -106.78,
          -95.25,
          -98.49,
          -117,
          -70.23,
          -84.12,
          -96.66,
          -92.42,
          -111.83,
          -94.72,
          -122.94,
          -101.96,
          -79.17,
          -89.38,
          -71.5,
          -96.56,
          -93.95,
          -82.55,
          -98.29,
          -122.85,
          -89.87,
          -120.48,
          -80.1,
          -84.25,
          -102.14,
          -88.24,
          -93.24,
          -114.02,
          -88.18,
          -121.02,
          -92.12,
          -86.18,
          -79.96,
          -83.35,
          -122.61,
          -85.42,
          -86.21,
          -122.27,
          -86.88,
          -73.04,
          -90.16,
          -86.25,
          -82.62,
          -82.16,
          -102.35,
          -112.02,
          -97.62,
          -122.91,
          -97.37,
          -81.24,
          -88.48,
          -87.07,
          -119.29,
          -80.84,
          -85.65,
          -111.8,
          -79.96,
          -73.2,
          -112.45,
          -122.87,
          -74.37,
          -71.41,
          -111.7,
          -87.85,
          -78.79,
          -75.86,
          -122.42,
          -119.74,
          -77.43,
          -117.67,
          -79.97,
          -92.46,
          -77.69,
          -89.03,
          -85.16,
          -121.11,
          -83.97,
          -113.6,
          -95.73,
          -123.04,
          -121.65,
          -75.57,
          -100.48,
          -98.13,
          -117.27,
          -122.27,
          -120.66,
          -121.77,
          -105.95,
          -119.65,
          -122.63,
          -81.23,
          -122.15,
          -87.72,
          -93.7,
          -110.94,
          -96.77,
          -86.19,
          -81.99,
          -117.28,
          -89.7,
          -72.59,
          -93.27,
          -79.04,
          -121.32,
          -80.39,
          -76.1,
          -84.25,
          -82.72,
          -81.97,
          -83.62,
          -74.66,
          -111.09,
          -95.89,
          -95.28,
          -83.3,
          -122.21,
          -97,
          -76.49,
          -119.29,
          -97.11,
          -118.35,
          -98.24,
          -80.7,
          -97.24,
          -77,
          -77.91,
          -78.13,
          -71.81,
          -120.56,
          -76.99,
          -80.68,
          -114.61
         ],
         "marker": {
          "color": [
           700015,
           147773,
           129839,
           899286,
           918259,
           150890,
           150890,
           865310,
           269703,
           126195,
           398807,
           369390,
           115972,
           244084,
           472341,
           6144050,
           274966,
           177218,
           2352426,
           917673,
           2838327,
           152765,
           871905,
           133819,
           102985,
           113698,
           228831,
           204801,
           187037,
           245220,
           1114262,
           134417,
           165293,
           170889,
           161321,
           113963,
           113963,
           4899932,
           329543,
           182594,
           274314,
           959768,
           423029,
           1162336,
           173877,
           400525,
           787976,
           97699,
           132907,
           58993,
           79555,
           275435,
           222696,
           255020,
           2701046,
           222688,
           567641,
           100863,
           9509934,
           208309,
           2259935,
           328304,
           127938,
           2075662,
           272041,
           762793,
           213123,
           327536,
           82475,
           2151017,
           96017,
           293324,
           7759615,
           142799,
           239294,
           813516,
           156758,
           102432,
           685344,
           2972566,
           151618,
           184149,
           98718,
           290780,
           654012,
           173317,
           179851,
           156766,
           206921,
           83045,
           871234,
           61926,
           269011,
           383189,
           313946,
           95593,
           252136,
           120993,
           524588,
           560709,
           145052,
           404208,
           199259,
           268191,
           245459,
           423038,
           1013581,
           103162,
           341756,
           207369,
           104127,
           116835,
           76175,
           157335,
           1091620,
           88346,
           167796,
           340036,
           778848,
           172169,
           940774,
           418082,
           135217,
           596305,
           135824,
           173078,
           366441,
           222072,
           82863,
           100330,
           206212,
           502728,
           2126804,
           105162,
           160050,
           587202,
           180799,
           206160,
           164381,
           150706,
           208068,
           132167,
           134878,
           182541,
           164221,
           261108,
           308293,
           486101,
           182951,
           83687,
           139211,
           479212,
           210362,
           217692,
           553652,
           540281,
           267945,
           221508,
           119363,
           127543,
           64851,
           111034,
           101670,
           342117,
           750936,
           152083,
           287868,
           111524,
           325245,
           262258,
           683183,
           424079,
           133932,
           103612,
           125195,
           880356,
           223734,
           1336103,
           286461,
           6091747,
           83457,
           173180,
           1566487,
           3690512,
           119533,
           428220,
           552999,
           204884,
           385798,
           140745,
           143855,
           130696,
           111871,
           176511,
           136207,
           2012476,
           863700,
           1261726,
           153101,
           859760,
           385915,
           161091,
           706696,
           1441647,
           297977,
           34241,
           2691925,
           171623,
           121227,
           839784,
           616628,
           179168,
           4946145,
           2353538,
           128657,
           96213,
           2511612,
           701637,
           1675774,
           697141,
           196896,
           1448411,
           429342,
           182139,
           497535,
           1324062,
           4653105,
           314496,
           227151,
           1084973,
           336278,
           98771,
           2411428,
           189591,
           191226,
           232670,
           436283,
           437325,
           429223,
           122344,
           2601788,
           3286069,
           4623264,
           283159,
           267792,
           155201,
           446475,
           485887,
           410008,
           4011553,
           117747,
           389155,
           47883,
           281958,
           323695,
           335864,
           593466,
           206898,
           695305,
           481483,
           125774,
           789410,
           135782,
           658281,
           385776,
           3219514,
           135638,
           644217,
           385898,
           1052030,
           1023988,
           237186,
           149152,
           451716,
           98127,
           1803328,
           477054,
           280428,
           62682,
           43378,
           137740,
           647919,
           113605,
           291833,
           145155,
           978447,
           256035,
           458696,
           538069,
           206990
          ],
          "coloraxis": "coloraxis"
         },
         "mode": "markers",
         "name": "",
         "showlegend": false,
         "subplot": "mapbox",
         "type": "scattermapbox"
        }
       ],
       "layout": {
        "coloraxis": {
         "cmid": 267868.5,
         "colorbar": {
          "title": {
           "text": "Population"
          }
         },
         "colorscale": [
          [
           0,
           "rgb(210, 251, 212)"
          ],
          [
           0.16666666666666666,
           "rgb(165, 219, 194)"
          ],
          [
           0.3333333333333333,
           "rgb(123, 188, 176)"
          ],
          [
           0.5,
           "rgb(85, 156, 158)"
          ],
          [
           0.6666666666666666,
           "rgb(58, 124, 137)"
          ],
          [
           0.8333333333333334,
           "rgb(35, 93, 114)"
          ],
          [
           1,
           "rgb(18, 63, 90)"
          ]
         ]
        },
        "legend": {
         "tracegroupgap": 0
        },
        "mapbox": {
         "center": {
          "lat": 37.0902,
          "lon": -95.7129
         },
         "domain": {
          "x": [
           0,
           1
          ],
          "y": [
           0,
           1
          ]
         },
         "style": "carto-positron",
         "zoom": 3
        },
        "margin": {
         "b": 0,
         "l": 0,
         "r": 0,
         "t": 50
        },
        "showlegend": false,
        "template": {
         "data": {
          "bar": [
           {
            "error_x": {
             "color": "#2a3f5f"
            },
            "error_y": {
             "color": "#2a3f5f"
            },
            "marker": {
             "line": {
              "color": "#E5ECF6",
              "width": 0.5
             },
             "pattern": {
              "fillmode": "overlay",
              "size": 10,
              "solidity": 0.2
             }
            },
            "type": "bar"
           }
          ],
          "barpolar": [
           {
            "marker": {
             "line": {
              "color": "#E5ECF6",
              "width": 0.5
             },
             "pattern": {
              "fillmode": "overlay",
              "size": 10,
              "solidity": 0.2
             }
            },
            "type": "barpolar"
           }
          ],
          "carpet": [
           {
            "aaxis": {
             "endlinecolor": "#2a3f5f",
             "gridcolor": "white",
             "linecolor": "white",
             "minorgridcolor": "white",
             "startlinecolor": "#2a3f5f"
            },
            "baxis": {
             "endlinecolor": "#2a3f5f",
             "gridcolor": "white",
             "linecolor": "white",
             "minorgridcolor": "white",
             "startlinecolor": "#2a3f5f"
            },
            "type": "carpet"
           }
          ],
          "choropleth": [
           {
            "colorbar": {
             "outlinewidth": 0,
             "ticks": ""
            },
            "type": "choropleth"
           }
          ],
          "contour": [
           {
            "colorbar": {
             "outlinewidth": 0,
             "ticks": ""
            },
            "colorscale": [
             [
              0,
              "#0d0887"
             ],
             [
              0.1111111111111111,
              "#46039f"
             ],
             [
              0.2222222222222222,
              "#7201a8"
             ],
             [
              0.3333333333333333,
              "#9c179e"
             ],
             [
              0.4444444444444444,
              "#bd3786"
             ],
             [
              0.5555555555555556,
              "#d8576b"
             ],
             [
              0.6666666666666666,
              "#ed7953"
             ],
             [
              0.7777777777777778,
              "#fb9f3a"
             ],
             [
              0.8888888888888888,
              "#fdca26"
             ],
             [
              1,
              "#f0f921"
             ]
            ],
            "type": "contour"
           }
          ],
          "contourcarpet": [
           {
            "colorbar": {
             "outlinewidth": 0,
             "ticks": ""
            },
            "type": "contourcarpet"
           }
          ],
          "heatmap": [
           {
            "colorbar": {
             "outlinewidth": 0,
             "ticks": ""
            },
            "colorscale": [
             [
              0,
              "#0d0887"
             ],
             [
              0.1111111111111111,
              "#46039f"
             ],
             [
              0.2222222222222222,
              "#7201a8"
             ],
             [
              0.3333333333333333,
              "#9c179e"
             ],
             [
              0.4444444444444444,
              "#bd3786"
             ],
             [
              0.5555555555555556,
              "#d8576b"
             ],
             [
              0.6666666666666666,
              "#ed7953"
             ],
             [
              0.7777777777777778,
              "#fb9f3a"
             ],
             [
              0.8888888888888888,
              "#fdca26"
             ],
             [
              1,
              "#f0f921"
             ]
            ],
            "type": "heatmap"
           }
          ],
          "heatmapgl": [
           {
            "colorbar": {
             "outlinewidth": 0,
             "ticks": ""
            },
            "colorscale": [
             [
              0,
              "#0d0887"
             ],
             [
              0.1111111111111111,
              "#46039f"
             ],
             [
              0.2222222222222222,
              "#7201a8"
             ],
             [
              0.3333333333333333,
              "#9c179e"
             ],
             [
              0.4444444444444444,
              "#bd3786"
             ],
             [
              0.5555555555555556,
              "#d8576b"
             ],
             [
              0.6666666666666666,
              "#ed7953"
             ],
             [
              0.7777777777777778,
              "#fb9f3a"
             ],
             [
              0.8888888888888888,
              "#fdca26"
             ],
             [
              1,
              "#f0f921"
             ]
            ],
            "type": "heatmapgl"
           }
          ],
          "histogram": [
           {
            "marker": {
             "pattern": {
              "fillmode": "overlay",
              "size": 10,
              "solidity": 0.2
             }
            },
            "type": "histogram"
           }
          ],
          "histogram2d": [
           {
            "colorbar": {
             "outlinewidth": 0,
             "ticks": ""
            },
            "colorscale": [
             [
              0,
              "#0d0887"
             ],
             [
              0.1111111111111111,
              "#46039f"
             ],
             [
              0.2222222222222222,
              "#7201a8"
             ],
             [
              0.3333333333333333,
              "#9c179e"
             ],
             [
              0.4444444444444444,
              "#bd3786"
             ],
             [
              0.5555555555555556,
              "#d8576b"
             ],
             [
              0.6666666666666666,
              "#ed7953"
             ],
             [
              0.7777777777777778,
              "#fb9f3a"
             ],
             [
              0.8888888888888888,
              "#fdca26"
             ],
             [
              1,
              "#f0f921"
             ]
            ],
            "type": "histogram2d"
           }
          ],
          "histogram2dcontour": [
           {
            "colorbar": {
             "outlinewidth": 0,
             "ticks": ""
            },
            "colorscale": [
             [
              0,
              "#0d0887"
             ],
             [
              0.1111111111111111,
              "#46039f"
             ],
             [
              0.2222222222222222,
              "#7201a8"
             ],
             [
              0.3333333333333333,
              "#9c179e"
             ],
             [
              0.4444444444444444,
              "#bd3786"
             ],
             [
              0.5555555555555556,
              "#d8576b"
             ],
             [
              0.6666666666666666,
              "#ed7953"
             ],
             [
              0.7777777777777778,
              "#fb9f3a"
             ],
             [
              0.8888888888888888,
              "#fdca26"
             ],
             [
              1,
              "#f0f921"
             ]
            ],
            "type": "histogram2dcontour"
           }
          ],
          "mesh3d": [
           {
            "colorbar": {
             "outlinewidth": 0,
             "ticks": ""
            },
            "type": "mesh3d"
           }
          ],
          "parcoords": [
           {
            "line": {
             "colorbar": {
              "outlinewidth": 0,
              "ticks": ""
             }
            },
            "type": "parcoords"
           }
          ],
          "pie": [
           {
            "automargin": true,
            "type": "pie"
           }
          ],
          "scatter": [
           {
            "fillpattern": {
             "fillmode": "overlay",
             "size": 10,
             "solidity": 0.2
            },
            "type": "scatter"
           }
          ],
          "scatter3d": [
           {
            "line": {
             "colorbar": {
              "outlinewidth": 0,
              "ticks": ""
             }
            },
            "marker": {
             "colorbar": {
              "outlinewidth": 0,
              "ticks": ""
             }
            },
            "type": "scatter3d"
           }
          ],
          "scattercarpet": [
           {
            "marker": {
             "colorbar": {
              "outlinewidth": 0,
              "ticks": ""
             }
            },
            "type": "scattercarpet"
           }
          ],
          "scattergeo": [
           {
            "marker": {
             "colorbar": {
              "outlinewidth": 0,
              "ticks": ""
             }
            },
            "type": "scattergeo"
           }
          ],
          "scattergl": [
           {
            "marker": {
             "colorbar": {
              "outlinewidth": 0,
              "ticks": ""
             }
            },
            "type": "scattergl"
           }
          ],
          "scattermapbox": [
           {
            "marker": {
             "colorbar": {
              "outlinewidth": 0,
              "ticks": ""
             }
            },
            "type": "scattermapbox"
           }
          ],
          "scatterpolar": [
           {
            "marker": {
             "colorbar": {
              "outlinewidth": 0,
              "ticks": ""
             }
            },
            "type": "scatterpolar"
           }
          ],
          "scatterpolargl": [
           {
            "marker": {
             "colorbar": {
              "outlinewidth": 0,
              "ticks": ""
             }
            },
            "type": "scatterpolargl"
           }
          ],
          "scatterternary": [
           {
            "marker": {
             "colorbar": {
              "outlinewidth": 0,
              "ticks": ""
             }
            },
            "type": "scatterternary"
           }
          ],
          "surface": [
           {
            "colorbar": {
             "outlinewidth": 0,
             "ticks": ""
            },
            "colorscale": [
             [
              0,
              "#0d0887"
             ],
             [
              0.1111111111111111,
              "#46039f"
             ],
             [
              0.2222222222222222,
              "#7201a8"
             ],
             [
              0.3333333333333333,
              "#9c179e"
             ],
             [
              0.4444444444444444,
              "#bd3786"
             ],
             [
              0.5555555555555556,
              "#d8576b"
             ],
             [
              0.6666666666666666,
              "#ed7953"
             ],
             [
              0.7777777777777778,
              "#fb9f3a"
             ],
             [
              0.8888888888888888,
              "#fdca26"
             ],
             [
              1,
              "#f0f921"
             ]
            ],
            "type": "surface"
           }
          ],
          "table": [
           {
            "cells": {
             "fill": {
              "color": "#EBF0F8"
             },
             "line": {
              "color": "white"
             }
            },
            "header": {
             "fill": {
              "color": "#C8D4E3"
             },
             "line": {
              "color": "white"
             }
            },
            "type": "table"
           }
          ]
         },
         "layout": {
          "annotationdefaults": {
           "arrowcolor": "#2a3f5f",
           "arrowhead": 0,
           "arrowwidth": 1
          },
          "autotypenumbers": "strict",
          "coloraxis": {
           "colorbar": {
            "outlinewidth": 0,
            "ticks": ""
           }
          },
          "colorscale": {
           "diverging": [
            [
             0,
             "#8e0152"
            ],
            [
             0.1,
             "#c51b7d"
            ],
            [
             0.2,
             "#de77ae"
            ],
            [
             0.3,
             "#f1b6da"
            ],
            [
             0.4,
             "#fde0ef"
            ],
            [
             0.5,
             "#f7f7f7"
            ],
            [
             0.6,
             "#e6f5d0"
            ],
            [
             0.7,
             "#b8e186"
            ],
            [
             0.8,
             "#7fbc41"
            ],
            [
             0.9,
             "#4d9221"
            ],
            [
             1,
             "#276419"
            ]
           ],
           "sequential": [
            [
             0,
             "#0d0887"
            ],
            [
             0.1111111111111111,
             "#46039f"
            ],
            [
             0.2222222222222222,
             "#7201a8"
            ],
            [
             0.3333333333333333,
             "#9c179e"
            ],
            [
             0.4444444444444444,
             "#bd3786"
            ],
            [
             0.5555555555555556,
             "#d8576b"
            ],
            [
             0.6666666666666666,
             "#ed7953"
            ],
            [
             0.7777777777777778,
             "#fb9f3a"
            ],
            [
             0.8888888888888888,
             "#fdca26"
            ],
            [
             1,
             "#f0f921"
            ]
           ],
           "sequentialminus": [
            [
             0,
             "#0d0887"
            ],
            [
             0.1111111111111111,
             "#46039f"
            ],
            [
             0.2222222222222222,
             "#7201a8"
            ],
            [
             0.3333333333333333,
             "#9c179e"
            ],
            [
             0.4444444444444444,
             "#bd3786"
            ],
            [
             0.5555555555555556,
             "#d8576b"
            ],
            [
             0.6666666666666666,
             "#ed7953"
            ],
            [
             0.7777777777777778,
             "#fb9f3a"
            ],
            [
             0.8888888888888888,
             "#fdca26"
            ],
            [
             1,
             "#f0f921"
            ]
           ]
          },
          "colorway": [
           "#636efa",
           "#EF553B",
           "#00cc96",
           "#ab63fa",
           "#FFA15A",
           "#19d3f3",
           "#FF6692",
           "#B6E880",
           "#FF97FF",
           "#FECB52"
          ],
          "font": {
           "color": "#2a3f5f"
          },
          "geo": {
           "bgcolor": "white",
           "lakecolor": "white",
           "landcolor": "#E5ECF6",
           "showlakes": true,
           "showland": true,
           "subunitcolor": "white"
          },
          "hoverlabel": {
           "align": "left"
          },
          "hovermode": "closest",
          "mapbox": {
           "style": "light"
          },
          "paper_bgcolor": "white",
          "plot_bgcolor": "#E5ECF6",
          "polar": {
           "angularaxis": {
            "gridcolor": "white",
            "linecolor": "white",
            "ticks": ""
           },
           "bgcolor": "#E5ECF6",
           "radialaxis": {
            "gridcolor": "white",
            "linecolor": "white",
            "ticks": ""
           }
          },
          "scene": {
           "xaxis": {
            "backgroundcolor": "#E5ECF6",
            "gridcolor": "white",
            "gridwidth": 2,
            "linecolor": "white",
            "showbackground": true,
            "ticks": "",
            "zerolinecolor": "white"
           },
           "yaxis": {
            "backgroundcolor": "#E5ECF6",
            "gridcolor": "white",
            "gridwidth": 2,
            "linecolor": "white",
            "showbackground": true,
            "ticks": "",
            "zerolinecolor": "white"
           },
           "zaxis": {
            "backgroundcolor": "#E5ECF6",
            "gridcolor": "white",
            "gridwidth": 2,
            "linecolor": "white",
            "showbackground": true,
            "ticks": "",
            "zerolinecolor": "white"
           }
          },
          "shapedefaults": {
           "line": {
            "color": "#2a3f5f"
           }
          },
          "ternary": {
           "aaxis": {
            "gridcolor": "white",
            "linecolor": "white",
            "ticks": ""
           },
           "baxis": {
            "gridcolor": "white",
            "linecolor": "white",
            "ticks": ""
           },
           "bgcolor": "#E5ECF6",
           "caxis": {
            "gridcolor": "white",
            "linecolor": "white",
            "ticks": ""
           }
          },
          "title": {
           "x": 0.05
          },
          "xaxis": {
           "automargin": true,
           "gridcolor": "white",
           "linecolor": "white",
           "ticks": "",
           "title": {
            "standoff": 15
           },
           "zerolinecolor": "white",
           "zerolinewidth": 2
          },
          "yaxis": {
           "automargin": true,
           "gridcolor": "white",
           "linecolor": "white",
           "ticks": "",
           "title": {
            "standoff": 15
           },
           "zerolinecolor": "white",
           "zerolinewidth": 2
          }
         }
        },
        "title": {
         "font": {
          "size": 20
         },
         "text": "Carte des populations par ville"
        }
       }
      }
     },
     "metadata": {},
     "output_type": "display_data"
    }
   ],
   "source": [
    "import plotly.express as px\n",
    "\n",
    "\n",
    "# Créer une plage de zoom pour la région des États-Unis\n",
    "zoom = 4\n",
    "\n",
    "# Tracer la carte en utilisant les coordonnées de latitude et de longitude filtrées\n",
    "fig = px.scatter_mapbox(dff, lat='Latitude', lon='Longitude', mapbox_style='open-street-map',\n",
    "                        center={'lat': center_lat, 'lon': center_lon},\n",
    "                        zoom=zoom,\n",
    "                        color='POPESTIMATE',\n",
    "                        hover_name='City',\n",
    "                        color_continuous_scale='darkmint',\n",
    "                        color_continuous_midpoint=df_test['POPESTIMATE'].median(),\n",
    "                        labels={'POPESTIMATE': 'Population'},\n",
    "                        title='Carte des populations par ville')\n",
    "\n",
    "# Modifier la légende de la couleur et le titre du graphique\n",
    "fig.update_layout(coloraxis_colorbar_title='Population',\n",
    "                  title_font_size=20)\n",
    "\n",
    "# Modifier le style de la carte\n",
    "fig.update_layout(\n",
    "    mapbox=dict(\n",
    "        style='carto-positron',  # Choisir un style de carte plus esthétique\n",
    "        zoom=3,  # Modifier le zoom initial ici\n",
    "        center=dict(lat=center_lat, lon=center_lon),  # Définir le centre de la carte sur les États-Unis\n",
    "    ),\n",
    "    margin=dict(l=0, r=0, t=50, b=0),  # Modifier les marges de la carte ici\n",
    "    showlegend=False,  # Masquer la légende de la carte\n",
    "    title_font_size=20  # Modifier la taille du titre du graphique ici\n",
    ")\n",
    "\n",
    "# Afficher la figure\n",
    "fig.show()"
   ]
  },
  {
   "cell_type": "code",
   "execution_count": 334,
   "metadata": {},
   "outputs": [
    {
     "data": {
      "text/html": [
       "<div>\n",
       "<style scoped>\n",
       "    .dataframe tbody tr th:only-of-type {\n",
       "        vertical-align: middle;\n",
       "    }\n",
       "\n",
       "    .dataframe tbody tr th {\n",
       "        vertical-align: top;\n",
       "    }\n",
       "\n",
       "    .dataframe thead th {\n",
       "        text-align: right;\n",
       "    }\n",
       "</style>\n",
       "<table border=\"1\" class=\"dataframe\">\n",
       "  <thead>\n",
       "    <tr style=\"text-align: right;\">\n",
       "      <th></th>\n",
       "      <th>2019</th>\n",
       "      <th>2020</th>\n",
       "      <th>2021</th>\n",
       "      <th>prediction_mean</th>\n",
       "      <th>State/Province_x</th>\n",
       "      <th>City_State</th>\n",
       "      <th>Count</th>\n",
       "      <th>City</th>\n",
       "      <th>Longitude</th>\n",
       "      <th>Latitude</th>\n",
       "      <th>...</th>\n",
       "      <th>AGE7579_FEMALE</th>\n",
       "      <th>AGE8084_TOTAL</th>\n",
       "      <th>AGE8084_MALE</th>\n",
       "      <th>AGE8084_FEMALE</th>\n",
       "      <th>AGE85PLUS_TOTAL</th>\n",
       "      <th>AGE85PLUS_MALE</th>\n",
       "      <th>AGE85PLUS_FEMALE</th>\n",
       "      <th>MEDIAN_AGE_TOTAL</th>\n",
       "      <th>MEDIAN_AGE_MALE</th>\n",
       "      <th>MEDIAN_AGE_FEMALE</th>\n",
       "    </tr>\n",
       "  </thead>\n",
       "  <tbody>\n",
       "    <tr>\n",
       "      <th>0</th>\n",
       "      <td>51827</td>\n",
       "      <td>55232</td>\n",
       "      <td>58735</td>\n",
       "      <td>0.909252</td>\n",
       "      <td>OH</td>\n",
       "      <td>Akron, OH</td>\n",
       "      <td>10</td>\n",
       "      <td>Akron</td>\n",
       "      <td>-81.51</td>\n",
       "      <td>41.08</td>\n",
       "      <td>...</td>\n",
       "      <td>12275</td>\n",
       "      <td>14011</td>\n",
       "      <td>5805</td>\n",
       "      <td>8206</td>\n",
       "      <td>13859</td>\n",
       "      <td>4963</td>\n",
       "      <td>8896</td>\n",
       "      <td>40.7</td>\n",
       "      <td>39.7</td>\n",
       "      <td>41.8</td>\n",
       "    </tr>\n",
       "    <tr>\n",
       "      <th>1</th>\n",
       "      <td>38118</td>\n",
       "      <td>42006</td>\n",
       "      <td>45619</td>\n",
       "      <td>0.904930</td>\n",
       "      <td>GA</td>\n",
       "      <td>Albany, GA</td>\n",
       "      <td>3</td>\n",
       "      <td>Albany</td>\n",
       "      <td>-84.22</td>\n",
       "      <td>31.61</td>\n",
       "      <td>...</td>\n",
       "      <td>2430</td>\n",
       "      <td>2656</td>\n",
       "      <td>1021</td>\n",
       "      <td>1635</td>\n",
       "      <td>2383</td>\n",
       "      <td>738</td>\n",
       "      <td>1645</td>\n",
       "      <td>37.6</td>\n",
       "      <td>35.9</td>\n",
       "      <td>39.0</td>\n",
       "    </tr>\n",
       "    <tr>\n",
       "      <th>2</th>\n",
       "      <td>44501</td>\n",
       "      <td>48357</td>\n",
       "      <td>52695</td>\n",
       "      <td>0.856468</td>\n",
       "      <td>OR</td>\n",
       "      <td>Albany-Lebanon, OR</td>\n",
       "      <td>6</td>\n",
       "      <td>Albany-Lebanon</td>\n",
       "      <td>-122.91</td>\n",
       "      <td>44.53</td>\n",
       "      <td>...</td>\n",
       "      <td>2342</td>\n",
       "      <td>2756</td>\n",
       "      <td>1213</td>\n",
       "      <td>1543</td>\n",
       "      <td>2176</td>\n",
       "      <td>832</td>\n",
       "      <td>1344</td>\n",
       "      <td>39.8</td>\n",
       "      <td>39.0</td>\n",
       "      <td>40.6</td>\n",
       "    </tr>\n",
       "    <tr>\n",
       "      <th>3</th>\n",
       "      <td>59477</td>\n",
       "      <td>63951</td>\n",
       "      <td>67788</td>\n",
       "      <td>0.914221</td>\n",
       "      <td>NY</td>\n",
       "      <td>Albany-Schenectady-Troy, NY</td>\n",
       "      <td>7</td>\n",
       "      <td>Albany-Schenectady-Troy</td>\n",
       "      <td>-73.68</td>\n",
       "      <td>42.74</td>\n",
       "      <td>...</td>\n",
       "      <td>15810</td>\n",
       "      <td>17818</td>\n",
       "      <td>7474</td>\n",
       "      <td>10344</td>\n",
       "      <td>18979</td>\n",
       "      <td>6456</td>\n",
       "      <td>12523</td>\n",
       "      <td>40.6</td>\n",
       "      <td>39.4</td>\n",
       "      <td>41.7</td>\n",
       "    </tr>\n",
       "    <tr>\n",
       "      <th>4</th>\n",
       "      <td>44884</td>\n",
       "      <td>48514</td>\n",
       "      <td>52263</td>\n",
       "      <td>0.856468</td>\n",
       "      <td>NM</td>\n",
       "      <td>Albuquerque, NM</td>\n",
       "      <td>37</td>\n",
       "      <td>Albuquerque</td>\n",
       "      <td>-106.69</td>\n",
       "      <td>35.18</td>\n",
       "      <td>...</td>\n",
       "      <td>15928</td>\n",
       "      <td>17658</td>\n",
       "      <td>7732</td>\n",
       "      <td>9926</td>\n",
       "      <td>15532</td>\n",
       "      <td>5999</td>\n",
       "      <td>9533</td>\n",
       "      <td>39.2</td>\n",
       "      <td>38.2</td>\n",
       "      <td>40.4</td>\n",
       "    </tr>\n",
       "    <tr>\n",
       "      <th>...</th>\n",
       "      <td>...</td>\n",
       "      <td>...</td>\n",
       "      <td>...</td>\n",
       "      <td>...</td>\n",
       "      <td>...</td>\n",
       "      <td>...</td>\n",
       "      <td>...</td>\n",
       "      <td>...</td>\n",
       "      <td>...</td>\n",
       "      <td>...</td>\n",
       "      <td>...</td>\n",
       "      <td>...</td>\n",
       "      <td>...</td>\n",
       "      <td>...</td>\n",
       "      <td>...</td>\n",
       "      <td>...</td>\n",
       "      <td>...</td>\n",
       "      <td>...</td>\n",
       "      <td>...</td>\n",
       "      <td>...</td>\n",
       "      <td>...</td>\n",
       "    </tr>\n",
       "    <tr>\n",
       "      <th>285</th>\n",
       "      <td>55671</td>\n",
       "      <td>60364</td>\n",
       "      <td>64540</td>\n",
       "      <td>0.904944</td>\n",
       "      <td>MACT</td>\n",
       "      <td>Worcester, MA-CT</td>\n",
       "      <td>3</td>\n",
       "      <td>Worcester</td>\n",
       "      <td>-71.81</td>\n",
       "      <td>42.29</td>\n",
       "      <td>...</td>\n",
       "      <td>15158</td>\n",
       "      <td>17303</td>\n",
       "      <td>7209</td>\n",
       "      <td>10094</td>\n",
       "      <td>18179</td>\n",
       "      <td>6041</td>\n",
       "      <td>12138</td>\n",
       "      <td>40.4</td>\n",
       "      <td>39.4</td>\n",
       "      <td>41.4</td>\n",
       "    </tr>\n",
       "    <tr>\n",
       "      <th>286</th>\n",
       "      <td>43208</td>\n",
       "      <td>47315</td>\n",
       "      <td>50872</td>\n",
       "      <td>0.866906</td>\n",
       "      <td>WA</td>\n",
       "      <td>Yakima, WA</td>\n",
       "      <td>11</td>\n",
       "      <td>Yakima</td>\n",
       "      <td>-120.56</td>\n",
       "      <td>46.62</td>\n",
       "      <td>...</td>\n",
       "      <td>3393</td>\n",
       "      <td>4135</td>\n",
       "      <td>1848</td>\n",
       "      <td>2287</td>\n",
       "      <td>3808</td>\n",
       "      <td>1444</td>\n",
       "      <td>2364</td>\n",
       "      <td>33.1</td>\n",
       "      <td>32.4</td>\n",
       "      <td>33.7</td>\n",
       "    </tr>\n",
       "    <tr>\n",
       "      <th>287</th>\n",
       "      <td>51295</td>\n",
       "      <td>54808</td>\n",
       "      <td>57870</td>\n",
       "      <td>0.890291</td>\n",
       "      <td>PA</td>\n",
       "      <td>York-Hanover, PA</td>\n",
       "      <td>9</td>\n",
       "      <td>York-Hanover</td>\n",
       "      <td>-76.99</td>\n",
       "      <td>39.83</td>\n",
       "      <td>...</td>\n",
       "      <td>8002</td>\n",
       "      <td>9399</td>\n",
       "      <td>4105</td>\n",
       "      <td>5294</td>\n",
       "      <td>9061</td>\n",
       "      <td>3198</td>\n",
       "      <td>5863</td>\n",
       "      <td>41.0</td>\n",
       "      <td>40.0</td>\n",
       "      <td>42.1</td>\n",
       "    </tr>\n",
       "    <tr>\n",
       "      <th>288</th>\n",
       "      <td>42450</td>\n",
       "      <td>46009</td>\n",
       "      <td>48904</td>\n",
       "      <td>0.894352</td>\n",
       "      <td>OHPA</td>\n",
       "      <td>Youngstown-Warren-Boardman, OH-PA</td>\n",
       "      <td>3</td>\n",
       "      <td>Youngstown-Warren-Boardman</td>\n",
       "      <td>-80.68</td>\n",
       "      <td>41.02</td>\n",
       "      <td>...</td>\n",
       "      <td>11336</td>\n",
       "      <td>13683</td>\n",
       "      <td>5597</td>\n",
       "      <td>8086</td>\n",
       "      <td>14291</td>\n",
       "      <td>4840</td>\n",
       "      <td>9451</td>\n",
       "      <td>43.8</td>\n",
       "      <td>42.0</td>\n",
       "      <td>45.8</td>\n",
       "    </tr>\n",
       "    <tr>\n",
       "      <th>289</th>\n",
       "      <td>37624</td>\n",
       "      <td>42732</td>\n",
       "      <td>44299</td>\n",
       "      <td>0.851938</td>\n",
       "      <td>AZ</td>\n",
       "      <td>Yuma, AZ</td>\n",
       "      <td>8</td>\n",
       "      <td>Yuma</td>\n",
       "      <td>-114.61</td>\n",
       "      <td>32.70</td>\n",
       "      <td>...</td>\n",
       "      <td>4639</td>\n",
       "      <td>6414</td>\n",
       "      <td>3175</td>\n",
       "      <td>3239</td>\n",
       "      <td>5159</td>\n",
       "      <td>2575</td>\n",
       "      <td>2584</td>\n",
       "      <td>35.2</td>\n",
       "      <td>33.9</td>\n",
       "      <td>36.9</td>\n",
       "    </tr>\n",
       "  </tbody>\n",
       "</table>\n",
       "<p>290 rows × 100 columns</p>\n",
       "</div>"
      ],
      "text/plain": [
       "      2019   2020   2021  prediction_mean State/Province_x  \\\n",
       "0    51827  55232  58735         0.909252               OH   \n",
       "1    38118  42006  45619         0.904930               GA   \n",
       "2    44501  48357  52695         0.856468               OR   \n",
       "3    59477  63951  67788         0.914221               NY   \n",
       "4    44884  48514  52263         0.856468               NM   \n",
       "..     ...    ...    ...              ...              ...   \n",
       "285  55671  60364  64540         0.904944             MACT   \n",
       "286  43208  47315  50872         0.866906               WA   \n",
       "287  51295  54808  57870         0.890291               PA   \n",
       "288  42450  46009  48904         0.894352             OHPA   \n",
       "289  37624  42732  44299         0.851938               AZ   \n",
       "\n",
       "                            City_State  Count                        City  \\\n",
       "0                            Akron, OH     10                       Akron   \n",
       "1                           Albany, GA      3                      Albany   \n",
       "2                   Albany-Lebanon, OR      6              Albany-Lebanon   \n",
       "3          Albany-Schenectady-Troy, NY      7     Albany-Schenectady-Troy   \n",
       "4                      Albuquerque, NM     37                 Albuquerque   \n",
       "..                                 ...    ...                         ...   \n",
       "285                   Worcester, MA-CT      3                   Worcester   \n",
       "286                         Yakima, WA     11                      Yakima   \n",
       "287                   York-Hanover, PA      9                York-Hanover   \n",
       "288  Youngstown-Warren-Boardman, OH-PA      3  Youngstown-Warren-Boardman   \n",
       "289                           Yuma, AZ      8                        Yuma   \n",
       "\n",
       "     Longitude  Latitude  ...  AGE7579_FEMALE  AGE8084_TOTAL  AGE8084_MALE  \\\n",
       "0       -81.51     41.08  ...           12275          14011          5805   \n",
       "1       -84.22     31.61  ...            2430           2656          1021   \n",
       "2      -122.91     44.53  ...            2342           2756          1213   \n",
       "3       -73.68     42.74  ...           15810          17818          7474   \n",
       "4      -106.69     35.18  ...           15928          17658          7732   \n",
       "..         ...       ...  ...             ...            ...           ...   \n",
       "285     -71.81     42.29  ...           15158          17303          7209   \n",
       "286    -120.56     46.62  ...            3393           4135          1848   \n",
       "287     -76.99     39.83  ...            8002           9399          4105   \n",
       "288     -80.68     41.02  ...           11336          13683          5597   \n",
       "289    -114.61     32.70  ...            4639           6414          3175   \n",
       "\n",
       "     AGE8084_FEMALE  AGE85PLUS_TOTAL  AGE85PLUS_MALE  AGE85PLUS_FEMALE  \\\n",
       "0              8206            13859            4963              8896   \n",
       "1              1635             2383             738              1645   \n",
       "2              1543             2176             832              1344   \n",
       "3             10344            18979            6456             12523   \n",
       "4              9926            15532            5999              9533   \n",
       "..              ...              ...             ...               ...   \n",
       "285           10094            18179            6041             12138   \n",
       "286            2287             3808            1444              2364   \n",
       "287            5294             9061            3198              5863   \n",
       "288            8086            14291            4840              9451   \n",
       "289            3239             5159            2575              2584   \n",
       "\n",
       "     MEDIAN_AGE_TOTAL  MEDIAN_AGE_MALE  MEDIAN_AGE_FEMALE  \n",
       "0                40.7             39.7               41.8  \n",
       "1                37.6             35.9               39.0  \n",
       "2                39.8             39.0               40.6  \n",
       "3                40.6             39.4               41.7  \n",
       "4                39.2             38.2               40.4  \n",
       "..                ...              ...                ...  \n",
       "285              40.4             39.4               41.4  \n",
       "286              33.1             32.4               33.7  \n",
       "287              41.0             40.0               42.1  \n",
       "288              43.8             42.0               45.8  \n",
       "289              35.2             33.9               36.9  \n",
       "\n",
       "[290 rows x 100 columns]"
      ]
     },
     "execution_count": 334,
     "metadata": {},
     "output_type": "execute_result"
    }
   ],
   "source": [
    "dff"
   ]
  },
  {
   "cell_type": "code",
   "execution_count": 335,
   "metadata": {},
   "outputs": [],
   "source": [
    "dff.drop(['2020'], axis=1, inplace=True )"
   ]
  },
  {
   "cell_type": "code",
   "execution_count": 336,
   "metadata": {},
   "outputs": [],
   "source": [
    "dff.sort_values(by='prediction_mean', ascending=False, inplace=True)"
   ]
  },
  {
   "cell_type": "code",
   "execution_count": 337,
   "metadata": {},
   "outputs": [
    {
     "data": {
      "text/html": [
       "<div>\n",
       "<style scoped>\n",
       "    .dataframe tbody tr th:only-of-type {\n",
       "        vertical-align: middle;\n",
       "    }\n",
       "\n",
       "    .dataframe tbody tr th {\n",
       "        vertical-align: top;\n",
       "    }\n",
       "\n",
       "    .dataframe thead th {\n",
       "        text-align: right;\n",
       "    }\n",
       "</style>\n",
       "<table border=\"1\" class=\"dataframe\">\n",
       "  <thead>\n",
       "    <tr style=\"text-align: right;\">\n",
       "      <th></th>\n",
       "      <th>2019</th>\n",
       "      <th>2021</th>\n",
       "      <th>prediction_mean</th>\n",
       "      <th>State/Province_x</th>\n",
       "      <th>City_State</th>\n",
       "      <th>Count</th>\n",
       "      <th>City</th>\n",
       "      <th>Longitude</th>\n",
       "      <th>Latitude</th>\n",
       "      <th>POPESTIMATE</th>\n",
       "      <th>...</th>\n",
       "      <th>AGE7579_FEMALE</th>\n",
       "      <th>AGE8084_TOTAL</th>\n",
       "      <th>AGE8084_MALE</th>\n",
       "      <th>AGE8084_FEMALE</th>\n",
       "      <th>AGE85PLUS_TOTAL</th>\n",
       "      <th>AGE85PLUS_MALE</th>\n",
       "      <th>AGE85PLUS_FEMALE</th>\n",
       "      <th>MEDIAN_AGE_TOTAL</th>\n",
       "      <th>MEDIAN_AGE_MALE</th>\n",
       "      <th>MEDIAN_AGE_FEMALE</th>\n",
       "    </tr>\n",
       "  </thead>\n",
       "  <tbody>\n",
       "    <tr>\n",
       "      <th>175</th>\n",
       "      <td>28256</td>\n",
       "      <td>34503</td>\n",
       "      <td>0.961931</td>\n",
       "      <td>TX</td>\n",
       "      <td>McAllen-Edinburg-Mission, TX</td>\n",
       "      <td>12</td>\n",
       "      <td>McAllen-Edinburg-Mission</td>\n",
       "      <td>-98.29</td>\n",
       "      <td>26.20</td>\n",
       "      <td>880356</td>\n",
       "      <td>...</td>\n",
       "      <td>10498</td>\n",
       "      <td>12674</td>\n",
       "      <td>5462</td>\n",
       "      <td>7212</td>\n",
       "      <td>11366</td>\n",
       "      <td>4545</td>\n",
       "      <td>6821</td>\n",
       "      <td>30.1</td>\n",
       "      <td>29.1</td>\n",
       "      <td>31.1</td>\n",
       "    </tr>\n",
       "    <tr>\n",
       "      <th>42</th>\n",
       "      <td>30361</td>\n",
       "      <td>37861</td>\n",
       "      <td>0.945207</td>\n",
       "      <td>TX</td>\n",
       "      <td>Brownsville-Harlingen, TX</td>\n",
       "      <td>7</td>\n",
       "      <td>Brownsville-Harlingen</td>\n",
       "      <td>-97.72</td>\n",
       "      <td>26.19</td>\n",
       "      <td>423029</td>\n",
       "      <td>...</td>\n",
       "      <td>6030</td>\n",
       "      <td>7377</td>\n",
       "      <td>3213</td>\n",
       "      <td>4164</td>\n",
       "      <td>6700</td>\n",
       "      <td>2595</td>\n",
       "      <td>4105</td>\n",
       "      <td>32.5</td>\n",
       "      <td>30.9</td>\n",
       "      <td>34.2</td>\n",
       "    </tr>\n",
       "    <tr>\n",
       "      <th>165</th>\n",
       "      <td>40666</td>\n",
       "      <td>46903</td>\n",
       "      <td>0.931237</td>\n",
       "      <td>UTID</td>\n",
       "      <td>Logan, UT-ID</td>\n",
       "      <td>2</td>\n",
       "      <td>Logan</td>\n",
       "      <td>-111.83</td>\n",
       "      <td>41.72</td>\n",
       "      <td>152083</td>\n",
       "      <td>...</td>\n",
       "      <td>1483</td>\n",
       "      <td>1883</td>\n",
       "      <td>870</td>\n",
       "      <td>1013</td>\n",
       "      <td>1582</td>\n",
       "      <td>687</td>\n",
       "      <td>895</td>\n",
       "      <td>26.3</td>\n",
       "      <td>26.3</td>\n",
       "      <td>26.3</td>\n",
       "    </tr>\n",
       "    <tr>\n",
       "      <th>124</th>\n",
       "      <td>40770</td>\n",
       "      <td>47217</td>\n",
       "      <td>0.931237</td>\n",
       "      <td>VA</td>\n",
       "      <td>Harrisonburg, VA</td>\n",
       "      <td>6</td>\n",
       "      <td>Harrisonburg</td>\n",
       "      <td>-78.88</td>\n",
       "      <td>38.43</td>\n",
       "      <td>135824</td>\n",
       "      <td>...</td>\n",
       "      <td>2088</td>\n",
       "      <td>2643</td>\n",
       "      <td>1142</td>\n",
       "      <td>1501</td>\n",
       "      <td>2597</td>\n",
       "      <td>938</td>\n",
       "      <td>1659</td>\n",
       "      <td>35.1</td>\n",
       "      <td>35.1</td>\n",
       "      <td>35.2</td>\n",
       "    </tr>\n",
       "    <tr>\n",
       "      <th>149</th>\n",
       "      <td>41863</td>\n",
       "      <td>47031</td>\n",
       "      <td>0.931237</td>\n",
       "      <td>IN</td>\n",
       "      <td>Kokomo, IN</td>\n",
       "      <td>1</td>\n",
       "      <td>Kokomo</td>\n",
       "      <td>-86.13</td>\n",
       "      <td>40.44</td>\n",
       "      <td>83687</td>\n",
       "      <td>...</td>\n",
       "      <td>1740</td>\n",
       "      <td>2012</td>\n",
       "      <td>857</td>\n",
       "      <td>1155</td>\n",
       "      <td>1829</td>\n",
       "      <td>689</td>\n",
       "      <td>1140</td>\n",
       "      <td>40.8</td>\n",
       "      <td>39.2</td>\n",
       "      <td>42.2</td>\n",
       "    </tr>\n",
       "    <tr>\n",
       "      <th>187</th>\n",
       "      <td>39956</td>\n",
       "      <td>46859</td>\n",
       "      <td>0.931237</td>\n",
       "      <td>LA</td>\n",
       "      <td>Monroe, LA</td>\n",
       "      <td>2</td>\n",
       "      <td>Monroe</td>\n",
       "      <td>-92.12</td>\n",
       "      <td>32.53</td>\n",
       "      <td>204884</td>\n",
       "      <td>...</td>\n",
       "      <td>3391</td>\n",
       "      <td>3882</td>\n",
       "      <td>1575</td>\n",
       "      <td>2307</td>\n",
       "      <td>3590</td>\n",
       "      <td>1252</td>\n",
       "      <td>2338</td>\n",
       "      <td>37.9</td>\n",
       "      <td>36.4</td>\n",
       "      <td>39.3</td>\n",
       "    </tr>\n",
       "    <tr>\n",
       "      <th>129</th>\n",
       "      <td>41510</td>\n",
       "      <td>46897</td>\n",
       "      <td>0.931237</td>\n",
       "      <td>AR</td>\n",
       "      <td>Hot Springs, AR</td>\n",
       "      <td>1</td>\n",
       "      <td>Hot Springs</td>\n",
       "      <td>-93.06</td>\n",
       "      <td>34.46</td>\n",
       "      <td>100330</td>\n",
       "      <td>...</td>\n",
       "      <td>2500</td>\n",
       "      <td>3033</td>\n",
       "      <td>1389</td>\n",
       "      <td>1644</td>\n",
       "      <td>2508</td>\n",
       "      <td>961</td>\n",
       "      <td>1547</td>\n",
       "      <td>45.4</td>\n",
       "      <td>43.6</td>\n",
       "      <td>47.2</td>\n",
       "    </tr>\n",
       "    <tr>\n",
       "      <th>122</th>\n",
       "      <td>40912</td>\n",
       "      <td>47076</td>\n",
       "      <td>0.931237</td>\n",
       "      <td>LA</td>\n",
       "      <td>Hammond, LA</td>\n",
       "      <td>3</td>\n",
       "      <td>Hammond</td>\n",
       "      <td>-90.49</td>\n",
       "      <td>30.50</td>\n",
       "      <td>135217</td>\n",
       "      <td>...</td>\n",
       "      <td>1923</td>\n",
       "      <td>2056</td>\n",
       "      <td>841</td>\n",
       "      <td>1215</td>\n",
       "      <td>1646</td>\n",
       "      <td>580</td>\n",
       "      <td>1066</td>\n",
       "      <td>36.1</td>\n",
       "      <td>35.3</td>\n",
       "      <td>37.0</td>\n",
       "    </tr>\n",
       "    <tr>\n",
       "      <th>234</th>\n",
       "      <td>42732</td>\n",
       "      <td>47162</td>\n",
       "      <td>0.931237</td>\n",
       "      <td>UT</td>\n",
       "      <td>St George, UT</td>\n",
       "      <td>5</td>\n",
       "      <td>St. George</td>\n",
       "      <td>-113.60</td>\n",
       "      <td>37.13</td>\n",
       "      <td>191226</td>\n",
       "      <td>...</td>\n",
       "      <td>4363</td>\n",
       "      <td>5398</td>\n",
       "      <td>2677</td>\n",
       "      <td>2721</td>\n",
       "      <td>4288</td>\n",
       "      <td>2112</td>\n",
       "      <td>2176</td>\n",
       "      <td>39.0</td>\n",
       "      <td>38.1</td>\n",
       "      <td>39.9</td>\n",
       "    </tr>\n",
       "    <tr>\n",
       "      <th>188</th>\n",
       "      <td>43084</td>\n",
       "      <td>49310</td>\n",
       "      <td>0.931019</td>\n",
       "      <td>AL</td>\n",
       "      <td>Montgomery, AL</td>\n",
       "      <td>6</td>\n",
       "      <td>Montgomery</td>\n",
       "      <td>-86.18</td>\n",
       "      <td>32.38</td>\n",
       "      <td>385798</td>\n",
       "      <td>...</td>\n",
       "      <td>6371</td>\n",
       "      <td>7012</td>\n",
       "      <td>2886</td>\n",
       "      <td>4126</td>\n",
       "      <td>5992</td>\n",
       "      <td>2066</td>\n",
       "      <td>3926</td>\n",
       "      <td>38.1</td>\n",
       "      <td>36.5</td>\n",
       "      <td>39.6</td>\n",
       "    </tr>\n",
       "  </tbody>\n",
       "</table>\n",
       "<p>10 rows × 99 columns</p>\n",
       "</div>"
      ],
      "text/plain": [
       "      2019   2021  prediction_mean State/Province_x  \\\n",
       "175  28256  34503         0.961931               TX   \n",
       "42   30361  37861         0.945207               TX   \n",
       "165  40666  46903         0.931237             UTID   \n",
       "124  40770  47217         0.931237               VA   \n",
       "149  41863  47031         0.931237               IN   \n",
       "187  39956  46859         0.931237               LA   \n",
       "129  41510  46897         0.931237               AR   \n",
       "122  40912  47076         0.931237               LA   \n",
       "234  42732  47162         0.931237               UT   \n",
       "188  43084  49310         0.931019               AL   \n",
       "\n",
       "                       City_State  Count                      City  Longitude  \\\n",
       "175  McAllen-Edinburg-Mission, TX     12  McAllen-Edinburg-Mission     -98.29   \n",
       "42      Brownsville-Harlingen, TX      7     Brownsville-Harlingen     -97.72   \n",
       "165                  Logan, UT-ID      2                     Logan    -111.83   \n",
       "124              Harrisonburg, VA      6              Harrisonburg     -78.88   \n",
       "149                    Kokomo, IN      1                    Kokomo     -86.13   \n",
       "187                    Monroe, LA      2                    Monroe     -92.12   \n",
       "129               Hot Springs, AR      1               Hot Springs     -93.06   \n",
       "122                   Hammond, LA      3                   Hammond     -90.49   \n",
       "234                 St George, UT      5                St. George    -113.60   \n",
       "188                Montgomery, AL      6                Montgomery     -86.18   \n",
       "\n",
       "     Latitude  POPESTIMATE  ...  AGE7579_FEMALE  AGE8084_TOTAL  AGE8084_MALE  \\\n",
       "175     26.20       880356  ...           10498          12674          5462   \n",
       "42      26.19       423029  ...            6030           7377          3213   \n",
       "165     41.72       152083  ...            1483           1883           870   \n",
       "124     38.43       135824  ...            2088           2643          1142   \n",
       "149     40.44        83687  ...            1740           2012           857   \n",
       "187     32.53       204884  ...            3391           3882          1575   \n",
       "129     34.46       100330  ...            2500           3033          1389   \n",
       "122     30.50       135217  ...            1923           2056           841   \n",
       "234     37.13       191226  ...            4363           5398          2677   \n",
       "188     32.38       385798  ...            6371           7012          2886   \n",
       "\n",
       "     AGE8084_FEMALE  AGE85PLUS_TOTAL  AGE85PLUS_MALE  AGE85PLUS_FEMALE  \\\n",
       "175            7212            11366            4545              6821   \n",
       "42             4164             6700            2595              4105   \n",
       "165            1013             1582             687               895   \n",
       "124            1501             2597             938              1659   \n",
       "149            1155             1829             689              1140   \n",
       "187            2307             3590            1252              2338   \n",
       "129            1644             2508             961              1547   \n",
       "122            1215             1646             580              1066   \n",
       "234            2721             4288            2112              2176   \n",
       "188            4126             5992            2066              3926   \n",
       "\n",
       "     MEDIAN_AGE_TOTAL  MEDIAN_AGE_MALE  MEDIAN_AGE_FEMALE  \n",
       "175              30.1             29.1               31.1  \n",
       "42               32.5             30.9               34.2  \n",
       "165              26.3             26.3               26.3  \n",
       "124              35.1             35.1               35.2  \n",
       "149              40.8             39.2               42.2  \n",
       "187              37.9             36.4               39.3  \n",
       "129              45.4             43.6               47.2  \n",
       "122              36.1             35.3               37.0  \n",
       "234              39.0             38.1               39.9  \n",
       "188              38.1             36.5               39.6  \n",
       "\n",
       "[10 rows x 99 columns]"
      ]
     },
     "execution_count": 337,
     "metadata": {},
     "output_type": "execute_result"
    }
   ],
   "source": [
    "dff.head(10)"
   ]
  },
  {
   "cell_type": "code",
   "execution_count": 338,
   "metadata": {},
   "outputs": [],
   "source": [
    "dff['starbucks_percapita'] = dff['POPESTIMATE']/dff['Count']"
   ]
  },
  {
   "cell_type": "code",
   "execution_count": 339,
   "metadata": {},
   "outputs": [
    {
     "data": {
      "application/vnd.plotly.v1+json": {
       "config": {
        "plotlyServerURL": "https://plot.ly"
       },
       "data": [
        {
         "name": "",
         "type": "bar",
         "x": [
          "McAllen-Edinburg-Mission, TX",
          "Monroe, LA",
          "Hot Springs, AR",
          "Logan, UT-ID",
          "Kokomo, IN",
          "Dothan, AL",
          "Johnstown, PA",
          "Montgomery, AL",
          "Lancaster, PA",
          "New Orleans-Metairie, LA"
         ],
         "y": [
          0.96193145,
          0.931236735,
          0.931236735,
          0.931236735,
          0.931236735,
          0.93101855,
          0.93101855,
          0.93101855,
          0.92926585,
          0.92926585,
          0.92926585,
          0.92885287,
          0.92885287,
          0.92631785,
          0.91876563,
          0.91876563,
          0.91876563,
          0.918649715,
          0.91729908,
          0.91729908,
          0.914221425,
          0.9140797,
          0.91402675,
          0.91402675,
          0.91402675,
          0.91402675,
          0.91402675,
          0.910390175,
          0.910390175,
          0.910390175
         ]
        }
       ],
       "layout": {
        "template": {
         "data": {
          "bar": [
           {
            "error_x": {
             "color": "#2a3f5f"
            },
            "error_y": {
             "color": "#2a3f5f"
            },
            "marker": {
             "line": {
              "color": "#E5ECF6",
              "width": 0.5
             },
             "pattern": {
              "fillmode": "overlay",
              "size": 10,
              "solidity": 0.2
             }
            },
            "type": "bar"
           }
          ],
          "barpolar": [
           {
            "marker": {
             "line": {
              "color": "#E5ECF6",
              "width": 0.5
             },
             "pattern": {
              "fillmode": "overlay",
              "size": 10,
              "solidity": 0.2
             }
            },
            "type": "barpolar"
           }
          ],
          "carpet": [
           {
            "aaxis": {
             "endlinecolor": "#2a3f5f",
             "gridcolor": "white",
             "linecolor": "white",
             "minorgridcolor": "white",
             "startlinecolor": "#2a3f5f"
            },
            "baxis": {
             "endlinecolor": "#2a3f5f",
             "gridcolor": "white",
             "linecolor": "white",
             "minorgridcolor": "white",
             "startlinecolor": "#2a3f5f"
            },
            "type": "carpet"
           }
          ],
          "choropleth": [
           {
            "colorbar": {
             "outlinewidth": 0,
             "ticks": ""
            },
            "type": "choropleth"
           }
          ],
          "contour": [
           {
            "colorbar": {
             "outlinewidth": 0,
             "ticks": ""
            },
            "colorscale": [
             [
              0,
              "#0d0887"
             ],
             [
              0.1111111111111111,
              "#46039f"
             ],
             [
              0.2222222222222222,
              "#7201a8"
             ],
             [
              0.3333333333333333,
              "#9c179e"
             ],
             [
              0.4444444444444444,
              "#bd3786"
             ],
             [
              0.5555555555555556,
              "#d8576b"
             ],
             [
              0.6666666666666666,
              "#ed7953"
             ],
             [
              0.7777777777777778,
              "#fb9f3a"
             ],
             [
              0.8888888888888888,
              "#fdca26"
             ],
             [
              1,
              "#f0f921"
             ]
            ],
            "type": "contour"
           }
          ],
          "contourcarpet": [
           {
            "colorbar": {
             "outlinewidth": 0,
             "ticks": ""
            },
            "type": "contourcarpet"
           }
          ],
          "heatmap": [
           {
            "colorbar": {
             "outlinewidth": 0,
             "ticks": ""
            },
            "colorscale": [
             [
              0,
              "#0d0887"
             ],
             [
              0.1111111111111111,
              "#46039f"
             ],
             [
              0.2222222222222222,
              "#7201a8"
             ],
             [
              0.3333333333333333,
              "#9c179e"
             ],
             [
              0.4444444444444444,
              "#bd3786"
             ],
             [
              0.5555555555555556,
              "#d8576b"
             ],
             [
              0.6666666666666666,
              "#ed7953"
             ],
             [
              0.7777777777777778,
              "#fb9f3a"
             ],
             [
              0.8888888888888888,
              "#fdca26"
             ],
             [
              1,
              "#f0f921"
             ]
            ],
            "type": "heatmap"
           }
          ],
          "heatmapgl": [
           {
            "colorbar": {
             "outlinewidth": 0,
             "ticks": ""
            },
            "colorscale": [
             [
              0,
              "#0d0887"
             ],
             [
              0.1111111111111111,
              "#46039f"
             ],
             [
              0.2222222222222222,
              "#7201a8"
             ],
             [
              0.3333333333333333,
              "#9c179e"
             ],
             [
              0.4444444444444444,
              "#bd3786"
             ],
             [
              0.5555555555555556,
              "#d8576b"
             ],
             [
              0.6666666666666666,
              "#ed7953"
             ],
             [
              0.7777777777777778,
              "#fb9f3a"
             ],
             [
              0.8888888888888888,
              "#fdca26"
             ],
             [
              1,
              "#f0f921"
             ]
            ],
            "type": "heatmapgl"
           }
          ],
          "histogram": [
           {
            "marker": {
             "pattern": {
              "fillmode": "overlay",
              "size": 10,
              "solidity": 0.2
             }
            },
            "type": "histogram"
           }
          ],
          "histogram2d": [
           {
            "colorbar": {
             "outlinewidth": 0,
             "ticks": ""
            },
            "colorscale": [
             [
              0,
              "#0d0887"
             ],
             [
              0.1111111111111111,
              "#46039f"
             ],
             [
              0.2222222222222222,
              "#7201a8"
             ],
             [
              0.3333333333333333,
              "#9c179e"
             ],
             [
              0.4444444444444444,
              "#bd3786"
             ],
             [
              0.5555555555555556,
              "#d8576b"
             ],
             [
              0.6666666666666666,
              "#ed7953"
             ],
             [
              0.7777777777777778,
              "#fb9f3a"
             ],
             [
              0.8888888888888888,
              "#fdca26"
             ],
             [
              1,
              "#f0f921"
             ]
            ],
            "type": "histogram2d"
           }
          ],
          "histogram2dcontour": [
           {
            "colorbar": {
             "outlinewidth": 0,
             "ticks": ""
            },
            "colorscale": [
             [
              0,
              "#0d0887"
             ],
             [
              0.1111111111111111,
              "#46039f"
             ],
             [
              0.2222222222222222,
              "#7201a8"
             ],
             [
              0.3333333333333333,
              "#9c179e"
             ],
             [
              0.4444444444444444,
              "#bd3786"
             ],
             [
              0.5555555555555556,
              "#d8576b"
             ],
             [
              0.6666666666666666,
              "#ed7953"
             ],
             [
              0.7777777777777778,
              "#fb9f3a"
             ],
             [
              0.8888888888888888,
              "#fdca26"
             ],
             [
              1,
              "#f0f921"
             ]
            ],
            "type": "histogram2dcontour"
           }
          ],
          "mesh3d": [
           {
            "colorbar": {
             "outlinewidth": 0,
             "ticks": ""
            },
            "type": "mesh3d"
           }
          ],
          "parcoords": [
           {
            "line": {
             "colorbar": {
              "outlinewidth": 0,
              "ticks": ""
             }
            },
            "type": "parcoords"
           }
          ],
          "pie": [
           {
            "automargin": true,
            "type": "pie"
           }
          ],
          "scatter": [
           {
            "fillpattern": {
             "fillmode": "overlay",
             "size": 10,
             "solidity": 0.2
            },
            "type": "scatter"
           }
          ],
          "scatter3d": [
           {
            "line": {
             "colorbar": {
              "outlinewidth": 0,
              "ticks": ""
             }
            },
            "marker": {
             "colorbar": {
              "outlinewidth": 0,
              "ticks": ""
             }
            },
            "type": "scatter3d"
           }
          ],
          "scattercarpet": [
           {
            "marker": {
             "colorbar": {
              "outlinewidth": 0,
              "ticks": ""
             }
            },
            "type": "scattercarpet"
           }
          ],
          "scattergeo": [
           {
            "marker": {
             "colorbar": {
              "outlinewidth": 0,
              "ticks": ""
             }
            },
            "type": "scattergeo"
           }
          ],
          "scattergl": [
           {
            "marker": {
             "colorbar": {
              "outlinewidth": 0,
              "ticks": ""
             }
            },
            "type": "scattergl"
           }
          ],
          "scattermapbox": [
           {
            "marker": {
             "colorbar": {
              "outlinewidth": 0,
              "ticks": ""
             }
            },
            "type": "scattermapbox"
           }
          ],
          "scatterpolar": [
           {
            "marker": {
             "colorbar": {
              "outlinewidth": 0,
              "ticks": ""
             }
            },
            "type": "scatterpolar"
           }
          ],
          "scatterpolargl": [
           {
            "marker": {
             "colorbar": {
              "outlinewidth": 0,
              "ticks": ""
             }
            },
            "type": "scatterpolargl"
           }
          ],
          "scatterternary": [
           {
            "marker": {
             "colorbar": {
              "outlinewidth": 0,
              "ticks": ""
             }
            },
            "type": "scatterternary"
           }
          ],
          "surface": [
           {
            "colorbar": {
             "outlinewidth": 0,
             "ticks": ""
            },
            "colorscale": [
             [
              0,
              "#0d0887"
             ],
             [
              0.1111111111111111,
              "#46039f"
             ],
             [
              0.2222222222222222,
              "#7201a8"
             ],
             [
              0.3333333333333333,
              "#9c179e"
             ],
             [
              0.4444444444444444,
              "#bd3786"
             ],
             [
              0.5555555555555556,
              "#d8576b"
             ],
             [
              0.6666666666666666,
              "#ed7953"
             ],
             [
              0.7777777777777778,
              "#fb9f3a"
             ],
             [
              0.8888888888888888,
              "#fdca26"
             ],
             [
              1,
              "#f0f921"
             ]
            ],
            "type": "surface"
           }
          ],
          "table": [
           {
            "cells": {
             "fill": {
              "color": "#EBF0F8"
             },
             "line": {
              "color": "white"
             }
            },
            "header": {
             "fill": {
              "color": "#C8D4E3"
             },
             "line": {
              "color": "white"
             }
            },
            "type": "table"
           }
          ]
         },
         "layout": {
          "annotationdefaults": {
           "arrowcolor": "#2a3f5f",
           "arrowhead": 0,
           "arrowwidth": 1
          },
          "autotypenumbers": "strict",
          "coloraxis": {
           "colorbar": {
            "outlinewidth": 0,
            "ticks": ""
           }
          },
          "colorscale": {
           "diverging": [
            [
             0,
             "#8e0152"
            ],
            [
             0.1,
             "#c51b7d"
            ],
            [
             0.2,
             "#de77ae"
            ],
            [
             0.3,
             "#f1b6da"
            ],
            [
             0.4,
             "#fde0ef"
            ],
            [
             0.5,
             "#f7f7f7"
            ],
            [
             0.6,
             "#e6f5d0"
            ],
            [
             0.7,
             "#b8e186"
            ],
            [
             0.8,
             "#7fbc41"
            ],
            [
             0.9,
             "#4d9221"
            ],
            [
             1,
             "#276419"
            ]
           ],
           "sequential": [
            [
             0,
             "#0d0887"
            ],
            [
             0.1111111111111111,
             "#46039f"
            ],
            [
             0.2222222222222222,
             "#7201a8"
            ],
            [
             0.3333333333333333,
             "#9c179e"
            ],
            [
             0.4444444444444444,
             "#bd3786"
            ],
            [
             0.5555555555555556,
             "#d8576b"
            ],
            [
             0.6666666666666666,
             "#ed7953"
            ],
            [
             0.7777777777777778,
             "#fb9f3a"
            ],
            [
             0.8888888888888888,
             "#fdca26"
            ],
            [
             1,
             "#f0f921"
            ]
           ],
           "sequentialminus": [
            [
             0,
             "#0d0887"
            ],
            [
             0.1111111111111111,
             "#46039f"
            ],
            [
             0.2222222222222222,
             "#7201a8"
            ],
            [
             0.3333333333333333,
             "#9c179e"
            ],
            [
             0.4444444444444444,
             "#bd3786"
            ],
            [
             0.5555555555555556,
             "#d8576b"
            ],
            [
             0.6666666666666666,
             "#ed7953"
            ],
            [
             0.7777777777777778,
             "#fb9f3a"
            ],
            [
             0.8888888888888888,
             "#fdca26"
            ],
            [
             1,
             "#f0f921"
            ]
           ]
          },
          "colorway": [
           "#636efa",
           "#EF553B",
           "#00cc96",
           "#ab63fa",
           "#FFA15A",
           "#19d3f3",
           "#FF6692",
           "#B6E880",
           "#FF97FF",
           "#FECB52"
          ],
          "font": {
           "color": "#2a3f5f"
          },
          "geo": {
           "bgcolor": "white",
           "lakecolor": "white",
           "landcolor": "#E5ECF6",
           "showlakes": true,
           "showland": true,
           "subunitcolor": "white"
          },
          "hoverlabel": {
           "align": "left"
          },
          "hovermode": "closest",
          "mapbox": {
           "style": "light"
          },
          "paper_bgcolor": "white",
          "plot_bgcolor": "#E5ECF6",
          "polar": {
           "angularaxis": {
            "gridcolor": "white",
            "linecolor": "white",
            "ticks": ""
           },
           "bgcolor": "#E5ECF6",
           "radialaxis": {
            "gridcolor": "white",
            "linecolor": "white",
            "ticks": ""
           }
          },
          "scene": {
           "xaxis": {
            "backgroundcolor": "#E5ECF6",
            "gridcolor": "white",
            "gridwidth": 2,
            "linecolor": "white",
            "showbackground": true,
            "ticks": "",
            "zerolinecolor": "white"
           },
           "yaxis": {
            "backgroundcolor": "#E5ECF6",
            "gridcolor": "white",
            "gridwidth": 2,
            "linecolor": "white",
            "showbackground": true,
            "ticks": "",
            "zerolinecolor": "white"
           },
           "zaxis": {
            "backgroundcolor": "#E5ECF6",
            "gridcolor": "white",
            "gridwidth": 2,
            "linecolor": "white",
            "showbackground": true,
            "ticks": "",
            "zerolinecolor": "white"
           }
          },
          "shapedefaults": {
           "line": {
            "color": "#2a3f5f"
           }
          },
          "ternary": {
           "aaxis": {
            "gridcolor": "white",
            "linecolor": "white",
            "ticks": ""
           },
           "baxis": {
            "gridcolor": "white",
            "linecolor": "white",
            "ticks": ""
           },
           "bgcolor": "#E5ECF6",
           "caxis": {
            "gridcolor": "white",
            "linecolor": "white",
            "ticks": ""
           }
          },
          "title": {
           "x": 0.05
          },
          "xaxis": {
           "automargin": true,
           "gridcolor": "white",
           "linecolor": "white",
           "ticks": "",
           "title": {
            "standoff": 15
           },
           "zerolinecolor": "white",
           "zerolinewidth": 2
          },
          "yaxis": {
           "automargin": true,
           "gridcolor": "white",
           "linecolor": "white",
           "ticks": "",
           "title": {
            "standoff": 15
           },
           "zerolinecolor": "white",
           "zerolinewidth": 2
          }
         }
        },
        "title": {
         "text": "S..."
        },
        "xaxis": {
         "title": {
          "text": "City"
         }
        },
        "yaxis": {
         "title": {
          "text": "Score predict"
         }
        }
       }
      }
     },
     "metadata": {},
     "output_type": "display_data"
    }
   ],
   "source": [
    "import plotly.graph_objects as go\n",
    "\n",
    "# Calculate the average of the \"starbucks_percapita\" column\n",
    "average_starbucks_percapita = dff['starbucks_percapita'].mean()\n",
    "\n",
    "\n",
    "filtered_data = dff[(dff['starbucks_percapita'] >= average_starbucks_percapita)\n",
    "]\n",
    "\n",
    "# Sort the filtered data by the sum in descending order and select the top 30 groups\n",
    "sorted_data = filtered_data.sort_values('prediction_mean', ascending=False).head(10)\n",
    "\n",
    "City_State_x = sorted_data['City_State']\n",
    "total_sum = sorted_data['prediction_mean']\n",
    "\n",
    "# Create bar chart\n",
    "fig = go.Figure()\n",
    "fig.add_trace(go.Bar(x=City_State_x, y=prediction_mean, name=''))\n",
    "\n",
    "# Set chart title and axis labels\n",
    "fig.update_layout(\n",
    "    title='S...',\n",
    "    xaxis_title='City',\n",
    "    yaxis_title='Score predict'\n",
    ")\n",
    "\n",
    "# Display the chart\n",
    "fig.show()\n"
   ]
  },
  {
   "cell_type": "code",
   "execution_count": 340,
   "metadata": {},
   "outputs": [
    {
     "data": {
      "application/vnd.plotly.v1+json": {
       "config": {
        "plotlyServerURL": "https://plot.ly"
       },
       "data": [
        {
         "name": "Score predict",
         "type": "bar",
         "x": [
          "McAllen-Edinburg-Mission, TX",
          "Monroe, LA",
          "Hot Springs, AR",
          "Logan, UT-ID",
          "Kokomo, IN",
          "Dothan, AL",
          "Johnstown, PA",
          "Montgomery, AL",
          "Lancaster, PA",
          "New Orleans-Metairie, LA",
          "Springfield, MA",
          "Pittsfield, MA",
          "Vallejo, CA",
          "Tuscaloosa, AL",
          "Cleveland-Elyria, OH",
          "Fargo, ND-MN",
          "Midland, MI",
          "Hinesville, GA",
          "Poughkeepsie-Newburgh-Middletown, NY",
          "Allentown-Bethlehem-Easton, PANJ",
          "Albany-Schenectady-Troy, NY",
          "Minneapolis-St. Paul-Bloomington, MN-WI",
          "Flint, MI",
          "Jacksonville, NC",
          "Houma Thibodaux, LA",
          "Lima, OH",
          "Elizabethtown-Fort Knox, KY",
          "Racine, WI",
          "Buffalo-Cheektowaga, NY",
          "Oklahoma City, OK"
         ],
         "y": [
          0.96193145,
          0.931236735,
          0.931236735,
          0.931236735,
          0.931236735,
          0.93101855,
          0.93101855,
          0.93101855,
          0.92926585,
          0.92926585,
          0.92926585,
          0.92885287,
          0.92885287,
          0.92631785,
          0.91876563,
          0.91876563,
          0.91876563,
          0.918649715,
          0.91729908,
          0.91729908,
          0.914221425,
          0.9140797,
          0.91402675,
          0.91402675,
          0.91402675,
          0.91402675,
          0.91402675,
          0.910390175,
          0.910390175,
          0.910390175
         ]
        }
       ],
       "layout": {
        "template": {
         "data": {
          "bar": [
           {
            "error_x": {
             "color": "#2a3f5f"
            },
            "error_y": {
             "color": "#2a3f5f"
            },
            "marker": {
             "line": {
              "color": "#E5ECF6",
              "width": 0.5
             },
             "pattern": {
              "fillmode": "overlay",
              "size": 10,
              "solidity": 0.2
             }
            },
            "type": "bar"
           }
          ],
          "barpolar": [
           {
            "marker": {
             "line": {
              "color": "#E5ECF6",
              "width": 0.5
             },
             "pattern": {
              "fillmode": "overlay",
              "size": 10,
              "solidity": 0.2
             }
            },
            "type": "barpolar"
           }
          ],
          "carpet": [
           {
            "aaxis": {
             "endlinecolor": "#2a3f5f",
             "gridcolor": "white",
             "linecolor": "white",
             "minorgridcolor": "white",
             "startlinecolor": "#2a3f5f"
            },
            "baxis": {
             "endlinecolor": "#2a3f5f",
             "gridcolor": "white",
             "linecolor": "white",
             "minorgridcolor": "white",
             "startlinecolor": "#2a3f5f"
            },
            "type": "carpet"
           }
          ],
          "choropleth": [
           {
            "colorbar": {
             "outlinewidth": 0,
             "ticks": ""
            },
            "type": "choropleth"
           }
          ],
          "contour": [
           {
            "colorbar": {
             "outlinewidth": 0,
             "ticks": ""
            },
            "colorscale": [
             [
              0,
              "#0d0887"
             ],
             [
              0.1111111111111111,
              "#46039f"
             ],
             [
              0.2222222222222222,
              "#7201a8"
             ],
             [
              0.3333333333333333,
              "#9c179e"
             ],
             [
              0.4444444444444444,
              "#bd3786"
             ],
             [
              0.5555555555555556,
              "#d8576b"
             ],
             [
              0.6666666666666666,
              "#ed7953"
             ],
             [
              0.7777777777777778,
              "#fb9f3a"
             ],
             [
              0.8888888888888888,
              "#fdca26"
             ],
             [
              1,
              "#f0f921"
             ]
            ],
            "type": "contour"
           }
          ],
          "contourcarpet": [
           {
            "colorbar": {
             "outlinewidth": 0,
             "ticks": ""
            },
            "type": "contourcarpet"
           }
          ],
          "heatmap": [
           {
            "colorbar": {
             "outlinewidth": 0,
             "ticks": ""
            },
            "colorscale": [
             [
              0,
              "#0d0887"
             ],
             [
              0.1111111111111111,
              "#46039f"
             ],
             [
              0.2222222222222222,
              "#7201a8"
             ],
             [
              0.3333333333333333,
              "#9c179e"
             ],
             [
              0.4444444444444444,
              "#bd3786"
             ],
             [
              0.5555555555555556,
              "#d8576b"
             ],
             [
              0.6666666666666666,
              "#ed7953"
             ],
             [
              0.7777777777777778,
              "#fb9f3a"
             ],
             [
              0.8888888888888888,
              "#fdca26"
             ],
             [
              1,
              "#f0f921"
             ]
            ],
            "type": "heatmap"
           }
          ],
          "heatmapgl": [
           {
            "colorbar": {
             "outlinewidth": 0,
             "ticks": ""
            },
            "colorscale": [
             [
              0,
              "#0d0887"
             ],
             [
              0.1111111111111111,
              "#46039f"
             ],
             [
              0.2222222222222222,
              "#7201a8"
             ],
             [
              0.3333333333333333,
              "#9c179e"
             ],
             [
              0.4444444444444444,
              "#bd3786"
             ],
             [
              0.5555555555555556,
              "#d8576b"
             ],
             [
              0.6666666666666666,
              "#ed7953"
             ],
             [
              0.7777777777777778,
              "#fb9f3a"
             ],
             [
              0.8888888888888888,
              "#fdca26"
             ],
             [
              1,
              "#f0f921"
             ]
            ],
            "type": "heatmapgl"
           }
          ],
          "histogram": [
           {
            "marker": {
             "pattern": {
              "fillmode": "overlay",
              "size": 10,
              "solidity": 0.2
             }
            },
            "type": "histogram"
           }
          ],
          "histogram2d": [
           {
            "colorbar": {
             "outlinewidth": 0,
             "ticks": ""
            },
            "colorscale": [
             [
              0,
              "#0d0887"
             ],
             [
              0.1111111111111111,
              "#46039f"
             ],
             [
              0.2222222222222222,
              "#7201a8"
             ],
             [
              0.3333333333333333,
              "#9c179e"
             ],
             [
              0.4444444444444444,
              "#bd3786"
             ],
             [
              0.5555555555555556,
              "#d8576b"
             ],
             [
              0.6666666666666666,
              "#ed7953"
             ],
             [
              0.7777777777777778,
              "#fb9f3a"
             ],
             [
              0.8888888888888888,
              "#fdca26"
             ],
             [
              1,
              "#f0f921"
             ]
            ],
            "type": "histogram2d"
           }
          ],
          "histogram2dcontour": [
           {
            "colorbar": {
             "outlinewidth": 0,
             "ticks": ""
            },
            "colorscale": [
             [
              0,
              "#0d0887"
             ],
             [
              0.1111111111111111,
              "#46039f"
             ],
             [
              0.2222222222222222,
              "#7201a8"
             ],
             [
              0.3333333333333333,
              "#9c179e"
             ],
             [
              0.4444444444444444,
              "#bd3786"
             ],
             [
              0.5555555555555556,
              "#d8576b"
             ],
             [
              0.6666666666666666,
              "#ed7953"
             ],
             [
              0.7777777777777778,
              "#fb9f3a"
             ],
             [
              0.8888888888888888,
              "#fdca26"
             ],
             [
              1,
              "#f0f921"
             ]
            ],
            "type": "histogram2dcontour"
           }
          ],
          "mesh3d": [
           {
            "colorbar": {
             "outlinewidth": 0,
             "ticks": ""
            },
            "type": "mesh3d"
           }
          ],
          "parcoords": [
           {
            "line": {
             "colorbar": {
              "outlinewidth": 0,
              "ticks": ""
             }
            },
            "type": "parcoords"
           }
          ],
          "pie": [
           {
            "automargin": true,
            "type": "pie"
           }
          ],
          "scatter": [
           {
            "fillpattern": {
             "fillmode": "overlay",
             "size": 10,
             "solidity": 0.2
            },
            "type": "scatter"
           }
          ],
          "scatter3d": [
           {
            "line": {
             "colorbar": {
              "outlinewidth": 0,
              "ticks": ""
             }
            },
            "marker": {
             "colorbar": {
              "outlinewidth": 0,
              "ticks": ""
             }
            },
            "type": "scatter3d"
           }
          ],
          "scattercarpet": [
           {
            "marker": {
             "colorbar": {
              "outlinewidth": 0,
              "ticks": ""
             }
            },
            "type": "scattercarpet"
           }
          ],
          "scattergeo": [
           {
            "marker": {
             "colorbar": {
              "outlinewidth": 0,
              "ticks": ""
             }
            },
            "type": "scattergeo"
           }
          ],
          "scattergl": [
           {
            "marker": {
             "colorbar": {
              "outlinewidth": 0,
              "ticks": ""
             }
            },
            "type": "scattergl"
           }
          ],
          "scattermapbox": [
           {
            "marker": {
             "colorbar": {
              "outlinewidth": 0,
              "ticks": ""
             }
            },
            "type": "scattermapbox"
           }
          ],
          "scatterpolar": [
           {
            "marker": {
             "colorbar": {
              "outlinewidth": 0,
              "ticks": ""
             }
            },
            "type": "scatterpolar"
           }
          ],
          "scatterpolargl": [
           {
            "marker": {
             "colorbar": {
              "outlinewidth": 0,
              "ticks": ""
             }
            },
            "type": "scatterpolargl"
           }
          ],
          "scatterternary": [
           {
            "marker": {
             "colorbar": {
              "outlinewidth": 0,
              "ticks": ""
             }
            },
            "type": "scatterternary"
           }
          ],
          "surface": [
           {
            "colorbar": {
             "outlinewidth": 0,
             "ticks": ""
            },
            "colorscale": [
             [
              0,
              "#0d0887"
             ],
             [
              0.1111111111111111,
              "#46039f"
             ],
             [
              0.2222222222222222,
              "#7201a8"
             ],
             [
              0.3333333333333333,
              "#9c179e"
             ],
             [
              0.4444444444444444,
              "#bd3786"
             ],
             [
              0.5555555555555556,
              "#d8576b"
             ],
             [
              0.6666666666666666,
              "#ed7953"
             ],
             [
              0.7777777777777778,
              "#fb9f3a"
             ],
             [
              0.8888888888888888,
              "#fdca26"
             ],
             [
              1,
              "#f0f921"
             ]
            ],
            "type": "surface"
           }
          ],
          "table": [
           {
            "cells": {
             "fill": {
              "color": "#EBF0F8"
             },
             "line": {
              "color": "white"
             }
            },
            "header": {
             "fill": {
              "color": "#C8D4E3"
             },
             "line": {
              "color": "white"
             }
            },
            "type": "table"
           }
          ]
         },
         "layout": {
          "annotationdefaults": {
           "arrowcolor": "#2a3f5f",
           "arrowhead": 0,
           "arrowwidth": 1
          },
          "autotypenumbers": "strict",
          "coloraxis": {
           "colorbar": {
            "outlinewidth": 0,
            "ticks": ""
           }
          },
          "colorscale": {
           "diverging": [
            [
             0,
             "#8e0152"
            ],
            [
             0.1,
             "#c51b7d"
            ],
            [
             0.2,
             "#de77ae"
            ],
            [
             0.3,
             "#f1b6da"
            ],
            [
             0.4,
             "#fde0ef"
            ],
            [
             0.5,
             "#f7f7f7"
            ],
            [
             0.6,
             "#e6f5d0"
            ],
            [
             0.7,
             "#b8e186"
            ],
            [
             0.8,
             "#7fbc41"
            ],
            [
             0.9,
             "#4d9221"
            ],
            [
             1,
             "#276419"
            ]
           ],
           "sequential": [
            [
             0,
             "#0d0887"
            ],
            [
             0.1111111111111111,
             "#46039f"
            ],
            [
             0.2222222222222222,
             "#7201a8"
            ],
            [
             0.3333333333333333,
             "#9c179e"
            ],
            [
             0.4444444444444444,
             "#bd3786"
            ],
            [
             0.5555555555555556,
             "#d8576b"
            ],
            [
             0.6666666666666666,
             "#ed7953"
            ],
            [
             0.7777777777777778,
             "#fb9f3a"
            ],
            [
             0.8888888888888888,
             "#fdca26"
            ],
            [
             1,
             "#f0f921"
            ]
           ],
           "sequentialminus": [
            [
             0,
             "#0d0887"
            ],
            [
             0.1111111111111111,
             "#46039f"
            ],
            [
             0.2222222222222222,
             "#7201a8"
            ],
            [
             0.3333333333333333,
             "#9c179e"
            ],
            [
             0.4444444444444444,
             "#bd3786"
            ],
            [
             0.5555555555555556,
             "#d8576b"
            ],
            [
             0.6666666666666666,
             "#ed7953"
            ],
            [
             0.7777777777777778,
             "#fb9f3a"
            ],
            [
             0.8888888888888888,
             "#fdca26"
            ],
            [
             1,
             "#f0f921"
            ]
           ]
          },
          "colorway": [
           "#636efa",
           "#EF553B",
           "#00cc96",
           "#ab63fa",
           "#FFA15A",
           "#19d3f3",
           "#FF6692",
           "#B6E880",
           "#FF97FF",
           "#FECB52"
          ],
          "font": {
           "color": "#2a3f5f"
          },
          "geo": {
           "bgcolor": "white",
           "lakecolor": "white",
           "landcolor": "#E5ECF6",
           "showlakes": true,
           "showland": true,
           "subunitcolor": "white"
          },
          "hoverlabel": {
           "align": "left"
          },
          "hovermode": "closest",
          "mapbox": {
           "style": "light"
          },
          "paper_bgcolor": "white",
          "plot_bgcolor": "#E5ECF6",
          "polar": {
           "angularaxis": {
            "gridcolor": "white",
            "linecolor": "white",
            "ticks": ""
           },
           "bgcolor": "#E5ECF6",
           "radialaxis": {
            "gridcolor": "white",
            "linecolor": "white",
            "ticks": ""
           }
          },
          "scene": {
           "xaxis": {
            "backgroundcolor": "#E5ECF6",
            "gridcolor": "white",
            "gridwidth": 2,
            "linecolor": "white",
            "showbackground": true,
            "ticks": "",
            "zerolinecolor": "white"
           },
           "yaxis": {
            "backgroundcolor": "#E5ECF6",
            "gridcolor": "white",
            "gridwidth": 2,
            "linecolor": "white",
            "showbackground": true,
            "ticks": "",
            "zerolinecolor": "white"
           },
           "zaxis": {
            "backgroundcolor": "#E5ECF6",
            "gridcolor": "white",
            "gridwidth": 2,
            "linecolor": "white",
            "showbackground": true,
            "ticks": "",
            "zerolinecolor": "white"
           }
          },
          "shapedefaults": {
           "line": {
            "color": "#2a3f5f"
           }
          },
          "ternary": {
           "aaxis": {
            "gridcolor": "white",
            "linecolor": "white",
            "ticks": ""
           },
           "baxis": {
            "gridcolor": "white",
            "linecolor": "white",
            "ticks": ""
           },
           "bgcolor": "#E5ECF6",
           "caxis": {
            "gridcolor": "white",
            "linecolor": "white",
            "ticks": ""
           }
          },
          "title": {
           "x": 0.05
          },
          "xaxis": {
           "automargin": true,
           "gridcolor": "white",
           "linecolor": "white",
           "ticks": "",
           "title": {
            "standoff": 15
           },
           "zerolinecolor": "white",
           "zerolinewidth": 2
          },
          "yaxis": {
           "automargin": true,
           "gridcolor": "white",
           "linecolor": "white",
           "ticks": "",
           "title": {
            "standoff": 15
           },
           "zerolinecolor": "white",
           "zerolinewidth": 2
          }
         }
        },
        "title": {
         "text": "Top 30 des valeurs de Score predict"
        },
        "xaxis": {
         "title": {
          "text": "City_State"
         }
        },
        "yaxis": {
         "title": {
          "text": "Score predict"
         }
        }
       }
      }
     },
     "metadata": {},
     "output_type": "display_data"
    }
   ],
   "source": [
    "import plotly.graph_objects as go\n",
    "\n",
    "# Calculer la moyenne de la colonne \"starbucks_percapita\"\n",
    "average_starbucks_percapita = dff['starbucks_percapita'].mean()\n",
    "\n",
    "# Filtrer les données selon la condition de \"starbucks_percapita\" supérieur ou égal à la moyenne\n",
    "filtered_data = dff[dff['starbucks_percapita'] >= average_starbucks_percapita]\n",
    "\n",
    "# Trier les données filtrées par la colonne 'prediction_mean' en ordre décroissant et sélectionner les 30 premières lignes\n",
    "sorted_data = filtered_data.sort_values('prediction_mean', ascending=False).head(30)\n",
    "\n",
    "City_State_x = sorted_data['City_State']\n",
    "prediction_mean = sorted_data['prediction_mean']\n",
    "\n",
    "# Créer un graphique à barres\n",
    "fig = go.Figure()\n",
    "fig.add_trace(go.Bar(x=City_State_x, y=prediction_mean, name='Score predict'))\n",
    "\n",
    "# Définir le titre du graphique et les étiquettes des axes\n",
    "fig.update_layout(\n",
    "    title='Top 30 des valeurs de Score predict',\n",
    "    xaxis_title='City_State',\n",
    "    yaxis_title='Score predict'\n",
    ")\n",
    "\n",
    "# Afficher le graphique\n",
    "fig.show()"
   ]
  },
  {
   "cell_type": "code",
   "execution_count": 341,
   "metadata": {},
   "outputs": [
    {
     "ename": "SyntaxError",
     "evalue": "invalid syntax (4182802011.py, line 1)",
     "output_type": "error",
     "traceback": [
      "\u001b[1;36m  File \u001b[1;32m\"C:\\Users\\prige\\AppData\\Local\\Temp\\ipykernel_22128\\4182802011.py\"\u001b[1;36m, line \u001b[1;32m1\u001b[0m\n\u001b[1;33m    minneapolis allentown vallejo pittsfield(12)\u001b[0m\n\u001b[1;37m                ^\u001b[0m\n\u001b[1;31mSyntaxError\u001b[0m\u001b[1;31m:\u001b[0m invalid syntax\n"
     ]
    }
   ],
   "source": [
    "# Ville\n",
    "# minneapolis(22) allentown(20) vallejo(13) pittsfield(12)"
   ]
  },
  {
   "cell_type": "code",
   "execution_count": null,
   "metadata": {},
   "outputs": [],
   "source": [
    "import seaborn as sns"
   ]
  },
  {
   "cell_type": "code",
   "execution_count": null,
   "metadata": {},
   "outputs": [
    {
     "data": {
      "text/html": [
       "<div>\n",
       "<style scoped>\n",
       "    .dataframe tbody tr th:only-of-type {\n",
       "        vertical-align: middle;\n",
       "    }\n",
       "\n",
       "    .dataframe tbody tr th {\n",
       "        vertical-align: top;\n",
       "    }\n",
       "\n",
       "    .dataframe thead th {\n",
       "        text-align: right;\n",
       "    }\n",
       "</style>\n",
       "<table border=\"1\" class=\"dataframe\">\n",
       "  <thead>\n",
       "    <tr style=\"text-align: right;\">\n",
       "      <th></th>\n",
       "      <th>City_x_x</th>\n",
       "      <th>2019</th>\n",
       "      <th>2020</th>\n",
       "      <th>2021</th>\n",
       "      <th>State/Province_x</th>\n",
       "      <th>City_State_x</th>\n",
       "      <th>Matched_Index</th>\n",
       "      <th>Count</th>\n",
       "      <th>City_y</th>\n",
       "      <th>State/Province_y</th>\n",
       "      <th>...</th>\n",
       "      <th>AGE85PLUS_MALE</th>\n",
       "      <th>AGE85PLUS_FEMALE</th>\n",
       "      <th>MEDIAN_AGE_TOTAL</th>\n",
       "      <th>MEDIAN_AGE_MALE</th>\n",
       "      <th>MEDIAN_AGE_FEMALE</th>\n",
       "      <th>City_x_y</th>\n",
       "      <th>State_x</th>\n",
       "      <th>nb_personne_starbucks</th>\n",
       "      <th>smh</th>\n",
       "      <th>smf</th>\n",
       "    </tr>\n",
       "  </thead>\n",
       "  <tbody>\n",
       "    <tr>\n",
       "      <th>0</th>\n",
       "      <td>Akron</td>\n",
       "      <td>51827</td>\n",
       "      <td>55232.0</td>\n",
       "      <td>58735.0</td>\n",
       "      <td>OH</td>\n",
       "      <td>Akron, OH</td>\n",
       "      <td>22</td>\n",
       "      <td>10</td>\n",
       "      <td>Akron</td>\n",
       "      <td>OH</td>\n",
       "      <td>...</td>\n",
       "      <td>4963.0</td>\n",
       "      <td>8896.0</td>\n",
       "      <td>40.7</td>\n",
       "      <td>39.7</td>\n",
       "      <td>41.8</td>\n",
       "      <td>Akron</td>\n",
       "      <td>OH</td>\n",
       "      <td>70001.500000</td>\n",
       "      <td>64877.038008</td>\n",
       "      <td>52874.785977</td>\n",
       "    </tr>\n",
       "    <tr>\n",
       "      <th>1</th>\n",
       "      <td>Albany</td>\n",
       "      <td>38118</td>\n",
       "      <td>42006.0</td>\n",
       "      <td>45619.0</td>\n",
       "      <td>GA</td>\n",
       "      <td>Albany, GA</td>\n",
       "      <td>29</td>\n",
       "      <td>3</td>\n",
       "      <td>Albany</td>\n",
       "      <td>GA</td>\n",
       "      <td>...</td>\n",
       "      <td>738.0</td>\n",
       "      <td>1645.0</td>\n",
       "      <td>37.6</td>\n",
       "      <td>35.9</td>\n",
       "      <td>39.0</td>\n",
       "      <td>Albany</td>\n",
       "      <td>GA</td>\n",
       "      <td>49257.666667</td>\n",
       "      <td>50530.099772</td>\n",
       "      <td>41182.031314</td>\n",
       "    </tr>\n",
       "    <tr>\n",
       "      <th>2</th>\n",
       "      <td>Lebanon</td>\n",
       "      <td>44501</td>\n",
       "      <td>48357.0</td>\n",
       "      <td>52695.0</td>\n",
       "      <td>OR</td>\n",
       "      <td>Lebanon, OR</td>\n",
       "      <td>1755</td>\n",
       "      <td>1</td>\n",
       "      <td>Lebanon</td>\n",
       "      <td>OR</td>\n",
       "      <td>...</td>\n",
       "      <td>832.0</td>\n",
       "      <td>1344.0</td>\n",
       "      <td>39.8</td>\n",
       "      <td>39.0</td>\n",
       "      <td>40.6</td>\n",
       "      <td>Lebanon</td>\n",
       "      <td>OR</td>\n",
       "      <td>129839.000000</td>\n",
       "      <td>58102.195074</td>\n",
       "      <td>47353.288985</td>\n",
       "    </tr>\n",
       "    <tr>\n",
       "      <th>3</th>\n",
       "      <td>Troy</td>\n",
       "      <td>59477</td>\n",
       "      <td>63951.0</td>\n",
       "      <td>67788.0</td>\n",
       "      <td>NY</td>\n",
       "      <td>Troy, NY</td>\n",
       "      <td>3228</td>\n",
       "      <td>1</td>\n",
       "      <td>Troy</td>\n",
       "      <td>NY</td>\n",
       "      <td>...</td>\n",
       "      <td>6456.0</td>\n",
       "      <td>12523.0</td>\n",
       "      <td>40.6</td>\n",
       "      <td>39.4</td>\n",
       "      <td>41.7</td>\n",
       "      <td>Troy</td>\n",
       "      <td>NY</td>\n",
       "      <td>899286.000000</td>\n",
       "      <td>74821.998906</td>\n",
       "      <td>60979.929108</td>\n",
       "    </tr>\n",
       "    <tr>\n",
       "      <th>4</th>\n",
       "      <td>Albuquerque</td>\n",
       "      <td>44884</td>\n",
       "      <td>48514.0</td>\n",
       "      <td>52263.0</td>\n",
       "      <td>NM</td>\n",
       "      <td>Albuquerque, NM</td>\n",
       "      <td>32</td>\n",
       "      <td>37</td>\n",
       "      <td>Albuquerque</td>\n",
       "      <td>NM</td>\n",
       "      <td>...</td>\n",
       "      <td>5999.0</td>\n",
       "      <td>9533.0</td>\n",
       "      <td>39.2</td>\n",
       "      <td>38.2</td>\n",
       "      <td>40.4</td>\n",
       "      <td>Albuquerque</td>\n",
       "      <td>NM</td>\n",
       "      <td>24817.810811</td>\n",
       "      <td>57656.738645</td>\n",
       "      <td>46990.241996</td>\n",
       "    </tr>\n",
       "    <tr>\n",
       "      <th>...</th>\n",
       "      <td>...</td>\n",
       "      <td>...</td>\n",
       "      <td>...</td>\n",
       "      <td>...</td>\n",
       "      <td>...</td>\n",
       "      <td>...</td>\n",
       "      <td>...</td>\n",
       "      <td>...</td>\n",
       "      <td>...</td>\n",
       "      <td>...</td>\n",
       "      <td>...</td>\n",
       "      <td>...</td>\n",
       "      <td>...</td>\n",
       "      <td>...</td>\n",
       "      <td>...</td>\n",
       "      <td>...</td>\n",
       "      <td>...</td>\n",
       "      <td>...</td>\n",
       "      <td>...</td>\n",
       "      <td>...</td>\n",
       "      <td>...</td>\n",
       "    </tr>\n",
       "    <tr>\n",
       "      <th>291</th>\n",
       "      <td>Worcester</td>\n",
       "      <td>55671</td>\n",
       "      <td>60364.0</td>\n",
       "      <td>64540.0</td>\n",
       "      <td>MACT</td>\n",
       "      <td>Worcester, MACT</td>\n",
       "      <td>3576</td>\n",
       "      <td>3</td>\n",
       "      <td>Worcester</td>\n",
       "      <td>MA</td>\n",
       "      <td>...</td>\n",
       "      <td>6041.0</td>\n",
       "      <td>12138.0</td>\n",
       "      <td>40.4</td>\n",
       "      <td>39.4</td>\n",
       "      <td>41.4</td>\n",
       "      <td>Worcester</td>\n",
       "      <td>MA</td>\n",
       "      <td>326149.000000</td>\n",
       "      <td>71167.247192</td>\n",
       "      <td>58001.306461</td>\n",
       "    </tr>\n",
       "    <tr>\n",
       "      <th>292</th>\n",
       "      <td>Yakima</td>\n",
       "      <td>43208</td>\n",
       "      <td>47315.0</td>\n",
       "      <td>50872.0</td>\n",
       "      <td>WA</td>\n",
       "      <td>Yakima, WA</td>\n",
       "      <td>3585</td>\n",
       "      <td>11</td>\n",
       "      <td>Yakima</td>\n",
       "      <td>WA</td>\n",
       "      <td>...</td>\n",
       "      <td>1444.0</td>\n",
       "      <td>2364.0</td>\n",
       "      <td>33.1</td>\n",
       "      <td>32.4</td>\n",
       "      <td>33.7</td>\n",
       "      <td>Yakima</td>\n",
       "      <td>WA</td>\n",
       "      <td>23275.909091</td>\n",
       "      <td>56040.277884</td>\n",
       "      <td>45672.826475</td>\n",
       "    </tr>\n",
       "    <tr>\n",
       "      <th>293</th>\n",
       "      <td>Hanover</td>\n",
       "      <td>51295</td>\n",
       "      <td>54808.0</td>\n",
       "      <td>57870.0</td>\n",
       "      <td>PA</td>\n",
       "      <td>Hanover, PA</td>\n",
       "      <td>1347</td>\n",
       "      <td>2</td>\n",
       "      <td>Hanover</td>\n",
       "      <td>PA</td>\n",
       "      <td>...</td>\n",
       "      <td>3198.0</td>\n",
       "      <td>5863.0</td>\n",
       "      <td>41.0</td>\n",
       "      <td>40.0</td>\n",
       "      <td>42.1</td>\n",
       "      <td>Hanover</td>\n",
       "      <td>PA</td>\n",
       "      <td>229348.000000</td>\n",
       "      <td>63796.437530</td>\n",
       "      <td>51994.096587</td>\n",
       "    </tr>\n",
       "    <tr>\n",
       "      <th>294</th>\n",
       "      <td>Boardman</td>\n",
       "      <td>42450</td>\n",
       "      <td>46009.0</td>\n",
       "      <td>48904.0</td>\n",
       "      <td>OHPA</td>\n",
       "      <td>Boardman, OHPA</td>\n",
       "      <td>298</td>\n",
       "      <td>1</td>\n",
       "      <td>Boardman</td>\n",
       "      <td>OH</td>\n",
       "      <td>...</td>\n",
       "      <td>4840.0</td>\n",
       "      <td>9451.0</td>\n",
       "      <td>43.8</td>\n",
       "      <td>42.0</td>\n",
       "      <td>45.8</td>\n",
       "      <td>Boardman</td>\n",
       "      <td>OH</td>\n",
       "      <td>538069.000000</td>\n",
       "      <td>53953.166213</td>\n",
       "      <td>43971.830463</td>\n",
       "    </tr>\n",
       "    <tr>\n",
       "      <th>295</th>\n",
       "      <td>Yuma</td>\n",
       "      <td>37624</td>\n",
       "      <td>42732.0</td>\n",
       "      <td>44299.0</td>\n",
       "      <td>AZ</td>\n",
       "      <td>Yuma, AZ</td>\n",
       "      <td>3605</td>\n",
       "      <td>8</td>\n",
       "      <td>Yuma</td>\n",
       "      <td>AZ</td>\n",
       "      <td>...</td>\n",
       "      <td>2575.0</td>\n",
       "      <td>2584.0</td>\n",
       "      <td>35.2</td>\n",
       "      <td>33.9</td>\n",
       "      <td>36.9</td>\n",
       "      <td>Yuma</td>\n",
       "      <td>AZ</td>\n",
       "      <td>25873.750000</td>\n",
       "      <td>48631.651616</td>\n",
       "      <td>39634.796067</td>\n",
       "    </tr>\n",
       "  </tbody>\n",
       "</table>\n",
       "<p>296 rows × 116 columns</p>\n",
       "</div>"
      ],
      "text/plain": [
       "        City_x_x   2019     2020     2021 State/Province_x     City_State_x  \\\n",
       "0          Akron  51827  55232.0  58735.0               OH        Akron, OH   \n",
       "1         Albany  38118  42006.0  45619.0               GA       Albany, GA   \n",
       "2        Lebanon  44501  48357.0  52695.0               OR      Lebanon, OR   \n",
       "3           Troy  59477  63951.0  67788.0               NY         Troy, NY   \n",
       "4    Albuquerque  44884  48514.0  52263.0               NM  Albuquerque, NM   \n",
       "..           ...    ...      ...      ...              ...              ...   \n",
       "291    Worcester  55671  60364.0  64540.0             MACT  Worcester, MACT   \n",
       "292       Yakima  43208  47315.0  50872.0               WA       Yakima, WA   \n",
       "293      Hanover  51295  54808.0  57870.0               PA      Hanover, PA   \n",
       "294     Boardman  42450  46009.0  48904.0             OHPA   Boardman, OHPA   \n",
       "295         Yuma  37624  42732.0  44299.0               AZ         Yuma, AZ   \n",
       "\n",
       "     Matched_Index  Count       City_y State/Province_y  ...  AGE85PLUS_MALE  \\\n",
       "0               22     10        Akron               OH  ...          4963.0   \n",
       "1               29      3       Albany               GA  ...           738.0   \n",
       "2             1755      1      Lebanon               OR  ...           832.0   \n",
       "3             3228      1         Troy               NY  ...          6456.0   \n",
       "4               32     37  Albuquerque               NM  ...          5999.0   \n",
       "..             ...    ...          ...              ...  ...             ...   \n",
       "291           3576      3    Worcester               MA  ...          6041.0   \n",
       "292           3585     11       Yakima               WA  ...          1444.0   \n",
       "293           1347      2      Hanover               PA  ...          3198.0   \n",
       "294            298      1     Boardman               OH  ...          4840.0   \n",
       "295           3605      8         Yuma               AZ  ...          2575.0   \n",
       "\n",
       "     AGE85PLUS_FEMALE MEDIAN_AGE_TOTAL MEDIAN_AGE_MALE MEDIAN_AGE_FEMALE  \\\n",
       "0              8896.0             40.7            39.7              41.8   \n",
       "1              1645.0             37.6            35.9              39.0   \n",
       "2              1344.0             39.8            39.0              40.6   \n",
       "3             12523.0             40.6            39.4              41.7   \n",
       "4              9533.0             39.2            38.2              40.4   \n",
       "..                ...              ...             ...               ...   \n",
       "291           12138.0             40.4            39.4              41.4   \n",
       "292            2364.0             33.1            32.4              33.7   \n",
       "293            5863.0             41.0            40.0              42.1   \n",
       "294            9451.0             43.8            42.0              45.8   \n",
       "295            2584.0             35.2            33.9              36.9   \n",
       "\n",
       "        City_x_y  State_x nb_personne_starbucks           smh           smf  \n",
       "0          Akron       OH          70001.500000  64877.038008  52874.785977  \n",
       "1         Albany       GA          49257.666667  50530.099772  41182.031314  \n",
       "2        Lebanon       OR         129839.000000  58102.195074  47353.288985  \n",
       "3           Troy       NY         899286.000000  74821.998906  60979.929108  \n",
       "4    Albuquerque       NM          24817.810811  57656.738645  46990.241996  \n",
       "..           ...      ...                   ...           ...           ...  \n",
       "291    Worcester       MA         326149.000000  71167.247192  58001.306461  \n",
       "292       Yakima       WA          23275.909091  56040.277884  45672.826475  \n",
       "293      Hanover       PA         229348.000000  63796.437530  51994.096587  \n",
       "294     Boardman       OH         538069.000000  53953.166213  43971.830463  \n",
       "295         Yuma       AZ          25873.750000  48631.651616  39634.796067  \n",
       "\n",
       "[296 rows x 116 columns]"
      ]
     },
     "execution_count": 187,
     "metadata": {},
     "output_type": "execute_result"
    }
   ],
   "source": [
    "df"
   ]
  },
  {
   "cell_type": "code",
   "execution_count": null,
   "metadata": {},
   "outputs": [],
   "source": [
    "df['age_homme'] = df_age_mode_homme['Moyenne_homme']"
   ]
  },
  {
   "cell_type": "code",
   "execution_count": null,
   "metadata": {},
   "outputs": [],
   "source": [
    "df['age_femme'] = df_age_mode_femme['Moyenne_femme']"
   ]
  },
  {
   "cell_type": "code",
   "execution_count": null,
   "metadata": {},
   "outputs": [
    {
     "data": {
      "text/html": [
       "<div>\n",
       "<style scoped>\n",
       "    .dataframe tbody tr th:only-of-type {\n",
       "        vertical-align: middle;\n",
       "    }\n",
       "\n",
       "    .dataframe tbody tr th {\n",
       "        vertical-align: top;\n",
       "    }\n",
       "\n",
       "    .dataframe thead th {\n",
       "        text-align: right;\n",
       "    }\n",
       "</style>\n",
       "<table border=\"1\" class=\"dataframe\">\n",
       "  <thead>\n",
       "    <tr style=\"text-align: right;\">\n",
       "      <th></th>\n",
       "      <th>City_x_x</th>\n",
       "      <th>2019</th>\n",
       "      <th>2020</th>\n",
       "      <th>2021</th>\n",
       "      <th>State/Province_x</th>\n",
       "      <th>City_State_x</th>\n",
       "      <th>Matched_Index</th>\n",
       "      <th>Count</th>\n",
       "      <th>City_y</th>\n",
       "      <th>State/Province_y</th>\n",
       "      <th>...</th>\n",
       "      <th>MEDIAN_AGE_TOTAL</th>\n",
       "      <th>MEDIAN_AGE_MALE</th>\n",
       "      <th>MEDIAN_AGE_FEMALE</th>\n",
       "      <th>City_x_y</th>\n",
       "      <th>State_x</th>\n",
       "      <th>nb_personne_starbucks</th>\n",
       "      <th>smh</th>\n",
       "      <th>smf</th>\n",
       "      <th>age_homme</th>\n",
       "      <th>age_femme</th>\n",
       "    </tr>\n",
       "  </thead>\n",
       "  <tbody>\n",
       "    <tr>\n",
       "      <th>0</th>\n",
       "      <td>Akron</td>\n",
       "      <td>51827</td>\n",
       "      <td>55232.0</td>\n",
       "      <td>58735.0</td>\n",
       "      <td>OH</td>\n",
       "      <td>Akron, OH</td>\n",
       "      <td>22</td>\n",
       "      <td>10</td>\n",
       "      <td>Akron</td>\n",
       "      <td>OH</td>\n",
       "      <td>...</td>\n",
       "      <td>40.7</td>\n",
       "      <td>39.7</td>\n",
       "      <td>41.8</td>\n",
       "      <td>Akron</td>\n",
       "      <td>OH</td>\n",
       "      <td>70001.500000</td>\n",
       "      <td>64877.038008</td>\n",
       "      <td>52874.785977</td>\n",
       "      <td>37.900398</td>\n",
       "      <td>39.816189</td>\n",
       "    </tr>\n",
       "    <tr>\n",
       "      <th>1</th>\n",
       "      <td>Albany</td>\n",
       "      <td>38118</td>\n",
       "      <td>42006.0</td>\n",
       "      <td>45619.0</td>\n",
       "      <td>GA</td>\n",
       "      <td>Albany, GA</td>\n",
       "      <td>29</td>\n",
       "      <td>3</td>\n",
       "      <td>Albany</td>\n",
       "      <td>GA</td>\n",
       "      <td>...</td>\n",
       "      <td>37.6</td>\n",
       "      <td>35.9</td>\n",
       "      <td>39.0</td>\n",
       "      <td>Albany</td>\n",
       "      <td>GA</td>\n",
       "      <td>49257.666667</td>\n",
       "      <td>50530.099772</td>\n",
       "      <td>41182.031314</td>\n",
       "      <td>34.888650</td>\n",
       "      <td>37.639526</td>\n",
       "    </tr>\n",
       "    <tr>\n",
       "      <th>2</th>\n",
       "      <td>Lebanon</td>\n",
       "      <td>44501</td>\n",
       "      <td>48357.0</td>\n",
       "      <td>52695.0</td>\n",
       "      <td>OR</td>\n",
       "      <td>Lebanon, OR</td>\n",
       "      <td>1755</td>\n",
       "      <td>1</td>\n",
       "      <td>Lebanon</td>\n",
       "      <td>OR</td>\n",
       "      <td>...</td>\n",
       "      <td>39.8</td>\n",
       "      <td>39.0</td>\n",
       "      <td>40.6</td>\n",
       "      <td>Lebanon</td>\n",
       "      <td>OR</td>\n",
       "      <td>129839.000000</td>\n",
       "      <td>58102.195074</td>\n",
       "      <td>47353.288985</td>\n",
       "      <td>37.491104</td>\n",
       "      <td>38.987384</td>\n",
       "    </tr>\n",
       "    <tr>\n",
       "      <th>3</th>\n",
       "      <td>Troy</td>\n",
       "      <td>59477</td>\n",
       "      <td>63951.0</td>\n",
       "      <td>67788.0</td>\n",
       "      <td>NY</td>\n",
       "      <td>Troy, NY</td>\n",
       "      <td>3228</td>\n",
       "      <td>1</td>\n",
       "      <td>Troy</td>\n",
       "      <td>NY</td>\n",
       "      <td>...</td>\n",
       "      <td>40.6</td>\n",
       "      <td>39.4</td>\n",
       "      <td>41.7</td>\n",
       "      <td>Troy</td>\n",
       "      <td>NY</td>\n",
       "      <td>899286.000000</td>\n",
       "      <td>74821.998906</td>\n",
       "      <td>60979.929108</td>\n",
       "      <td>38.025946</td>\n",
       "      <td>40.085566</td>\n",
       "    </tr>\n",
       "    <tr>\n",
       "      <th>4</th>\n",
       "      <td>Albuquerque</td>\n",
       "      <td>44884</td>\n",
       "      <td>48514.0</td>\n",
       "      <td>52263.0</td>\n",
       "      <td>NM</td>\n",
       "      <td>Albuquerque, NM</td>\n",
       "      <td>32</td>\n",
       "      <td>37</td>\n",
       "      <td>Albuquerque</td>\n",
       "      <td>NM</td>\n",
       "      <td>...</td>\n",
       "      <td>39.2</td>\n",
       "      <td>38.2</td>\n",
       "      <td>40.4</td>\n",
       "      <td>Albuquerque</td>\n",
       "      <td>NM</td>\n",
       "      <td>24817.810811</td>\n",
       "      <td>57656.738645</td>\n",
       "      <td>46990.241996</td>\n",
       "      <td>36.934456</td>\n",
       "      <td>38.923786</td>\n",
       "    </tr>\n",
       "    <tr>\n",
       "      <th>...</th>\n",
       "      <td>...</td>\n",
       "      <td>...</td>\n",
       "      <td>...</td>\n",
       "      <td>...</td>\n",
       "      <td>...</td>\n",
       "      <td>...</td>\n",
       "      <td>...</td>\n",
       "      <td>...</td>\n",
       "      <td>...</td>\n",
       "      <td>...</td>\n",
       "      <td>...</td>\n",
       "      <td>...</td>\n",
       "      <td>...</td>\n",
       "      <td>...</td>\n",
       "      <td>...</td>\n",
       "      <td>...</td>\n",
       "      <td>...</td>\n",
       "      <td>...</td>\n",
       "      <td>...</td>\n",
       "      <td>...</td>\n",
       "      <td>...</td>\n",
       "    </tr>\n",
       "    <tr>\n",
       "      <th>291</th>\n",
       "      <td>Worcester</td>\n",
       "      <td>55671</td>\n",
       "      <td>60364.0</td>\n",
       "      <td>64540.0</td>\n",
       "      <td>MACT</td>\n",
       "      <td>Worcester, MACT</td>\n",
       "      <td>3576</td>\n",
       "      <td>3</td>\n",
       "      <td>Worcester</td>\n",
       "      <td>MA</td>\n",
       "      <td>...</td>\n",
       "      <td>40.4</td>\n",
       "      <td>39.4</td>\n",
       "      <td>41.4</td>\n",
       "      <td>Worcester</td>\n",
       "      <td>MA</td>\n",
       "      <td>326149.000000</td>\n",
       "      <td>71167.247192</td>\n",
       "      <td>58001.306461</td>\n",
       "      <td>37.423970</td>\n",
       "      <td>39.264453</td>\n",
       "    </tr>\n",
       "    <tr>\n",
       "      <th>292</th>\n",
       "      <td>Yakima</td>\n",
       "      <td>43208</td>\n",
       "      <td>47315.0</td>\n",
       "      <td>50872.0</td>\n",
       "      <td>WA</td>\n",
       "      <td>Yakima, WA</td>\n",
       "      <td>3585</td>\n",
       "      <td>11</td>\n",
       "      <td>Yakima</td>\n",
       "      <td>WA</td>\n",
       "      <td>...</td>\n",
       "      <td>33.1</td>\n",
       "      <td>32.4</td>\n",
       "      <td>33.7</td>\n",
       "      <td>Yakima</td>\n",
       "      <td>WA</td>\n",
       "      <td>23275.909091</td>\n",
       "      <td>56040.277884</td>\n",
       "      <td>45672.826475</td>\n",
       "      <td>32.195297</td>\n",
       "      <td>33.499138</td>\n",
       "    </tr>\n",
       "    <tr>\n",
       "      <th>293</th>\n",
       "      <td>Hanover</td>\n",
       "      <td>51295</td>\n",
       "      <td>54808.0</td>\n",
       "      <td>57870.0</td>\n",
       "      <td>PA</td>\n",
       "      <td>Hanover, PA</td>\n",
       "      <td>1347</td>\n",
       "      <td>2</td>\n",
       "      <td>Hanover</td>\n",
       "      <td>PA</td>\n",
       "      <td>...</td>\n",
       "      <td>41.0</td>\n",
       "      <td>40.0</td>\n",
       "      <td>42.1</td>\n",
       "      <td>Hanover</td>\n",
       "      <td>PA</td>\n",
       "      <td>229348.000000</td>\n",
       "      <td>63796.437530</td>\n",
       "      <td>51994.096587</td>\n",
       "      <td>37.600707</td>\n",
       "      <td>39.518955</td>\n",
       "    </tr>\n",
       "    <tr>\n",
       "      <th>294</th>\n",
       "      <td>Boardman</td>\n",
       "      <td>42450</td>\n",
       "      <td>46009.0</td>\n",
       "      <td>48904.0</td>\n",
       "      <td>OHPA</td>\n",
       "      <td>Boardman, OHPA</td>\n",
       "      <td>298</td>\n",
       "      <td>1</td>\n",
       "      <td>Boardman</td>\n",
       "      <td>OH</td>\n",
       "      <td>...</td>\n",
       "      <td>43.8</td>\n",
       "      <td>42.0</td>\n",
       "      <td>45.8</td>\n",
       "      <td>Boardman</td>\n",
       "      <td>OH</td>\n",
       "      <td>538069.000000</td>\n",
       "      <td>53953.166213</td>\n",
       "      <td>43971.830463</td>\n",
       "      <td>39.302733</td>\n",
       "      <td>42.066403</td>\n",
       "    </tr>\n",
       "    <tr>\n",
       "      <th>295</th>\n",
       "      <td>Yuma</td>\n",
       "      <td>37624</td>\n",
       "      <td>42732.0</td>\n",
       "      <td>44299.0</td>\n",
       "      <td>AZ</td>\n",
       "      <td>Yuma, AZ</td>\n",
       "      <td>3605</td>\n",
       "      <td>8</td>\n",
       "      <td>Yuma</td>\n",
       "      <td>AZ</td>\n",
       "      <td>...</td>\n",
       "      <td>35.2</td>\n",
       "      <td>33.9</td>\n",
       "      <td>36.9</td>\n",
       "      <td>Yuma</td>\n",
       "      <td>AZ</td>\n",
       "      <td>25873.750000</td>\n",
       "      <td>48631.651616</td>\n",
       "      <td>39634.796067</td>\n",
       "      <td>35.337921</td>\n",
       "      <td>37.005538</td>\n",
       "    </tr>\n",
       "  </tbody>\n",
       "</table>\n",
       "<p>296 rows × 118 columns</p>\n",
       "</div>"
      ],
      "text/plain": [
       "        City_x_x   2019     2020     2021 State/Province_x     City_State_x  \\\n",
       "0          Akron  51827  55232.0  58735.0               OH        Akron, OH   \n",
       "1         Albany  38118  42006.0  45619.0               GA       Albany, GA   \n",
       "2        Lebanon  44501  48357.0  52695.0               OR      Lebanon, OR   \n",
       "3           Troy  59477  63951.0  67788.0               NY         Troy, NY   \n",
       "4    Albuquerque  44884  48514.0  52263.0               NM  Albuquerque, NM   \n",
       "..           ...    ...      ...      ...              ...              ...   \n",
       "291    Worcester  55671  60364.0  64540.0             MACT  Worcester, MACT   \n",
       "292       Yakima  43208  47315.0  50872.0               WA       Yakima, WA   \n",
       "293      Hanover  51295  54808.0  57870.0               PA      Hanover, PA   \n",
       "294     Boardman  42450  46009.0  48904.0             OHPA   Boardman, OHPA   \n",
       "295         Yuma  37624  42732.0  44299.0               AZ         Yuma, AZ   \n",
       "\n",
       "     Matched_Index  Count       City_y State/Province_y  ...  \\\n",
       "0               22     10        Akron               OH  ...   \n",
       "1               29      3       Albany               GA  ...   \n",
       "2             1755      1      Lebanon               OR  ...   \n",
       "3             3228      1         Troy               NY  ...   \n",
       "4               32     37  Albuquerque               NM  ...   \n",
       "..             ...    ...          ...              ...  ...   \n",
       "291           3576      3    Worcester               MA  ...   \n",
       "292           3585     11       Yakima               WA  ...   \n",
       "293           1347      2      Hanover               PA  ...   \n",
       "294            298      1     Boardman               OH  ...   \n",
       "295           3605      8         Yuma               AZ  ...   \n",
       "\n",
       "     MEDIAN_AGE_TOTAL  MEDIAN_AGE_MALE MEDIAN_AGE_FEMALE     City_x_y State_x  \\\n",
       "0                40.7             39.7              41.8        Akron      OH   \n",
       "1                37.6             35.9              39.0       Albany      GA   \n",
       "2                39.8             39.0              40.6      Lebanon      OR   \n",
       "3                40.6             39.4              41.7         Troy      NY   \n",
       "4                39.2             38.2              40.4  Albuquerque      NM   \n",
       "..                ...              ...               ...          ...     ...   \n",
       "291              40.4             39.4              41.4    Worcester      MA   \n",
       "292              33.1             32.4              33.7       Yakima      WA   \n",
       "293              41.0             40.0              42.1      Hanover      PA   \n",
       "294              43.8             42.0              45.8     Boardman      OH   \n",
       "295              35.2             33.9              36.9         Yuma      AZ   \n",
       "\n",
       "     nb_personne_starbucks           smh           smf  age_homme  age_femme  \n",
       "0             70001.500000  64877.038008  52874.785977  37.900398  39.816189  \n",
       "1             49257.666667  50530.099772  41182.031314  34.888650  37.639526  \n",
       "2            129839.000000  58102.195074  47353.288985  37.491104  38.987384  \n",
       "3            899286.000000  74821.998906  60979.929108  38.025946  40.085566  \n",
       "4             24817.810811  57656.738645  46990.241996  36.934456  38.923786  \n",
       "..                     ...           ...           ...        ...        ...  \n",
       "291          326149.000000  71167.247192  58001.306461  37.423970  39.264453  \n",
       "292           23275.909091  56040.277884  45672.826475  32.195297  33.499138  \n",
       "293          229348.000000  63796.437530  51994.096587  37.600707  39.518955  \n",
       "294          538069.000000  53953.166213  43971.830463  39.302733  42.066403  \n",
       "295           25873.750000  48631.651616  39634.796067  35.337921  37.005538  \n",
       "\n",
       "[296 rows x 118 columns]"
      ]
     },
     "execution_count": 190,
     "metadata": {},
     "output_type": "execute_result"
    }
   ],
   "source": [
    "df"
   ]
  },
  {
   "cell_type": "code",
   "execution_count": null,
   "metadata": {},
   "outputs": [],
   "source": [
    "df.to_csv(\"dftest.csv\")"
   ]
  }
 ],
 "metadata": {
  "kernelspec": {
   "display_name": "base",
   "language": "python",
   "name": "python3"
  },
  "language_info": {
   "codemirror_mode": {
    "name": "ipython",
    "version": 3
   },
   "file_extension": ".py",
   "mimetype": "text/x-python",
   "name": "python",
   "nbconvert_exporter": "python",
   "pygments_lexer": "ipython3",
   "version": "3.9.13"
  },
  "orig_nbformat": 4
 },
 "nbformat": 4,
 "nbformat_minor": 2
}
