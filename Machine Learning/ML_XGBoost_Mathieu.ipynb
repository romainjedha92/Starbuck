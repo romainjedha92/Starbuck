{
 "cells": [
  {
   "cell_type": "code",
   "execution_count": 23,
   "metadata": {},
   "outputs": [],
   "source": [
    "import pandas as pd\n",
    "import numpy as np\n",
    "from sklearn.model_selection import train_test_split\n",
    "from sklearn.preprocessing import StandardScaler, OneHotEncoder\n",
    "from sklearn.compose import ColumnTransformer\n",
    "from xgboost import XGBClassifier\n",
    "from sklearn.metrics import accuracy_score\n",
    "from sklearn.pipeline import Pipeline"
   ]
  },
  {
   "cell_type": "code",
   "execution_count": 24,
   "metadata": {},
   "outputs": [
    {
     "name": "stdout",
     "output_type": "stream",
     "text": [
      "      gender  age  income  member\n",
      "36528      M   37  100976       0\n",
      "36529      F   77  106577       0\n",
      "36530      F   63   81221       0\n",
      "36531      M   86   78556       0\n",
      "36532      F   68  113737       0\n",
      "[1 0]\n"
     ]
    },
    {
     "name": "stderr",
     "output_type": "stream",
     "text": [
      "c:\\Users\\Jimmy\\anaconda3\\lib\\site-packages\\xgboost\\sklearn.py:1395: UserWarning: `use_label_encoder` is deprecated in 1.7.0.\n",
      "  warnings.warn(\"`use_label_encoder` is deprecated in 1.7.0.\")\n"
     ]
    },
    {
     "name": "stdout",
     "output_type": "stream",
     "text": [
      "Accuracy: 99.38415218283836%\n"
     ]
    }
   ],
   "source": [
    "\n",
    "df = pd.read_csv('profile_member_vs_non_member.csv')\n",
    "df[\"age\"]=df[\"age\"].apply(lambda x: int(x))\n",
    "df[\"income\"]= df[\"income\"].apply(lambda x: int(x))\n",
    "df['member'] = df['member'].fillna(0)\n",
    "df['age'] = df['age'].astype(int)\n",
    "df['income'] = df['income'].astype(int)\n",
    "df['member'] = df['member'].astype(int)\n",
    "print(df.tail())\n",
    "print(df[\"member\"].unique())\n",
    "\n",
    "# Define preprocessor\n",
    "preprocessor = ColumnTransformer(\n",
    "        transformers=[\n",
    "            ('num', StandardScaler(), ['age', 'income']),\n",
    "            ('cat', OneHotEncoder(), ['gender'])\n",
    "        ])\n",
    "\n",
    "# Define your model\n",
    "model = XGBClassifier(use_label_encoder=False, eval_metric='logloss')\n",
    "\n",
    "# Create a pipeline that preprocesses the data and then trains the model\n",
    "pipeline = Pipeline(steps=[('preprocessor', preprocessor),\n",
    "                            ('model', model)])\n",
    "\n",
    "# Define your X and y\n",
    "X = df[['gender', 'age', 'income']]\n",
    "y = df['member']\n",
    "\n",
    "# Split the data into train and test sets\n",
    "X_train, X_test, y_train, y_test = train_test_split(X, y, test_size=0.2, random_state=42)\n",
    "\n",
    "# Fit the model\n",
    "pipeline.fit(X_train, y_train)\n",
    "\n",
    "# Make predictions on the test set\n",
    "y_pred = pipeline.predict(X_test)\n",
    "\n",
    "# Check accuracy on the test data\n",
    "accuracy = accuracy_score(y_test, y_pred)\n",
    "print(f'Accuracy: {accuracy*100}%')"
   ]
  },
  {
   "cell_type": "code",
   "execution_count": 25,
   "metadata": {},
   "outputs": [
    {
     "name": "stdout",
     "output_type": "stream",
     "text": [
      "       gender  age  income  member\n",
      "36528       1    0       1       0\n",
      "36529       0    1       1       0\n",
      "36530       0    0       0       0\n",
      "36531       1    1       0       0\n",
      "36532       0    0       1       0\n",
      "[1 0]\n"
     ]
    },
    {
     "name": "stderr",
     "output_type": "stream",
     "text": [
      "c:\\Users\\Jimmy\\anaconda3\\lib\\site-packages\\xgboost\\sklearn.py:1395: UserWarning: `use_label_encoder` is deprecated in 1.7.0.\n",
      "  warnings.warn(\"`use_label_encoder` is deprecated in 1.7.0.\")\n"
     ]
    },
    {
     "name": "stdout",
     "output_type": "stream",
     "text": [
      "Accuracy: 63.45969618174353%\n"
     ]
    }
   ],
   "source": [
    "#Test ML avec mon fichier cleané avec loi normale random.uniform à la place de random.normal\n",
    "\n",
    "df = pd.read_csv('profile_dataiku.csv')\n",
    "df[\"age\"]=df[\"age\"].apply(lambda x: int(x))\n",
    "df[\"income\"]= df[\"income\"].apply(lambda x: int(x))\n",
    "df['member'] = df['member'].fillna(0)\n",
    "df['age'] = df['age'].astype(int)\n",
    "df['income'] = df['income'].astype(int)\n",
    "df['member'] = df['member'].astype(int)\n",
    "print(df.tail())\n",
    "print(df[\"member\"].unique())\n",
    "\n",
    "# Define preprocessor\n",
    "preprocessor = ColumnTransformer(\n",
    "        transformers=[\n",
    "            ('num', StandardScaler(), ['age', 'income']),\n",
    "            ('cat', OneHotEncoder(), ['gender'])\n",
    "        ])\n",
    "\n",
    "# Define your model\n",
    "model = XGBClassifier(use_label_encoder=False, eval_metric='logloss')\n",
    "\n",
    "# Create a pipeline that preprocesses the data and then trains the model\n",
    "pipeline = Pipeline(steps=[('preprocessor', preprocessor),\n",
    "                            ('model', model)])\n",
    "\n",
    "# Define your X and y\n",
    "X = df[['gender', 'age', 'income']]\n",
    "y = df['member']\n",
    "\n",
    "# Split the data into train and test sets\n",
    "X_train, X_test, y_train, y_test = train_test_split(X, y, test_size=0.2, random_state=42)\n",
    "\n",
    "# Fit the model\n",
    "pipeline.fit(X_train, y_train)\n",
    "\n",
    "# Make predictions on the test set\n",
    "y_pred = pipeline.predict(X_test)\n",
    "\n",
    "# Check accuracy on the test data\n",
    "accuracy = accuracy_score(y_test, y_pred)\n",
    "print(f'Accuracy: {accuracy*100}%')"
   ]
  },
  {
   "cell_type": "code",
   "execution_count": 26,
   "metadata": {},
   "outputs": [
    {
     "name": "stdout",
     "output_type": "stream",
     "text": [
      "      gender  age  income  member\n",
      "36528      M   37  100976       0\n",
      "36529      F   77  106577       0\n",
      "36530      F   63   81221       0\n",
      "36531      M   86   78556       0\n",
      "36532      F   68  113737       0\n",
      "[1 0]\n"
     ]
    },
    {
     "name": "stderr",
     "output_type": "stream",
     "text": [
      "c:\\Users\\Jimmy\\anaconda3\\lib\\site-packages\\xgboost\\sklearn.py:1395: UserWarning: `use_label_encoder` is deprecated in 1.7.0.\n",
      "  warnings.warn(\"`use_label_encoder` is deprecated in 1.7.0.\")\n"
     ]
    },
    {
     "name": "stdout",
     "output_type": "stream",
     "text": [
      "Accuracy: 99.38415218283836%\n"
     ]
    }
   ],
   "source": [
    "#Test ML avec mon fichier cleané avec loi normale random.normal\n",
    "df = pd.read_csv('profile_member_clean_V2.csv') \n",
    "df[\"age\"]=df[\"age\"].apply(lambda x: int(x))\n",
    "df[\"income\"]= df[\"income\"].apply(lambda x: int(x))\n",
    "df['member'] = df['member'].fillna(0)\n",
    "df['age'] = df['age'].astype(int)\n",
    "df['income'] = df['income'].astype(int)\n",
    "df['member'] = df['member'].astype(int)\n",
    "print(df.tail())\n",
    "print(df[\"member\"].unique())\n",
    "\n",
    "# Define preprocessor\n",
    "preprocessor = ColumnTransformer(\n",
    "        transformers=[\n",
    "            ('num', StandardScaler(), ['age', 'income']),\n",
    "            ('cat', OneHotEncoder(), ['gender'])\n",
    "        ])\n",
    "\n",
    "# Define your model\n",
    "model = XGBClassifier(use_label_encoder=False, eval_metric='logloss')\n",
    "\n",
    "# Create a pipeline that preprocesses the data and then trains the model\n",
    "pipeline = Pipeline(steps=[('preprocessor', preprocessor),\n",
    "                            ('model', model)])\n",
    "\n",
    "# Define your X and y\n",
    "X = df[['gender', 'age', 'income']]\n",
    "y = df['member']\n",
    "\n",
    "# Split the data into train and test sets\n",
    "X_train, X_test, y_train, y_test = train_test_split(X, y, test_size=0.2, random_state=42)\n",
    "\n",
    "# Fit the model\n",
    "pipeline.fit(X_train, y_train)\n",
    "\n",
    "# Make predictions on the test set\n",
    "y_pred = pipeline.predict(X_test)\n",
    "\n",
    "# Check accuracy on the test data\n",
    "accuracy = accuracy_score(y_test, y_pred)\n",
    "print(f'Accuracy: {accuracy*100}%')"
   ]
  },
  {
   "cell_type": "code",
   "execution_count": 27,
   "metadata": {},
   "outputs": [
    {
     "data": {
      "text/html": [
       "<div>\n",
       "<style scoped>\n",
       "    .dataframe tbody tr th:only-of-type {\n",
       "        vertical-align: middle;\n",
       "    }\n",
       "\n",
       "    .dataframe tbody tr th {\n",
       "        vertical-align: top;\n",
       "    }\n",
       "\n",
       "    .dataframe thead th {\n",
       "        text-align: right;\n",
       "    }\n",
       "</style>\n",
       "<table border=\"1\" class=\"dataframe\">\n",
       "  <thead>\n",
       "    <tr style=\"text-align: right;\">\n",
       "      <th></th>\n",
       "      <th>gender</th>\n",
       "      <th>age</th>\n",
       "      <th>income</th>\n",
       "      <th>member</th>\n",
       "    </tr>\n",
       "  </thead>\n",
       "  <tbody>\n",
       "    <tr>\n",
       "      <th>0</th>\n",
       "      <td>F</td>\n",
       "      <td>55</td>\n",
       "      <td>112000</td>\n",
       "      <td>1</td>\n",
       "    </tr>\n",
       "    <tr>\n",
       "      <th>1</th>\n",
       "      <td>F</td>\n",
       "      <td>75</td>\n",
       "      <td>100000</td>\n",
       "      <td>1</td>\n",
       "    </tr>\n",
       "    <tr>\n",
       "      <th>2</th>\n",
       "      <td>M</td>\n",
       "      <td>68</td>\n",
       "      <td>70000</td>\n",
       "      <td>1</td>\n",
       "    </tr>\n",
       "    <tr>\n",
       "      <th>3</th>\n",
       "      <td>M</td>\n",
       "      <td>65</td>\n",
       "      <td>53000</td>\n",
       "      <td>1</td>\n",
       "    </tr>\n",
       "    <tr>\n",
       "      <th>4</th>\n",
       "      <td>M</td>\n",
       "      <td>58</td>\n",
       "      <td>51000</td>\n",
       "      <td>1</td>\n",
       "    </tr>\n",
       "    <tr>\n",
       "      <th>...</th>\n",
       "      <td>...</td>\n",
       "      <td>...</td>\n",
       "      <td>...</td>\n",
       "      <td>...</td>\n",
       "    </tr>\n",
       "    <tr>\n",
       "      <th>38608</th>\n",
       "      <td>M</td>\n",
       "      <td>33</td>\n",
       "      <td>67000</td>\n",
       "      <td>0</td>\n",
       "    </tr>\n",
       "    <tr>\n",
       "      <th>38609</th>\n",
       "      <td>M</td>\n",
       "      <td>46</td>\n",
       "      <td>39000</td>\n",
       "      <td>0</td>\n",
       "    </tr>\n",
       "    <tr>\n",
       "      <th>38610</th>\n",
       "      <td>M</td>\n",
       "      <td>40</td>\n",
       "      <td>89000</td>\n",
       "      <td>0</td>\n",
       "    </tr>\n",
       "    <tr>\n",
       "      <th>38611</th>\n",
       "      <td>M</td>\n",
       "      <td>83</td>\n",
       "      <td>30000</td>\n",
       "      <td>0</td>\n",
       "    </tr>\n",
       "    <tr>\n",
       "      <th>38612</th>\n",
       "      <td>F</td>\n",
       "      <td>43</td>\n",
       "      <td>30000</td>\n",
       "      <td>0</td>\n",
       "    </tr>\n",
       "  </tbody>\n",
       "</table>\n",
       "<p>38613 rows × 4 columns</p>\n",
       "</div>"
      ],
      "text/plain": [
       "      gender  age  income  member\n",
       "0          F   55  112000       1\n",
       "1          F   75  100000       1\n",
       "2          M   68   70000       1\n",
       "3          M   65   53000       1\n",
       "4          M   58   51000       1\n",
       "...      ...  ...     ...     ...\n",
       "38608      M   33   67000       0\n",
       "38609      M   46   39000       0\n",
       "38610      M   40   89000       0\n",
       "38611      M   83   30000       0\n",
       "38612      F   43   30000       0\n",
       "\n",
       "[38613 rows x 4 columns]"
      ]
     },
     "execution_count": 27,
     "metadata": {},
     "output_type": "execute_result"
    }
   ],
   "source": [
    "df = pd.read_csv('df_member_VS_non_member.csv')\n",
    "df"
   ]
  },
  {
   "cell_type": "code",
   "execution_count": 32,
   "metadata": {},
   "outputs": [
    {
     "name": "stderr",
     "output_type": "stream",
     "text": [
      "c:\\Users\\Jimmy\\anaconda3\\lib\\site-packages\\xgboost\\sklearn.py:1395: UserWarning: `use_label_encoder` is deprecated in 1.7.0.\n",
      "  warnings.warn(\"`use_label_encoder` is deprecated in 1.7.0.\")\n"
     ]
    },
    {
     "name": "stdout",
     "output_type": "stream",
     "text": [
      "Accuracy: 63.27851871034572%\n"
     ]
    }
   ],
   "source": [
    "#Test ML avec mon fichier cleané avec loi normale random.normal\n",
    "df = pd.read_csv('df_member_VS_non_member.csv') \n",
    "\n",
    "# Define preprocessor\n",
    "preprocessor = ColumnTransformer(\n",
    "        transformers=[\n",
    "            ('num', StandardScaler(), ['age']),\n",
    "            ('cat', OneHotEncoder(), ['gender'])\n",
    "        ])\n",
    "\n",
    "# Define your model\n",
    "model = XGBClassifier(use_label_encoder=False, eval_metric='logloss')\n",
    "\n",
    "# Create a pipeline that preprocesses the data and then trains the model\n",
    "pipeline = Pipeline(steps=[('preprocessor', preprocessor),\n",
    "                            ('model', model)])\n",
    "\n",
    "# Define your X and y\n",
    "X = df[['gender', 'age']]\n",
    "y = df['member']\n",
    "\n",
    "# Split the data into train and test sets\n",
    "X_train, X_test, y_train, y_test = train_test_split(X, y, test_size=0.2, random_state=42)\n",
    "\n",
    "# Fit the model\n",
    "pipeline.fit(X_train, y_train)\n",
    "\n",
    "# Make predictions on the test set\n",
    "y_pred = pipeline.predict(X_test)\n",
    "\n",
    "# Check accuracy on the test data\n",
    "accuracy = accuracy_score(y_test, y_pred)\n",
    "print(f'Accuracy: {accuracy*100}%')"
   ]
  },
  {
   "cell_type": "code",
   "execution_count": 31,
   "metadata": {},
   "outputs": [
    {
     "name": "stderr",
     "output_type": "stream",
     "text": [
      "c:\\Users\\Jimmy\\anaconda3\\lib\\site-packages\\xgboost\\sklearn.py:1395: UserWarning: `use_label_encoder` is deprecated in 1.7.0.\n",
      "  warnings.warn(\"`use_label_encoder` is deprecated in 1.7.0.\")\n"
     ]
    },
    {
     "name": "stdout",
     "output_type": "stream",
     "text": [
      "Accuracy: 65.09128576977858%\n"
     ]
    }
   ],
   "source": [
    "#Test ML avec mon fichier cleané avec loi normale random.normal\n",
    "df = pd.read_csv('df_member_VS_non_member.csv') \n",
    "\n",
    "# Define preprocessor\n",
    "preprocessor = ColumnTransformer(\n",
    "        transformers=[\n",
    "            ('num', StandardScaler(), ['age', 'income']),\n",
    "                    ])\n",
    "\n",
    "# Define your model\n",
    "model = XGBClassifier(use_label_encoder=False, eval_metric='logloss')\n",
    "\n",
    "# Create a pipeline that preprocesses the data and then trains the model\n",
    "pipeline = Pipeline(steps=[('preprocessor', preprocessor),\n",
    "                            ('model', model)])\n",
    "\n",
    "# Define your X and y\n",
    "X = df[['age', 'income']]\n",
    "y = df['member']\n",
    "\n",
    "# Split the data into train and test sets\n",
    "X_train, X_test, y_train, y_test = train_test_split(X, y, test_size=0.2, random_state=42)\n",
    "\n",
    "# Fit the model\n",
    "pipeline.fit(X_train, y_train)\n",
    "\n",
    "# Make predictions on the test set\n",
    "y_pred = pipeline.predict(X_test)\n",
    "\n",
    "# Check accuracy on the test data\n",
    "accuracy = accuracy_score(y_test, y_pred)\n",
    "print(f'Accuracy: {accuracy*100}%')"
   ]
  },
  {
   "attachments": {},
   "cell_type": "markdown",
   "metadata": {},
   "source": [
    "#GENDER + INCOME"
   ]
  },
  {
   "cell_type": "code",
   "execution_count": 11,
   "metadata": {},
   "outputs": [
    {
     "name": "stdout",
     "output_type": "stream",
     "text": [
      "      gender  age  income  member\n",
      "36528      M   37  100976       0\n",
      "36529      F   77  106577       0\n",
      "36530      F   63   81221       0\n",
      "36531      M   86   78556       0\n",
      "36532      F   68  113737       0\n",
      "[1 0]\n"
     ]
    },
    {
     "name": "stderr",
     "output_type": "stream",
     "text": [
      "c:\\Users\\Jimmy\\anaconda3\\lib\\site-packages\\xgboost\\sklearn.py:1395: UserWarning: `use_label_encoder` is deprecated in 1.7.0.\n",
      "  warnings.warn(\"`use_label_encoder` is deprecated in 1.7.0.\")\n"
     ]
    },
    {
     "name": "stdout",
     "output_type": "stream",
     "text": [
      "Accuracy: 99.79471739427946%\n"
     ]
    }
   ],
   "source": [
    "#Test ML avec mon fichier cleané avec loi normale random.normal\n",
    "df = pd.read_csv('profile_member_clean_V2.csv') \n",
    "df[\"age\"]=df[\"age\"].apply(lambda x: int(x))\n",
    "df[\"income\"]= df[\"income\"].apply(lambda x: int(x))\n",
    "df['member'] = df['member'].fillna(0)\n",
    "df['age'] = df['age'].astype(int)\n",
    "df['income'] = df['income'].astype(int)\n",
    "df['member'] = df['member'].astype(int)\n",
    "print(df.tail())\n",
    "print(df[\"member\"].unique())\n",
    "\n",
    "# Define preprocessor\n",
    "preprocessor = ColumnTransformer(\n",
    "        transformers=[\n",
    "            ('num', StandardScaler(), ['income']),\n",
    "            ('cat', OneHotEncoder(), ['gender'])\n",
    "        ])\n",
    "\n",
    "# Define your model\n",
    "model = XGBClassifier(use_label_encoder=False, eval_metric='logloss')\n",
    "\n",
    "# Create a pipeline that preprocesses the data and then trains the model\n",
    "pipeline = Pipeline(steps=[('preprocessor', preprocessor),\n",
    "                            ('model', model)])\n",
    "\n",
    "# Define your X and y\n",
    "X = df[['gender', 'income']]\n",
    "y = df['member']\n",
    "\n",
    "# Split the data into train and test sets\n",
    "X_train, X_test, y_train, y_test = train_test_split(X, y, test_size=0.2, random_state=42)\n",
    "\n",
    "# Fit the model\n",
    "pipeline.fit(X_train, y_train)\n",
    "\n",
    "# Make predictions on the test set\n",
    "y_pred = pipeline.predict(X_test)\n",
    "\n",
    "# Check accuracy on the test data\n",
    "accuracy = accuracy_score(y_test, y_pred)\n",
    "print(f'Accuracy: {accuracy*100}%')"
   ]
  },
  {
   "cell_type": "code",
   "execution_count": 12,
   "metadata": {},
   "outputs": [],
   "source": [
    "import pandas as pd\n",
    "import numpy as np\n",
    "from sklearn.model_selection import train_test_split\n",
    "from sklearn.preprocessing import StandardScaler, OneHotEncoder\n",
    "from sklearn.compose import ColumnTransformer\n",
    "from xgboost import XGBClassifier\n",
    "from sklearn.metrics import accuracy_score\n",
    "from sklearn.pipeline import Pipeline"
   ]
  },
  {
   "cell_type": "code",
   "execution_count": 13,
   "metadata": {},
   "outputs": [
    {
     "data": {
      "text/html": [
       "<div>\n",
       "<style scoped>\n",
       "    .dataframe tbody tr th:only-of-type {\n",
       "        vertical-align: middle;\n",
       "    }\n",
       "\n",
       "    .dataframe tbody tr th {\n",
       "        vertical-align: top;\n",
       "    }\n",
       "\n",
       "    .dataframe thead th {\n",
       "        text-align: right;\n",
       "    }\n",
       "</style>\n",
       "<table border=\"1\" class=\"dataframe\">\n",
       "  <thead>\n",
       "    <tr style=\"text-align: right;\">\n",
       "      <th></th>\n",
       "      <th>gender</th>\n",
       "      <th>age</th>\n",
       "      <th>income</th>\n",
       "    </tr>\n",
       "  </thead>\n",
       "  <tbody>\n",
       "    <tr>\n",
       "      <th>0</th>\n",
       "      <td>M</td>\n",
       "      <td>37</td>\n",
       "      <td>65000</td>\n",
       "    </tr>\n",
       "    <tr>\n",
       "      <th>1</th>\n",
       "      <td>M</td>\n",
       "      <td>34</td>\n",
       "      <td>51000</td>\n",
       "    </tr>\n",
       "    <tr>\n",
       "      <th>2</th>\n",
       "      <td>M</td>\n",
       "      <td>37</td>\n",
       "      <td>58000</td>\n",
       "    </tr>\n",
       "    <tr>\n",
       "      <th>3</th>\n",
       "      <td>M</td>\n",
       "      <td>38</td>\n",
       "      <td>75000</td>\n",
       "    </tr>\n",
       "    <tr>\n",
       "      <th>4</th>\n",
       "      <td>M</td>\n",
       "      <td>36</td>\n",
       "      <td>58000</td>\n",
       "    </tr>\n",
       "    <tr>\n",
       "      <th>...</th>\n",
       "      <td>...</td>\n",
       "      <td>...</td>\n",
       "      <td>...</td>\n",
       "    </tr>\n",
       "    <tr>\n",
       "      <th>587</th>\n",
       "      <td>F</td>\n",
       "      <td>39</td>\n",
       "      <td>58000</td>\n",
       "    </tr>\n",
       "    <tr>\n",
       "      <th>588</th>\n",
       "      <td>F</td>\n",
       "      <td>33</td>\n",
       "      <td>46000</td>\n",
       "    </tr>\n",
       "    <tr>\n",
       "      <th>589</th>\n",
       "      <td>F</td>\n",
       "      <td>39</td>\n",
       "      <td>52000</td>\n",
       "    </tr>\n",
       "    <tr>\n",
       "      <th>590</th>\n",
       "      <td>F</td>\n",
       "      <td>42</td>\n",
       "      <td>44000</td>\n",
       "    </tr>\n",
       "    <tr>\n",
       "      <th>591</th>\n",
       "      <td>F</td>\n",
       "      <td>37</td>\n",
       "      <td>40000</td>\n",
       "    </tr>\n",
       "  </tbody>\n",
       "</table>\n",
       "<p>592 rows × 3 columns</p>\n",
       "</div>"
      ],
      "text/plain": [
       "    gender  age  income\n",
       "0        M   37   65000\n",
       "1        M   34   51000\n",
       "2        M   37   58000\n",
       "3        M   38   75000\n",
       "4        M   36   58000\n",
       "..     ...  ...     ...\n",
       "587      F   39   58000\n",
       "588      F   33   46000\n",
       "589      F   39   52000\n",
       "590      F   42   44000\n",
       "591      F   37   40000\n",
       "\n",
       "[592 rows x 3 columns]"
      ]
     },
     "execution_count": 13,
     "metadata": {},
     "output_type": "execute_result"
    }
   ],
   "source": [
    "new_df = pd.read_csv('ML_Base_Predict.csv')\n",
    "new_df"
   ]
  },
  {
   "cell_type": "code",
   "execution_count": 33,
   "metadata": {},
   "outputs": [
    {
     "name": "stdout",
     "output_type": "stream",
     "text": [
      "[[0.05118203 0.94881797]\n",
      " [0.1394214  0.8605786 ]\n",
      " [0.09102833 0.90897167]\n",
      " ...\n",
      " [0.0960505  0.9039495 ]\n",
      " [0.08658397 0.913416  ]\n",
      " [0.11554044 0.88445956]]\n"
     ]
    }
   ],
   "source": [
    "import pandas as pd\n",
    "import numpy as np\n",
    "\n",
    "# Charger le nouveau jeu de données dans un DataFrame\n",
    "new_data = pd.read_csv('ML_Base_Predict.csv')\n",
    "\n",
    "# Sélectionner les colonnes nécessaires\n",
    "X_new = new_data[['gender', 'income']]\n",
    "\n",
    "# Appliquer les transformations de prétraitement sur le nouveau jeu de données\n",
    "X_new_transformed = pipeline.named_steps['preprocessor'].transform(X_new)\n",
    "\n",
    "# Effectuer les prédictions sur le nouveau jeu de données\n",
    "y_new_pred = model.predict_proba(X_new_transformed)\n",
    "\n",
    "#predictions = pd.DataFrame({'Prediction': y_new_pred})\n",
    "#print(predictions)\n",
    "\n",
    "print(y_new_pred)\n"
   ]
  },
  {
   "cell_type": "code",
   "execution_count": 38,
   "metadata": {},
   "outputs": [],
   "source": [
    "new_pred_y = pd.DataFrame(y_new_pred)\n"
   ]
  },
  {
   "cell_type": "code",
   "execution_count": 42,
   "metadata": {},
   "outputs": [],
   "source": [
    "type(new_pred_y)\n",
    "new_pred_y.to_csv('new_pred_y.csv')"
   ]
  },
  {
   "cell_type": "code",
   "execution_count": 35,
   "metadata": {},
   "outputs": [],
   "source": [
    "predictions.to_csv('predictions.csv', index=False)"
   ]
  }
 ],
 "metadata": {
  "kernelspec": {
   "display_name": "base",
   "language": "python",
   "name": "python3"
  },
  "language_info": {
   "codemirror_mode": {
    "name": "ipython",
    "version": 3
   },
   "file_extension": ".py",
   "mimetype": "text/x-python",
   "name": "python",
   "nbconvert_exporter": "python",
   "pygments_lexer": "ipython3",
   "version": "3.10.9"
  },
  "orig_nbformat": 4
 },
 "nbformat": 4,
 "nbformat_minor": 2
}
