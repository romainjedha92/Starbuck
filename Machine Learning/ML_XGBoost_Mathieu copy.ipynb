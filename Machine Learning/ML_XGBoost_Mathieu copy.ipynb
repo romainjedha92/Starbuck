{
 "cells": [
  {
   "cell_type": "code",
   "execution_count": 27,
   "metadata": {},
   "outputs": [],
   "source": [
    "import pandas as pd\n",
    "import numpy as np\n",
    "from sklearn.model_selection import train_test_split\n",
    "from sklearn.preprocessing import StandardScaler, OneHotEncoder\n",
    "from sklearn.compose import ColumnTransformer\n",
    "from xgboost import XGBClassifier\n",
    "from sklearn.metrics import accuracy_score\n",
    "from sklearn.pipeline import Pipeline"
   ]
  },
  {
   "cell_type": "code",
   "execution_count": 28,
   "metadata": {},
   "outputs": [
    {
     "name": "stdout",
     "output_type": "stream",
     "text": [
      "      gender  age  income  member\n",
      "36528      M   37  100976       0\n",
      "36529      F   77  106577       0\n",
      "36530      F   63   81221       0\n",
      "36531      M   86   78556       0\n",
      "36532      F   68  113737       0\n",
      "[1 0]\n"
     ]
    },
    {
     "name": "stderr",
     "output_type": "stream",
     "text": [
      "c:\\Users\\Jimmy\\anaconda3\\lib\\site-packages\\xgboost\\sklearn.py:1395: UserWarning: `use_label_encoder` is deprecated in 1.7.0.\n",
      "  warnings.warn(\"`use_label_encoder` is deprecated in 1.7.0.\")\n"
     ]
    },
    {
     "name": "stdout",
     "output_type": "stream",
     "text": [
      "Accuracy: 99.79471739427946%\n"
     ]
    }
   ],
   "source": [
    "\n",
    "df = pd.read_csv('profile_member_vs_non_member.csv')\n",
    "df[\"age\"]=df[\"age\"].apply(lambda x: int(x))\n",
    "df[\"income\"]= df[\"income\"].apply(lambda x: int(x))\n",
    "df['member'] = df['member'].fillna(0)\n",
    "df['age'] = df['age'].astype(int)\n",
    "df['income'] = df['income'].astype(int)\n",
    "df['member'] = df['member'].astype(int)\n",
    "print(df.tail())\n",
    "print(df[\"member\"].unique())\n",
    "\n",
    "# Define preprocessor\n",
    "preprocessor = ColumnTransformer(\n",
    "        transformers=[\n",
    "            ('num', StandardScaler(), ['income']),\n",
    "            ('cat', OneHotEncoder(), ['gender'])\n",
    "        ])\n",
    "\n",
    "# Define your model\n",
    "model = XGBClassifier(use_label_encoder=False, eval_metric='logloss')\n",
    "\n",
    "# Create a pipeline that preprocesses the data and then trains the model\n",
    "pipeline = Pipeline(steps=[('preprocessor', preprocessor),\n",
    "                            ('model', model)])\n",
    "\n",
    "# Define your X and y\n",
    "X = df[['gender', 'income']]\n",
    "y = df['member']\n",
    "\n",
    "# Split the data into train and test sets\n",
    "X_train, X_test, y_train, y_test = train_test_split(X, y, test_size=0.2, random_state=42)\n",
    "\n",
    "# Fit the model\n",
    "pipeline.fit(X_train, y_train)\n",
    "\n",
    "# Make predictions on the test set\n",
    "y_pred = pipeline.predict(X_test)\n",
    "\n",
    "# Check accuracy on the test data\n",
    "accuracy = accuracy_score(y_test, y_pred)\n",
    "print(f'Accuracy: {accuracy*100}%')"
   ]
  },
  {
   "cell_type": "code",
   "execution_count": 36,
   "metadata": {},
   "outputs": [
    {
     "name": "stdout",
     "output_type": "stream",
     "text": [
      "     Prediction\n",
      "0             1\n",
      "1             1\n",
      "2             1\n",
      "3             1\n",
      "4             1\n",
      "..          ...\n",
      "587           1\n",
      "588           1\n",
      "589           1\n",
      "590           1\n",
      "591           1\n",
      "\n",
      "[592 rows x 1 columns]\n"
     ]
    }
   ],
   "source": [
    "import pandas as pd\n",
    "\n",
    "# Charger le nouveau jeu de données dans un DataFrame\n",
    "new_data = pd.read_csv('ML_Base_Predict.csv')\n",
    "\n",
    "# Sélectionner les colonnes nécessaires\n",
    "X_new = new_data[['gender', 'income']]\n",
    "\n",
    "# Appliquer les transformations de prétraitement sur le nouveau jeu de données\n",
    "X_new_transformed = pipeline.named_steps['preprocessor'].transform(X_new)\n",
    "\n",
    "# Effectuer les prédictions sur le nouveau jeu de données\n",
    "y_new_pred = pipeline.named_steps['model'].predict(X_new_transformed)\n",
    "\n",
    "# Afficher les résultats de prédiction\n",
    "predictions = pd.DataFrame({'Prediction': y_new_pred})\n",
    "print(predictions)\n"
   ]
  },
  {
   "cell_type": "code",
   "execution_count": 37,
   "metadata": {},
   "outputs": [],
   "source": [
    "new_pred_y = pd.DataFrame(y_new_pred)"
   ]
  }
 ],
 "metadata": {
  "kernelspec": {
   "display_name": "base",
   "language": "python",
   "name": "python3"
  },
  "language_info": {
   "codemirror_mode": {
    "name": "ipython",
    "version": 3
   },
   "file_extension": ".py",
   "mimetype": "text/x-python",
   "name": "python",
   "nbconvert_exporter": "python",
   "pygments_lexer": "ipython3",
   "version": "3.10.9"
  },
  "orig_nbformat": 4
 },
 "nbformat": 4,
 "nbformat_minor": 2
}
