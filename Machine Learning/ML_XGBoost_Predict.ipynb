{
 "cells": [
  {
   "cell_type": "code",
   "execution_count": 30,
   "metadata": {},
   "outputs": [],
   "source": [
    "import pandas as pd\n",
    "import numpy as np\n",
    "from sklearn.model_selection import train_test_split\n",
    "from sklearn.preprocessing import StandardScaler, OneHotEncoder\n",
    "from sklearn.compose import ColumnTransformer\n",
    "from xgboost import XGBClassifier\n",
    "from sklearn.metrics import accuracy_score\n",
    "from sklearn.pipeline import Pipeline"
   ]
  },
  {
   "cell_type": "code",
   "execution_count": 31,
   "metadata": {},
   "outputs": [
    {
     "data": {
      "text/html": [
       "<div>\n",
       "<style scoped>\n",
       "    .dataframe tbody tr th:only-of-type {\n",
       "        vertical-align: middle;\n",
       "    }\n",
       "\n",
       "    .dataframe tbody tr th {\n",
       "        vertical-align: top;\n",
       "    }\n",
       "\n",
       "    .dataframe thead th {\n",
       "        text-align: right;\n",
       "    }\n",
       "</style>\n",
       "<table border=\"1\" class=\"dataframe\">\n",
       "  <thead>\n",
       "    <tr style=\"text-align: right;\">\n",
       "      <th></th>\n",
       "      <th>gender</th>\n",
       "      <th>age</th>\n",
       "      <th>income</th>\n",
       "    </tr>\n",
       "  </thead>\n",
       "  <tbody>\n",
       "    <tr>\n",
       "      <th>0</th>\n",
       "      <td>M</td>\n",
       "      <td>37</td>\n",
       "      <td>64877</td>\n",
       "    </tr>\n",
       "    <tr>\n",
       "      <th>1</th>\n",
       "      <td>M</td>\n",
       "      <td>34</td>\n",
       "      <td>50530</td>\n",
       "    </tr>\n",
       "    <tr>\n",
       "      <th>2</th>\n",
       "      <td>M</td>\n",
       "      <td>37</td>\n",
       "      <td>58102</td>\n",
       "    </tr>\n",
       "    <tr>\n",
       "      <th>3</th>\n",
       "      <td>M</td>\n",
       "      <td>38</td>\n",
       "      <td>74821</td>\n",
       "    </tr>\n",
       "    <tr>\n",
       "      <th>4</th>\n",
       "      <td>M</td>\n",
       "      <td>36</td>\n",
       "      <td>57656</td>\n",
       "    </tr>\n",
       "    <tr>\n",
       "      <th>...</th>\n",
       "      <td>...</td>\n",
       "      <td>...</td>\n",
       "      <td>...</td>\n",
       "    </tr>\n",
       "    <tr>\n",
       "      <th>587</th>\n",
       "      <td>F</td>\n",
       "      <td>39</td>\n",
       "      <td>58001</td>\n",
       "    </tr>\n",
       "    <tr>\n",
       "      <th>588</th>\n",
       "      <td>F</td>\n",
       "      <td>33</td>\n",
       "      <td>45672</td>\n",
       "    </tr>\n",
       "    <tr>\n",
       "      <th>589</th>\n",
       "      <td>F</td>\n",
       "      <td>39</td>\n",
       "      <td>51994</td>\n",
       "    </tr>\n",
       "    <tr>\n",
       "      <th>590</th>\n",
       "      <td>F</td>\n",
       "      <td>42</td>\n",
       "      <td>43971</td>\n",
       "    </tr>\n",
       "    <tr>\n",
       "      <th>591</th>\n",
       "      <td>F</td>\n",
       "      <td>37</td>\n",
       "      <td>39634</td>\n",
       "    </tr>\n",
       "  </tbody>\n",
       "</table>\n",
       "<p>592 rows × 3 columns</p>\n",
       "</div>"
      ],
      "text/plain": [
       "    gender  age  income\n",
       "0        M   37   64877\n",
       "1        M   34   50530\n",
       "2        M   37   58102\n",
       "3        M   38   74821\n",
       "4        M   36   57656\n",
       "..     ...  ...     ...\n",
       "587      F   39   58001\n",
       "588      F   33   45672\n",
       "589      F   39   51994\n",
       "590      F   42   43971\n",
       "591      F   37   39634\n",
       "\n",
       "[592 rows x 3 columns]"
      ]
     },
     "execution_count": 31,
     "metadata": {},
     "output_type": "execute_result"
    }
   ],
   "source": [
    "df = pd.read_csv('ML_Base_pour_Predict.csv')\n",
    "df"
   ]
  },
  {
   "cell_type": "code",
   "execution_count": 36,
   "metadata": {},
   "outputs": [
    {
     "name": "stdout",
     "output_type": "stream",
     "text": [
      "    gender  age  income\n",
      "0        M   37   65000\n",
      "1        M   34   51000\n",
      "2        M   37   58000\n",
      "3        M   38   75000\n",
      "4        M   36   58000\n",
      "..     ...  ...     ...\n",
      "587      F   39   58000\n",
      "588      F   33   46000\n",
      "589      F   39   52000\n",
      "590      F   42   44000\n",
      "591      F   37   40000\n",
      "\n",
      "[592 rows x 3 columns]\n"
     ]
    }
   ],
   "source": [
    "def round_income(income):\n",
    "    if income % 1000 >= 500:\n",
    "        rounded_income = (income // 1000 + 1) * 1000\n",
    "    else:\n",
    "        rounded_income = (income // 1000) * 1000\n",
    "    return rounded_income\n",
    "\n",
    "import pandas as pd\n",
    "\n",
    "# Charger votre dataset\n",
    "df = pd.read_csv('ML_Base_pour_Predict.csv')\n",
    "\n",
    "# Appliquer la fonction round_income à la colonne 'income'\n",
    "df['income'] = df['income'].apply(round_income)\n",
    "\n",
    "# Afficher le DataFrame résultant\n",
    "print(df)"
   ]
  },
  {
   "cell_type": "code",
   "execution_count": 37,
   "metadata": {},
   "outputs": [],
   "source": [
    "df.to_csv('ML_Base_Predict.csv', index=False)"
   ]
  },
  {
   "attachments": {},
   "cell_type": "markdown",
   "metadata": {},
   "source": [
    "#GENDER + INCOME"
   ]
  },
  {
   "cell_type": "code",
   "execution_count": 41,
   "metadata": {},
   "outputs": [],
   "source": [
    "import pandas as pd\n",
    "import numpy as np\n",
    "from sklearn.model_selection import train_test_split\n",
    "from sklearn.preprocessing import StandardScaler, OneHotEncoder\n",
    "from sklearn.compose import ColumnTransformer\n",
    "from xgboost import XGBClassifier\n",
    "from sklearn.metrics import accuracy_score\n",
    "from sklearn.pipeline import Pipeline"
   ]
  },
  {
   "cell_type": "code",
   "execution_count": 42,
   "metadata": {},
   "outputs": [
    {
     "name": "stdout",
     "output_type": "stream",
     "text": [
      "      gender  age  income  member\n",
      "38608      M   33   67000       0\n",
      "38609      M   46   39000       0\n",
      "38610      M   40   89000       0\n",
      "38611      M   83   30000       0\n",
      "38612      F   43   30000       0\n",
      "[1 0]\n"
     ]
    },
    {
     "name": "stderr",
     "output_type": "stream",
     "text": [
      "c:\\Users\\Jimmy\\anaconda3\\lib\\site-packages\\xgboost\\sklearn.py:1395: UserWarning: `use_label_encoder` is deprecated in 1.7.0.\n",
      "  warnings.warn(\"`use_label_encoder` is deprecated in 1.7.0.\")\n"
     ]
    },
    {
     "name": "stdout",
     "output_type": "stream",
     "text": [
      "Accuracy: 63.666968794509906%\n"
     ]
    }
   ],
   "source": [
    "#Test ML avec mon fichier cleané avec loi normale random.normal\n",
    "df = pd.read_csv('df_member_VS_non_member.csv') \n",
    "df[\"age\"]=df[\"age\"].apply(lambda x: int(x))\n",
    "df[\"income\"]= df[\"income\"].apply(lambda x: int(x))\n",
    "df['member'] = df['member'].fillna(0)\n",
    "df['age'] = df['age'].astype(int)\n",
    "df['income'] = df['income'].astype(int)\n",
    "df['member'] = df['member'].astype(int)\n",
    "print(df.tail())\n",
    "print(df[\"member\"].unique())\n",
    "\n",
    "# Define preprocessor\n",
    "preprocessor = ColumnTransformer(\n",
    "        transformers=[\n",
    "            ('num', StandardScaler(), ['income']),\n",
    "            ('cat', OneHotEncoder(), ['gender'])\n",
    "        ])\n",
    "\n",
    "# Define your model\n",
    "model = XGBClassifier(use_label_encoder=False, eval_metric='logloss')\n",
    "\n",
    "# Create a pipeline that preprocesses the data and then trains the model\n",
    "pipeline = Pipeline(steps=[('preprocessor', preprocessor),\n",
    "                            ('model', model)])\n",
    "\n",
    "# Define your X and y\n",
    "X = df[['gender', 'income']]\n",
    "y = df['member']\n",
    "\n",
    "# Split the data into train and test sets\n",
    "X_train, X_test, y_train, y_test = train_test_split(X, y, test_size=0.2, random_state=42)\n",
    "\n",
    "# Fit the model\n",
    "pipeline.fit(X_train, y_train)\n",
    "\n",
    "# Make predictions on the test set\n",
    "y_pred = pipeline.predict(X_test)\n",
    "\n",
    "# Check accuracy on the test data\n",
    "accuracy = accuracy_score(y_test, y_pred)\n",
    "print(f'Accuracy: {accuracy*100}%')"
   ]
  }
 ],
 "metadata": {
  "kernelspec": {
   "display_name": "base",
   "language": "python",
   "name": "python3"
  },
  "language_info": {
   "codemirror_mode": {
    "name": "ipython",
    "version": 3
   },
   "file_extension": ".py",
   "mimetype": "text/x-python",
   "name": "python",
   "nbconvert_exporter": "python",
   "pygments_lexer": "ipython3",
   "version": "3.10.9"
  },
  "orig_nbformat": 4
 },
 "nbformat": 4,
 "nbformat_minor": 2
}
